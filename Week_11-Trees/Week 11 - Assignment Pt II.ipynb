{
 "cells": [
  {
   "cell_type": "markdown",
   "id": "6a1ee9e1",
   "metadata": {},
   "source": [
    "# Week 11 - Assignment Pt II\n",
    "\n",
    "https://github.com/mwaskom/seaborn-data\n",
    "\n",
    "* Copy and paste the Grid Search code from the Week 11 lecture and run it with the following dataset\n",
    "* Using the best hyperparameters, fit and evaluate a random forest model"
   ]
  },
  {
   "cell_type": "code",
   "execution_count": null,
   "id": "684e1a4c",
   "metadata": {},
   "outputs": [],
   "source": [
    "# create seed\n",
    "import random\n",
    "\n",
    "# provide your student id as stud_id\n",
    "stud_id = ...\n",
    "my_seed = random.seed(stud_id)"
   ]
  },
  {
   "cell_type": "code",
   "execution_count": null,
   "id": "d07fba0b",
   "metadata": {},
   "outputs": [],
   "source": [
    "import string\n",
    "import random\n",
    "\n",
    "columns = [''.join(random.choices(string.ascii_lowercase, k=6)) for _ in range(7)]\n",
    "columns.append('class')\n",
    "columns"
   ]
  },
  {
   "cell_type": "code",
   "execution_count": null,
   "id": "ca3d18eb",
   "metadata": {},
   "outputs": [],
   "source": [
    "# run this cell to see the table names; dv = dependent variable\n",
    "import sqlite3\n",
    "\n",
    "conn = sqlite3.connect('week11.db')\n",
    "cursor = conn.cursor()\n",
    "cursor.execute('SELECT name FROM sqlite_schema').fetchall()"
   ]
  },
  {
   "cell_type": "markdown",
   "id": "be87ba74",
   "metadata": {},
   "source": [
    "Each table has a field called `id`. Use this field to join the tables in the cell below."
   ]
  },
  {
   "cell_type": "code",
   "execution_count": null,
   "id": "27f40761",
   "metadata": {},
   "outputs": [],
   "source": [
    "# construct the dataframe and join the three tables\n",
    "import numpy as np\n",
    "import pandas as pd\n",
    "import sqlite3\n",
    "\n",
    "conn = sqlite3.connect('week11.db')\n",
    "\n",
    "# https://javarevisited.blogspot.com/2012/11/how-to-join-three-tables-in-sql-query-mysql-sqlserver.html\n",
    "# use the order provided\n",
    "query ='''\n",
    "SELECT * \n",
    "FROM ... # numerical_features\n",
    "JOIN ... # categorical_features\n",
    "JOIN ... # dv\n",
    "'''\n",
    "\n",
    "df = pd.read_sql_query(query, conn)\n",
    "df.drop('id', axis=1, inplace=True)\n",
    "df.columns = columns\n",
    "df = df[np.random.default_rng(seed=my_seed).permutation(df.columns.values)]\n",
    "print(df.shape)\n",
    "print(df.head())"
   ]
  },
  {
   "cell_type": "code",
   "execution_count": null,
   "id": "0029d89a",
   "metadata": {},
   "outputs": [],
   "source": [
    "# find the value counts / labels in the categorical features\n",
    "for feat in df.columns:\n",
    "    if df[feat].dtypes == 'object':\n",
    "        print(df[feat].value_counts())"
   ]
  },
  {
   "cell_type": "code",
   "execution_count": null,
   "id": "52fdca8d",
   "metadata": {},
   "outputs": [],
   "source": [
    "# train test split; Class is the dependent variable\n"
   ]
  },
  {
   "cell_type": "code",
   "execution_count": null,
   "id": "248fdc12",
   "metadata": {},
   "outputs": [],
   "source": [
    "# encode bi label feature\n"
   ]
  },
  {
   "cell_type": "code",
   "execution_count": null,
   "id": "02e565b9",
   "metadata": {},
   "outputs": [],
   "source": [
    "# frequency encode feature with more than 5 labels\n"
   ]
  },
  {
   "cell_type": "code",
   "execution_count": null,
   "id": "39ba1bf6",
   "metadata": {},
   "outputs": [],
   "source": [
    "# one hot encode feature with 4 features\n"
   ]
  },
  {
   "cell_type": "code",
   "execution_count": null,
   "id": "741adfa5",
   "metadata": {},
   "outputs": [],
   "source": [
    "# print X_train head\n"
   ]
  },
  {
   "cell_type": "code",
   "execution_count": null,
   "id": "ec658fe8",
   "metadata": {},
   "outputs": [],
   "source": [
    "# paste grid search code from lecture here\n"
   ]
  },
  {
   "cell_type": "code",
   "execution_count": null,
   "id": "aa295ee7",
   "metadata": {},
   "outputs": [],
   "source": [
    "# build your final RandomForestClassifier model here using set_params and best_params; provide an accuracy score\n"
   ]
  }
 ],
 "metadata": {
  "kernelspec": {
   "display_name": "Python 3 (ipykernel)",
   "language": "python",
   "name": "python3"
  },
  "language_info": {
   "codemirror_mode": {
    "name": "ipython",
    "version": 3
   },
   "file_extension": ".py",
   "mimetype": "text/x-python",
   "name": "python",
   "nbconvert_exporter": "python",
   "pygments_lexer": "ipython3",
   "version": "3.9.7"
  }
 },
 "nbformat": 4,
 "nbformat_minor": 5
}
