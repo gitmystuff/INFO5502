{
 "cells": [
  {
   "cell_type": "markdown",
   "id": "65a9dcc6",
   "metadata": {},
   "source": [
    "# Week 11: Assignment Pt I"
   ]
  },
  {
   "cell_type": "markdown",
   "id": "772d422d",
   "metadata": {},
   "source": [
    "## Examining the Therapeutic Touch: Tests of Significance / Tests of Means"
   ]
  },
  {
   "cell_type": "markdown",
   "id": "8f292cc9",
   "metadata": {},
   "source": [
    "## Terminology Review\n",
    "\n",
    "### Null Hypothesis\n",
    "\n",
    "* Observations are no more significant than chance\n",
    "\n",
    "### Alternate Hypothesis\n",
    "\n",
    "* Observations likely due to something other than chance\n",
    "\n",
    "### Population z-score\n",
    "\n",
    "$\\Large{\\frac{(x - \\mu)}{\\sigma}}$\n",
    "\n",
    "* this z score tells you how many standard deviations from the mean your score is\n",
    "\n",
    "### Sample z-score\n",
    "\n",
    "$\\Large{\\frac{(x - \\bar{x})}{s}}$\n",
    "\n",
    "### Standard Error of the Mean: z-test\n",
    "\n",
    "$\\Large{\\frac{(x - \\mu)}{\\frac{\\sigma}{\\sqrt{n}}}}$\n",
    "\n",
    "* where $\\large{\\frac{\\sigma}{\\sqrt{n}}}$ is known as `se`\n",
    "* this z-score tells you how many standard errors there are between the sample mean and the population mean\n",
    "\n",
    "A z-test is a statistical test to determine whether two population means are different when the variances are known and the sample size is large. A z-test is a hypothesis test in which the z-statistic follows a normal distribution. A z-statistic, or z-score, is a number representing the result from the z-test.\n",
    "\n",
    "https://www.investopedia.com/terms/z/z-test.asp\n",
    "\n",
    "If z is very large then\n",
    "* Null is true and sample is rare\n",
    "* Null should be rejected\n",
    "\n",
    "### Computing t-score\n",
    "\n",
    "$\\Large{\\frac{(\\bar{x} - \\mu)}{\\frac{s}{\\sqrt{n}}}}$\n",
    "\n",
    "* where $\\bar{x}$ = sample mean\n",
    "* $\\mu$ = population mean\n",
    "* $s$ = sample standard deviation\n",
    "* $\\sqrt{n}$ = the square root of the sample size\n",
    "\n",
    "T-tests are statistical hypothesis tests that you use to analyze one or two sample means. Depending on the t-test that you use, you can compare a sample mean to a hypothesized value, the means of two independent samples, or the difference between paired samples. ... The term “t-test” refers to the fact that these hypothesis tests use t-values to evaluate your sample data. T-values are a type of test statistic. Hypothesis tests use the test statistic that is calculated from your sample to compare your sample to the null hypothesis. If the test statistic is extreme enough, this indicates that your data are so incompatible with the null hypothesis that you can reject the null.\n",
    "\n",
    "https://statisticsbyjim.com/hypothesis-testing/t-tests-t-values-t-distributions-probabilities/\n",
    "\n",
    "### p-value\n",
    "\n",
    "The p-value, or probability value, tells you how likely it is that your data could have occurred under the null hypothesis. It does this by calculating the likelihood of your test statistic, which is the number calculated by a statistical test using your data.\n",
    "\n",
    "https://www.scribbr.com/statistics/p-value/"
   ]
  },
  {
   "cell_type": "markdown",
   "id": "56764336",
   "metadata": {},
   "source": [
    "## What is the Therapeutic Touch\n",
    "\n",
    "The Therapeutic Touch (TT) is the idea that everyone can feel the Human Energy Field (HEF) around individuals.  Those who practice TT have described different people's HEFs as \"warm as Jell-O\" and \"tactile as taffy.\" \n",
    "\n",
    "TT was a popular technique used throughout the 20th century that was toted as a great way to bring balance to a person's health. Certain practitioners claim they have the ability to feel the HEF and can massage it in order to promote health and relaxation in individuals.\n",
    "\n",
    "### Emily Rosa\n",
    "\n",
    "[Emily Rosa](https://en.wikipedia.org/wiki/Emily_Rosa) was a 4th grade student who was very familiar with the world of TT, thanks to her parents, who were both medical practitioners and skeptics of TT.\n",
    "\n",
    "For her 4th grade science fair project, Emily decided to test whether or not TT practitioners could truly interact with a person's HEF. She later went on to publish her work in TT, becoming the youngest person to have a research paper published in a peer reviewed medical journal."
   ]
  },
  {
   "cell_type": "markdown",
   "id": "27fa48cc",
   "metadata": {},
   "source": [
    "### Emily's Experiment\n",
    "\n",
    "Emily's experiment was clean, simple, and effective. Due to her parents' occupations in the medical field, she had wide access to people who claimed to be TT practitioners. \n",
    "\n",
    "Emily took 15 TT practitioners and used them for her science experiment. She would take a TT practitioner and ask them to extend their hands through a screen (which they can't see through). Emily would be on the other side and would flip a fair coin. Depending on how the coin landed, she would put out either her left hand or her right hand. The TT practitioner would then have to answer which hand Emily put out. If a pracitioner could truly interact with a person's HEF, it would be expected that they answered correctly. She repeated this process 10 times for each practitioner.\n",
    "\n",
    "Overall, through 150 samples, the practitioner picked the correct hand 70 times. These numbers were used to calculate the observed proportion.\n",
    "\n",
    "Emily's main goal here was to test whether or not the TT practicioners' choices were better than random chance, like the flip of a coin. In most medical experiments, this is the norm. We want to test whether or not the treatment has an effect, *not* whether or not the treatment actually works. \n",
    "\n",
    "We will now begin to formulate this experiment in terms of the terminology we've discussed so far. "
   ]
  },
  {
   "cell_type": "markdown",
   "id": "9cef711b",
   "metadata": {},
   "source": [
    "State the Null and Alternative Hypothesis for Emily’s experiment regarding chance (the status quo). Discuss this with your team. "
   ]
  },
  {
   "cell_type": "markdown",
   "id": "ad33ce6b",
   "metadata": {},
   "source": [
    "_Type your answer here, replacing this text._"
   ]
  },
  {
   "cell_type": "markdown",
   "id": "3b6305e2",
   "metadata": {},
   "source": [
    "The goal now is to see if there is a difference between the observed proportion and the expected proportion and if the difference was due to something other than chance, if there was a difference. Let's start with the expected proportion of chance with two choices (right hand, left hand)? This value is a proportion, so it is a decimal number between 0 and 1."
   ]
  },
  {
   "cell_type": "code",
   "execution_count": null,
   "id": "c1c64013",
   "metadata": {},
   "outputs": [],
   "source": [
    "# type your calculations here\n",
    "expected_proportion = ...\n",
    "expected_proportion"
   ]
  },
  {
   "cell_type": "markdown",
   "id": "bdd33bf9",
   "metadata": {},
   "source": [
    "Remember that the practitioner got the correct answer 70 times out of 150 tries. This is the observed proportion?  \n",
    "\n",
    "Calculate the observed proportion for Emily's experiment."
   ]
  },
  {
   "cell_type": "code",
   "execution_count": null,
   "id": "2e7b5749",
   "metadata": {},
   "outputs": [],
   "source": [
    "# type your calculations here\n",
    "observed_proportion = ...\n",
    "observed_proportion"
   ]
  },
  {
   "cell_type": "markdown",
   "id": "dbfa7dc6",
   "metadata": {},
   "source": [
    "Calculate the standard deviation, or sd, of the sample where p is the expected proportion. \n",
    "\n",
    "* Remember this? $sd = \\sqrt{\\frac{1}{n-1} \\sum{(x - \\bar{x})^2}}$\n",
    "* All we have is a proportion, so $sd = \\sqrt{\\frac{p (1-p) n}{n-1} }$"
   ]
  },
  {
   "cell_type": "code",
   "execution_count": null,
   "id": "39ae7466",
   "metadata": {},
   "outputs": [],
   "source": [
    "# type your calculations here\n",
    "standard_deviation = ...\n",
    "standard_deviation"
   ]
  },
  {
   "cell_type": "markdown",
   "id": "7ff9cf40",
   "metadata": {},
   "source": [
    "We usually use a statistic to help determine which model the evidence points towards. What is a statistic that we can use to compare outcomes under Emily’s model to what was observed? Let's start with calculating the `standard error`, or se, using this formula:\n",
    "\n",
    "$\\Large{\\frac{sd}{\\sqrt{n}}}$"
   ]
  },
  {
   "cell_type": "code",
   "execution_count": null,
   "id": "c533e10e",
   "metadata": {},
   "outputs": [],
   "source": [
    "# calculate standard error here\n",
    "standard_error = ...\n",
    "standard_error"
   ]
  },
  {
   "cell_type": "markdown",
   "id": "3755850a",
   "metadata": {},
   "source": [
    "Assign `z_stat` to a formula that Emily can use to find a useful statistic for her hypothesis.\n",
    "\n",
    "Remember z-statistic is:\n",
    "\n",
    "$\\Large{\\frac{x - \\mu}{se}}$"
   ]
  },
  {
   "cell_type": "code",
   "execution_count": null,
   "id": "f1469945",
   "metadata": {},
   "outputs": [],
   "source": [
    "# calculate z-test here\n",
    "z_stat = ...\n",
    "z_stat"
   ]
  },
  {
   "cell_type": "code",
   "execution_count": null,
   "id": "30a73193",
   "metadata": {},
   "outputs": [],
   "source": [
    "# calculate the p-value\n",
    "from scipy import stats\n",
    "\n",
    "p_val = stats.norm.sf(abs(z_stat))\n",
    "p_val"
   ]
  },
  {
   "cell_type": "markdown",
   "id": "ac5164c2",
   "metadata": {},
   "source": [
    "Given an alpha of .05 what can we conclude about Emily's null hypothesis? Why?"
   ]
  },
  {
   "cell_type": "markdown",
   "id": "53795f59",
   "metadata": {},
   "source": [
    "_Type your answer here, replacing this text._"
   ]
  }
 ],
 "metadata": {
  "kernelspec": {
   "display_name": "Python 3 (ipykernel)",
   "language": "python",
   "name": "python3"
  },
  "language_info": {
   "codemirror_mode": {
    "name": "ipython",
    "version": 3
   },
   "file_extension": ".py",
   "mimetype": "text/x-python",
   "name": "python",
   "nbconvert_exporter": "python",
   "pygments_lexer": "ipython3",
   "version": "3.9.7"
  }
 },
 "nbformat": 4,
 "nbformat_minor": 5
}
