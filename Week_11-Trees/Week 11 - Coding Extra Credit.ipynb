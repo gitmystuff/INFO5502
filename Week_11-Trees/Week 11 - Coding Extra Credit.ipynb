{
 "cells": [
  {
   "cell_type": "markdown",
   "id": "477f358c",
   "metadata": {},
   "source": [
    "# Week 10 - Coding Extra Credit"
   ]
  },
  {
   "cell_type": "code",
   "execution_count": null,
   "id": "4da5964b",
   "metadata": {},
   "outputs": [],
   "source": [
    "# get data\n",
    "import seaborn as sns\n",
    "\n",
    "df = sns.load_dataset('mpg')\n",
    "df.head()"
   ]
  },
  {
   "cell_type": "code",
   "execution_count": null,
   "id": "5e7303cc",
   "metadata": {},
   "outputs": [],
   "source": [
    "# df info\n",
    "df.info()"
   ]
  },
  {
   "cell_type": "code",
   "execution_count": null,
   "id": "2c821ce4",
   "metadata": {},
   "outputs": [],
   "source": [
    "# add characters to a column\n",
    "import numpy as np\n",
    "import pandas as pd\n",
    "\n",
    "df['mpg'] = df['mpg'].apply(lambda x: str(x) + ' mpg' if pd.notnull(x) else x).astype('object')\n",
    "df.head()"
   ]
  },
  {
   "cell_type": "code",
   "execution_count": null,
   "id": "7ec45fd9",
   "metadata": {},
   "outputs": [],
   "source": [
    "# df info\n"
   ]
  },
  {
   "cell_type": "code",
   "execution_count": null,
   "id": "65698718",
   "metadata": {},
   "outputs": [],
   "source": [
    "# lower needs str\n"
   ]
  },
  {
   "cell_type": "code",
   "execution_count": null,
   "id": "87c68afb",
   "metadata": {},
   "outputs": [],
   "source": [
    "# upper needs str\n"
   ]
  },
  {
   "cell_type": "code",
   "execution_count": null,
   "id": "9652e137",
   "metadata": {},
   "outputs": [],
   "source": [
    "# title needs str\n"
   ]
  },
  {
   "cell_type": "code",
   "execution_count": null,
   "id": "5aa00dd0",
   "metadata": {},
   "outputs": [],
   "source": [
    "# len and sample\n"
   ]
  },
  {
   "cell_type": "code",
   "execution_count": null,
   "id": "55b4b4a3",
   "metadata": {},
   "outputs": [],
   "source": [
    "# replace needs str\n"
   ]
  },
  {
   "cell_type": "code",
   "execution_count": null,
   "id": "dedceda2",
   "metadata": {},
   "outputs": [],
   "source": [
    "# df info\n"
   ]
  },
  {
   "cell_type": "code",
   "execution_count": null,
   "id": "f53937bf",
   "metadata": {},
   "outputs": [],
   "source": [
    "# len of mpg\n"
   ]
  },
  {
   "cell_type": "code",
   "execution_count": null,
   "id": "b1386e16",
   "metadata": {},
   "outputs": [],
   "source": [
    "# strip lstrip rstrip\n"
   ]
  },
  {
   "cell_type": "code",
   "execution_count": null,
   "id": "fcac6897",
   "metadata": {},
   "outputs": [],
   "source": [
    "# mpg as type float and df info\n"
   ]
  },
  {
   "cell_type": "code",
   "execution_count": null,
   "id": "cdc733c9",
   "metadata": {},
   "outputs": [],
   "source": [
    "# str contains\n"
   ]
  },
  {
   "cell_type": "code",
   "execution_count": null,
   "id": "66c992a3",
   "metadata": {},
   "outputs": [],
   "source": [
    "# review head()\n"
   ]
  },
  {
   "cell_type": "code",
   "execution_count": null,
   "id": "4b20f9e0",
   "metadata": {},
   "outputs": [],
   "source": [
    "# columns upper\n"
   ]
  },
  {
   "cell_type": "code",
   "execution_count": null,
   "id": "23094391",
   "metadata": {},
   "outputs": [],
   "source": [
    "# columns lower\n"
   ]
  },
  {
   "cell_type": "code",
   "execution_count": null,
   "id": "f89979da",
   "metadata": {},
   "outputs": [],
   "source": [
    "# columns title\n"
   ]
  },
  {
   "cell_type": "code",
   "execution_count": null,
   "id": "122ee5d5",
   "metadata": {},
   "outputs": [],
   "source": [
    "# str split\n"
   ]
  },
  {
   "cell_type": "code",
   "execution_count": null,
   "id": "ac1c7594",
   "metadata": {},
   "outputs": [],
   "source": [
    "# str split get chaining\n"
   ]
  },
  {
   "cell_type": "code",
   "execution_count": null,
   "id": "7ba52363",
   "metadata": {},
   "outputs": [],
   "source": [
    "# str split get value_counts chaining\n"
   ]
  },
  {
   "cell_type": "code",
   "execution_count": null,
   "id": "b7c6093d",
   "metadata": {},
   "outputs": [],
   "source": [
    "# str split expand\n"
   ]
  },
  {
   "cell_type": "code",
   "execution_count": null,
   "id": "9f0aa485",
   "metadata": {},
   "outputs": [],
   "source": [
    "# expand df\n"
   ]
  },
  {
   "cell_type": "code",
   "execution_count": null,
   "id": "f1c17d4e",
   "metadata": {},
   "outputs": [],
   "source": [
    "# find Misc4 notnull\n"
   ]
  },
  {
   "cell_type": "code",
   "execution_count": null,
   "id": "41260b02",
   "metadata": {},
   "outputs": [],
   "source": [
    "# reload data\n"
   ]
  },
  {
   "cell_type": "code",
   "execution_count": null,
   "id": "3d5af81b",
   "metadata": {},
   "outputs": [],
   "source": [
    "# use expand and n\n"
   ]
  }
 ],
 "metadata": {
  "kernelspec": {
   "display_name": "Python 3 (ipykernel)",
   "language": "python",
   "name": "python3"
  },
  "language_info": {
   "codemirror_mode": {
    "name": "ipython",
    "version": 3
   },
   "file_extension": ".py",
   "mimetype": "text/x-python",
   "name": "python",
   "nbconvert_exporter": "python",
   "pygments_lexer": "ipython3",
   "version": "3.9.7"
  }
 },
 "nbformat": 4,
 "nbformat_minor": 5
}
