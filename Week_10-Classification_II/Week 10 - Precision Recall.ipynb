{
 "cells": [
  {
   "cell_type": "markdown",
   "id": "1fdb6d8e",
   "metadata": {},
   "source": [
    "# Week 10 - Precision Recall\n",
    "\n",
    "Addresses\n",
    "* Imbalanced Binary Class\n",
    "* Precision Recall Tradeoff"
   ]
  },
  {
   "cell_type": "code",
   "execution_count": 1,
   "id": "45018489",
   "metadata": {},
   "outputs": [
    {
     "name": "stdout",
     "output_type": "stream",
     "text": [
      "(284807, 31)\n",
      "   Time        V1        V2        V3        V4        V5        V6        V7  \\\n",
      "0   0.0 -1.359807 -0.072781  2.536347  1.378155 -0.338321  0.462388  0.239599   \n",
      "1   0.0  1.191857  0.266151  0.166480  0.448154  0.060018 -0.082361 -0.078803   \n",
      "2   1.0 -1.358354 -1.340163  1.773209  0.379780 -0.503198  1.800499  0.791461   \n",
      "3   1.0 -0.966272 -0.185226  1.792993 -0.863291 -0.010309  1.247203  0.237609   \n",
      "4   2.0 -1.158233  0.877737  1.548718  0.403034 -0.407193  0.095921  0.592941   \n",
      "\n",
      "         V8        V9  ...       V21       V22       V23       V24       V25  \\\n",
      "0  0.098698  0.363787  ... -0.018307  0.277838 -0.110474  0.066928  0.128539   \n",
      "1  0.085102 -0.255425  ... -0.225775 -0.638672  0.101288 -0.339846  0.167170   \n",
      "2  0.247676 -1.514654  ...  0.247998  0.771679  0.909412 -0.689281 -0.327642   \n",
      "3  0.377436 -1.387024  ... -0.108300  0.005274 -0.190321 -1.175575  0.647376   \n",
      "4 -0.270533  0.817739  ... -0.009431  0.798278 -0.137458  0.141267 -0.206010   \n",
      "\n",
      "        V26       V27       V28  Amount  Class  \n",
      "0 -0.189115  0.133558 -0.021053  149.62      0  \n",
      "1  0.125895 -0.008983  0.014724    2.69      0  \n",
      "2 -0.139097 -0.055353 -0.059752  378.66      0  \n",
      "3 -0.221929  0.062723  0.061458  123.50      0  \n",
      "4  0.502292  0.219422  0.215153   69.99      0  \n",
      "\n",
      "[5 rows x 31 columns]\n",
      "<class 'pandas.core.frame.DataFrame'>\n",
      "RangeIndex: 284807 entries, 0 to 284806\n",
      "Data columns (total 31 columns):\n",
      " #   Column  Non-Null Count   Dtype  \n",
      "---  ------  --------------   -----  \n",
      " 0   Time    284807 non-null  float64\n",
      " 1   V1      284807 non-null  float64\n",
      " 2   V2      284807 non-null  float64\n",
      " 3   V3      284807 non-null  float64\n",
      " 4   V4      284807 non-null  float64\n",
      " 5   V5      284807 non-null  float64\n",
      " 6   V6      284807 non-null  float64\n",
      " 7   V7      284807 non-null  float64\n",
      " 8   V8      284807 non-null  float64\n",
      " 9   V9      284807 non-null  float64\n",
      " 10  V10     284807 non-null  float64\n",
      " 11  V11     284807 non-null  float64\n",
      " 12  V12     284807 non-null  float64\n",
      " 13  V13     284807 non-null  float64\n",
      " 14  V14     284807 non-null  float64\n",
      " 15  V15     284807 non-null  float64\n",
      " 16  V16     284807 non-null  float64\n",
      " 17  V17     284807 non-null  float64\n",
      " 18  V18     284807 non-null  float64\n",
      " 19  V19     284807 non-null  float64\n",
      " 20  V20     284807 non-null  float64\n",
      " 21  V21     284807 non-null  float64\n",
      " 22  V22     284807 non-null  float64\n",
      " 23  V23     284807 non-null  float64\n",
      " 24  V24     284807 non-null  float64\n",
      " 25  V25     284807 non-null  float64\n",
      " 26  V26     284807 non-null  float64\n",
      " 27  V27     284807 non-null  float64\n",
      " 28  V28     284807 non-null  float64\n",
      " 29  Amount  284807 non-null  float64\n",
      " 30  Class   284807 non-null  int64  \n",
      "dtypes: float64(30), int64(1)\n",
      "memory usage: 67.4 MB\n",
      "None\n"
     ]
    }
   ],
   "source": [
    "# get dataset from https://www.kaggle.com/datasets/mlg-ulb/creditcardfraud\n",
    "import pandas as pd\n",
    "\n",
    "credit = pd.read_csv('creditcard.csv')\n",
    "print(credit.shape)\n",
    "print(credit.head())\n",
    "print(credit.info())"
   ]
  },
  {
   "cell_type": "code",
   "execution_count": 2,
   "id": "0842592d",
   "metadata": {},
   "outputs": [
    {
     "data": {
      "image/png": "[encoded data removed]",
      "text/plain": [
       "<Figure size 432x288 with 1 Axes>"
      ]
     },
     "metadata": {},
     "output_type": "display_data"
    }
   ],
   "source": [
    "# show imbalance of dependent variable Class\n",
    "import numpy as np\n",
    "\n",
    "def absolute_value(val):\n",
    "    return np.round(val.sum(), 4)\n",
    "\n",
    "credit['Class'].value_counts().plot.pie(labels=['Ok', 'Fraudulent'], autopct=absolute_value).legend();"
   ]
  },
  {
   "cell_type": "markdown",
   "id": "564aa603",
   "metadata": {},
   "source": [
    "Having a model that simply predicts 0 for every example will return 99.83% accuracy which is typically excellent for a binary classification predictor but not in this case. Although this naïve model maintains a high classification accuracy it does nothing to solve the problem so we will evaluate precision and recall instead.\n",
    "\n",
    "https://towardsdatascience.com/precision-vs-recall-evaluating-model-performance-in-credit-card-fraud-detection-bb24958b2723"
   ]
  },
  {
   "cell_type": "code",
   "execution_count": 3,
   "id": "8d9c42fc",
   "metadata": {},
   "outputs": [],
   "source": [
    "# robustscaler less sensitive to outliers\n",
    "from sklearn.preprocessing import RobustScaler\n",
    "\n",
    "scaler = RobustScaler()\n",
    "\n",
    "credit['scaled_amount'] = scaler.fit_transform(credit['Amount'].values.reshape(-1,1))\n",
    "credit['scaled_time'] = scaler.fit_transform(credit['Time'].values.reshape(-1,1))\n",
    "\n",
    "credit.drop(['Time','Amount'], axis=1, inplace=True)"
   ]
  },
  {
   "cell_type": "code",
   "execution_count": 4,
   "id": "ecfaa8fd",
   "metadata": {},
   "outputs": [
    {
     "name": "stdout",
     "output_type": "stream",
     "text": [
      "(213605, 30)\n",
      "              V1        V2        V3        V4        V5        V6        V7  \\\n",
      "83225  -1.648591  1.228130  1.370169 -1.735542 -0.029455 -0.484129  0.918645   \n",
      "52800  -0.234775 -0.493269  1.236728 -2.338793 -1.176733  0.885733 -1.960981   \n",
      "21293   1.134626 -0.774460 -0.163390 -0.533358 -0.604555 -0.244482 -0.212682   \n",
      "133600  0.069514  1.017753  1.033117  1.384376  0.223233 -0.310845  0.597287   \n",
      "38225  -0.199441  0.610092 -0.114437  0.256565  2.290752  4.008475 -0.123530   \n",
      "\n",
      "              V8        V9       V10  ...       V21       V22       V23  \\\n",
      "83225  -0.438750  0.982144  1.241635  ... -0.218076 -0.203458 -0.213015   \n",
      "52800  -2.363412 -2.694774  0.360215  ... -1.495358 -0.083066  0.074612   \n",
      "21293   0.040782 -1.136627  0.792009  ... -0.684454 -1.855269  0.171997   \n",
      "133600 -0.127658 -0.701533  0.070739  ...  0.097023  0.369957 -0.219266   \n",
      "38225   1.038374 -0.075846  0.030453  ... -0.019733  0.165463 -0.080978   \n",
      "\n",
      "             V24       V25       V26       V27       V28  scaled_amount  \\\n",
      "83225   0.011372 -0.304481  0.632063 -0.262968 -0.099863       0.229442   \n",
      "52800  -0.347329  0.541900 -0.433294  0.089293  0.212029       0.547754   \n",
      "21293  -0.387783 -0.062985  0.245118 -0.061178  0.012180       1.242926   \n",
      "133600 -0.124941 -0.049749 -0.112946  0.114440  0.066101      -0.167680   \n",
      "38225   1.020656 -0.300730 -0.269595  0.481769  0.254114       0.000000   \n",
      "\n",
      "        scaled_time  \n",
      "83225     -0.293131  \n",
      "52800     -0.458699  \n",
      "21293     -0.623985  \n",
      "133600    -0.049777  \n",
      "38225     -0.533253  \n",
      "\n",
      "[5 rows x 30 columns]\n"
     ]
    }
   ],
   "source": [
    "# split the titanic data into train test\n",
    "from sklearn.model_selection import train_test_split\n",
    "\n",
    "X_train, X_test, y_train, y_test = train_test_split(\n",
    "                                credit.drop(['Class'], axis=1), \n",
    "                                credit['Class'], \n",
    "                                test_size=0.25, \n",
    "                                random_state=42)\n",
    "\n",
    "print(X_train.shape)\n",
    "print(X_train.head())"
   ]
  },
  {
   "cell_type": "code",
   "execution_count": 5,
   "id": "25ec7ff7",
   "metadata": {},
   "outputs": [
    {
     "name": "stdout",
     "output_type": "stream",
     "text": [
      "0    99.82\n",
      "1     0.18\n",
      "Name: Class, dtype: float64\n"
     ]
    },
    {
     "data": {
      "image/png": "[encoded data removed]",
      "text/plain": [
       "<Figure size 432x288 with 1 Axes>"
      ]
     },
     "metadata": {},
     "output_type": "display_data"
    }
   ],
   "source": [
    "# show imbalance of dependent variable Class\n",
    "import numpy as np\n",
    "\n",
    "def absolute_value(val):\n",
    "    return np.round(val.sum(), 2)\n",
    "\n",
    "print((y_train.value_counts()/len(y_train) * 100).round(2))\n",
    "y_train.value_counts().plot.pie(labels=['Ok', 'Fraudulent'], autopct=absolute_value).legend();"
   ]
  },
  {
   "cell_type": "code",
   "execution_count": 6,
   "id": "80db319c",
   "metadata": {},
   "outputs": [],
   "source": [
    "# is it balanced? no, use class_weight='balanced'\n",
    "# is it a large dataset? kind of, using liblinear for solver\n",
    "from sklearn.linear_model import LogisticRegression\n",
    "from sklearn.metrics import accuracy_score, confusion_matrix, classification_report\n",
    "\n",
    "model = LogisticRegression(solver='liblinear')\n",
    "model.fit(X_train, y_train)\n",
    "predictions = model.predict(X_test)"
   ]
  },
  {
   "cell_type": "markdown",
   "id": "1882f0d0",
   "metadata": {},
   "source": [
    "## Revisit Confusion Matrix"
   ]
  },
  {
   "cell_type": "code",
   "execution_count": 7,
   "id": "ddce464b",
   "metadata": {},
   "outputs": [
    {
     "name": "stdout",
     "output_type": "stream",
     "text": [
      "Confusion Matrix\n",
      "[[71077    12]\n",
      " [   45    68]]\n",
      "\n",
      "Recall our Confustion Matrix\n",
      "\n",
      "                    predicted\n",
      "                   |  0   |  1     \n",
      "           -----------------------  ----------------------------------------------\n",
      "           0       |  71077  |  12      tnr                 |  fpr (type I error) \n",
      "  actual   -----------------------  ----------------------------------------------\n",
      "           1       |  45   |  68     fnr (type II error) |  tpr (recall)\n",
      "\n",
      "                     npv  | fdr\n",
      "           ----------------------------\n",
      "                     for  | precision (ppv)\n",
      "\n",
      "\n"
     ]
    }
   ],
   "source": [
    "# comparing pivot table and confustion matrix\n",
    "from sklearn.metrics import confusion_matrix\n",
    "\n",
    "tn, fp, fn, tp = confusion_matrix(y_test, predictions).ravel()\n",
    "print('Confusion Matrix')\n",
    "print(confusion_matrix(y_test, predictions))\n",
    "print()\n",
    "print('Recall our Confustion Matrix')\n",
    "print(f'''\n",
    "                    predicted\n",
    "                   |  0   |  1     \n",
    "           -----------------------  ----------------------------------------------\n",
    "           0       |  {tn}  |  {fp}      tnr                 |  fpr (type I error) \n",
    "  actual   -----------------------  ----------------------------------------------\n",
    "           1       |  {fn}   |  {tp}     fnr (type II error) |  tpr (recall)\n",
    "\n",
    "                     npv  | fdr\n",
    "           ----------------------------\n",
    "                     for  | precision (ppv)\n",
    "\n",
    "''')"
   ]
  },
  {
   "cell_type": "code",
   "execution_count": 8,
   "id": "2a40da11",
   "metadata": {},
   "outputs": [
    {
     "name": "stdout",
     "output_type": "stream",
     "text": [
      "accuracy: 0.9991994606893064\n",
      "[[71077    12]\n",
      " [   45    68]]\n",
      "              precision    recall  f1-score   support\n",
      "\n",
      "           0       1.00      1.00      1.00     71089\n",
      "           1       0.85      0.60      0.70       113\n",
      "\n",
      "    accuracy                           1.00     71202\n",
      "   macro avg       0.92      0.80      0.85     71202\n",
      "weighted avg       1.00      1.00      1.00     71202\n",
      "\n"
     ]
    }
   ],
   "source": [
    "tn, fp, fn, tp = confusion_matrix(y_test, predictions).ravel()\n",
    "print('accuracy:', accuracy_score(predictions, y_test))\n",
    "print(confusion_matrix(y_test, predictions))\n",
    "print(classification_report(y_test, predictions))"
   ]
  },
  {
   "cell_type": "markdown",
   "id": "22612e5a",
   "metadata": {},
   "source": [
    "Precision is percent of correct predictions out of all predicted fraudulent. Recall is percent of actual fraudulent transactions correctly identified as such."
   ]
  },
  {
   "cell_type": "code",
   "execution_count": 9,
   "id": "a217e9f6",
   "metadata": {},
   "outputs": [
    {
     "name": "stdout",
     "output_type": "stream",
     "text": [
      "precision: 0.85\n",
      "recall: 0.6017699115044248\n"
     ]
    }
   ],
   "source": [
    "print('precision:', tp / (tp + fp))\n",
    "print('recall:', tp / (tp + fn))"
   ]
  },
  {
   "cell_type": "markdown",
   "id": "9fb0f6dd",
   "metadata": {},
   "source": [
    "### Metrics Review\n",
    "\n",
    "https://towardsdatascience.com/avoiding-confusion-with-confusion-matrix-metrics-a8a3d0ead144\n",
    "\n",
    "* tn = pred 0 actual 0\n",
    "* fp = pred 1 actual 0\n",
    "* fn = pred 0 actual 1\n",
    "* tp = pred 1 actual 1\n",
    "* acc(uracy) = $\\frac{tn + tp}{total}$\n",
    "* error = $\\frac{fp + fn}{total}$\n",
    "* prev(alence) = $\\frac{fn + tp}{total}$\n",
    "* queue = $\\frac{fp + tp}{total}$\n",
    "* tpr = $\\frac{tp}{tp + fn}$\n",
    "    * true positive rate\n",
    "    * recall\n",
    "    * sensitivity\n",
    "    * prob of detection\n",
    "    * 1 - fnr\n",
    "* fnr = $\\frac{fn}{tp + fn}$\n",
    "    * false negative rate\n",
    "    * type II error\n",
    "    * 1 - tpr\n",
    "* tnr = $\\frac{tn}{tn + fp}$\n",
    "    * true negative rate\n",
    "    * specificity\n",
    "    * 1 - fpr\n",
    "* fpr = $\\frac{fp}{tn + fp}$\n",
    "    * false positive rate\n",
    "    * type I error\n",
    "    * fall out\n",
    "    * prob of false claim\n",
    "    * 1 - tnr\n",
    "* ppv = $\\frac{tp}{tp + fp}$\n",
    "    * positive predicted value\n",
    "    * precision\n",
    "    * 1 - fdr\n",
    "* fdr = $\\frac{fp}{tp + fp}$\n",
    "    * false discovery rate\n",
    "    * 1 - ppv\n",
    "* npv = $\\frac{tn}{tn + fn}$\n",
    "    * negative predicted value\n",
    "    * 1 - for\n",
    "* for = $\\frac{fn}{tn + fn}$\n",
    "    * false omission rate\n",
    "    * 1 - npv\n",
    "* liklihood ratio+ (lr+) = $\\frac{tpr}{fpr}$\n",
    "    * roc\n",
    "* liklihood ratio- (lr-) = $\\frac{fnr}{tnr}$\n",
    "* diagnostic odds ratio = $\\frac{lr+}{lr-}$\n",
    "* f1 score = 2 * $\\frac{precision-recall}{precision+recall}$\n",
    "* Youden's J = sensitivity + specificity - 1 = tpr - fpr\n",
    "* Matthew's Correlation Coefficient = $\\frac{(tp*tn)-(fp*tp)}{\\sqrt{(tp+fp)(tp+fn)(tn+fp)(tn+fn)}}$"
   ]
  },
  {
   "cell_type": "code",
   "execution_count": 10,
   "id": "7509f81f",
   "metadata": {},
   "outputs": [
    {
     "name": "stdout",
     "output_type": "stream",
     "text": [
      "accuracy: 0.9757731524395382\n",
      "[[69373  1716]\n",
      " [    9   104]]\n",
      "              precision    recall  f1-score   support\n",
      "\n",
      "           0       1.00      0.98      0.99     71089\n",
      "           1       0.06      0.92      0.11       113\n",
      "\n",
      "    accuracy                           0.98     71202\n",
      "   macro avg       0.53      0.95      0.55     71202\n",
      "weighted avg       1.00      0.98      0.99     71202\n",
      "\n"
     ]
    }
   ],
   "source": [
    "# is it balanced? no, use class_weight='balanced'\n",
    "# is it a large dataset? kind of, using liblinear for solver\n",
    "from sklearn.linear_model import LogisticRegression\n",
    "from sklearn.metrics import accuracy_score, confusion_matrix, classification_report\n",
    "\n",
    "model = LogisticRegression(class_weight='balanced', solver='liblinear')\n",
    "model.fit(X_train, y_train)\n",
    "predictions = model.predict(X_test)\n",
    "\n",
    "print('accuracy:', accuracy_score(predictions, y_test))\n",
    "print(confusion_matrix(y_test, predictions))\n",
    "print(classification_report(y_test, predictions))"
   ]
  },
  {
   "cell_type": "markdown",
   "id": "1d80b55a",
   "metadata": {},
   "source": [
    "The F1 score can be interpreted as a harmonic mean of the precision and recall, where an F1 score reaches its best value at 1 and worst score at 0. The relative contribution of precision and recall to the F1 score are equal. The formula for the F1 score is:\n",
    "\n",
    "f1 = 2 * (precision * recall) / (precision + recall)\n",
    "\n",
    "https://scikit-learn.org/stable/modules/generated/sklearn.metrics.f1_score.html"
   ]
  }
 ],
 "metadata": {
  "kernelspec": {
   "display_name": "Python 3 (ipykernel)",
   "language": "python",
   "name": "python3"
  },
  "language_info": {
   "codemirror_mode": {
    "name": "ipython",
    "version": 3
   },
   "file_extension": ".py",
   "mimetype": "text/x-python",
   "name": "python",
   "nbconvert_exporter": "python",
   "pygments_lexer": "ipython3",
   "version": "3.9.7"
  }
 },
 "nbformat": 4,
 "nbformat_minor": 5
}
