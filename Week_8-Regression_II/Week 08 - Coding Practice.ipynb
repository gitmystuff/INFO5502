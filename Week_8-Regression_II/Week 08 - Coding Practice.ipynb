{
 "cells": [
  {
   "cell_type": "markdown",
   "id": "3e37d86f",
   "metadata": {},
   "source": [
    "# Week 08: Coding Practice"
   ]
  },
  {
   "cell_type": "code",
   "execution_count": null,
   "id": "467b554c",
   "metadata": {},
   "outputs": [],
   "source": [
    "import pandas as pd\n",
    "\n",
    "df1 = pd.DataFrame({'1': [11, 21, 31],\n",
    "                    '2': [12, 22, 32],\n",
    "                    '3': [13, 23, 33],\n",
    "                    'key': ['k1', 'k2', 'k3']},\n",
    "                    index=[1, 2, 3])\n",
    "\n",
    "df1"
   ]
  },
  {
   "cell_type": "code",
   "execution_count": null,
   "id": "71e7a7fe",
   "metadata": {},
   "outputs": [],
   "source": [
    "df2 = pd.DataFrame({'1': [41, 51, 61],\n",
    "                    '2': [42, 52, 62],\n",
    "                    '3': [43, 53, 63],\n",
    "                    'key': ['k1', 'k2', 'k3']},\n",
    "                    index=[4, 5, 6])\n",
    "\n",
    "df2"
   ]
  },
  {
   "cell_type": "code",
   "execution_count": null,
   "id": "f313f725",
   "metadata": {},
   "outputs": [],
   "source": [
    "df3 = pd.DataFrame({'1': [71, 81, 91],\n",
    "                    '2': [72, 82, 92],\n",
    "                    '3': [73, 83, 93],\n",
    "                    'key': ['k1', 'k2', 'k3']},\n",
    "                    index=[7, 8, 9])\n",
    "\n",
    "df3"
   ]
  },
  {
   "cell_type": "code",
   "execution_count": null,
   "id": "f47ea7e9",
   "metadata": {},
   "outputs": [],
   "source": [
    "# https://pandas.pydata.org/docs/reference/api/pandas.DataFrame.merge.html\n",
    "df4 = pd.DataFrame({'a': ['foo', 'bar'], 'b': [1, 2]})\n",
    "df4"
   ]
  },
  {
   "cell_type": "code",
   "execution_count": null,
   "id": "c52f7ee0",
   "metadata": {},
   "outputs": [],
   "source": [
    "df5 = pd.DataFrame({'a': ['foo', 'baz'], 'c': [3, 4]})\n",
    "df5"
   ]
  },
  {
   "cell_type": "code",
   "execution_count": null,
   "id": "6bdd5024",
   "metadata": {},
   "outputs": [],
   "source": [
    "# concatenation \n"
   ]
  },
  {
   "cell_type": "code",
   "execution_count": null,
   "id": "afe68957",
   "metadata": {},
   "outputs": [],
   "source": [
    "# conactenation, axis=1\n"
   ]
  },
  {
   "cell_type": "code",
   "execution_count": null,
   "id": "1d4402bb",
   "metadata": {},
   "outputs": [],
   "source": [
    "# more concat\n"
   ]
  },
  {
   "cell_type": "code",
   "execution_count": null,
   "id": "cdc2f31b",
   "metadata": {},
   "outputs": [],
   "source": [
    "# inner merge\n"
   ]
  },
  {
   "cell_type": "code",
   "execution_count": null,
   "id": "f22bd591",
   "metadata": {},
   "outputs": [],
   "source": [
    "# outer merge\n"
   ]
  },
  {
   "cell_type": "code",
   "execution_count": null,
   "id": "87247ac6",
   "metadata": {},
   "outputs": [],
   "source": [
    "# concat reminder\n"
   ]
  },
  {
   "cell_type": "code",
   "execution_count": null,
   "id": "28e38289",
   "metadata": {},
   "outputs": [],
   "source": [
    "# right merge\n"
   ]
  },
  {
   "cell_type": "code",
   "execution_count": null,
   "id": "da512660",
   "metadata": {},
   "outputs": [],
   "source": [
    "# left merge\n"
   ]
  },
  {
   "cell_type": "code",
   "execution_count": null,
   "id": "88a69809",
   "metadata": {},
   "outputs": [],
   "source": [
    "# new dataframe\n",
    "df6 = pd.DataFrame({'left': ['foo', 'bar']})\n",
    "df7 = pd.DataFrame({'right': [6, 7]})\n",
    "pd.concat([df6, df7], axis=1)"
   ]
  },
  {
   "cell_type": "code",
   "execution_count": null,
   "id": "c4dafe50",
   "metadata": {},
   "outputs": [],
   "source": [
    "# cross merge\n"
   ]
  },
  {
   "cell_type": "code",
   "execution_count": null,
   "id": "a08dc4a0",
   "metadata": {},
   "outputs": [],
   "source": [
    "# https://www.w3resource.com/pandas/dataframe/dataframe-pivot.php\n",
    "import numpy as np\n",
    "import pandas as pd\n",
    "\n",
    "df8 = pd.DataFrame({'A': ['one', 'one', 'one', 'two', 'two',\n",
    "                           'two'],\n",
    "                   'B': ['P', 'Q', 'R', 'P', 'Q', 'R'],\n",
    "                   'C': [2, 3, 4, 5, 6, 7],\n",
    "                   'D': ['h', 'i', 'j', 'k', 'l', 'm']})\n",
    "\n",
    "df8"
   ]
  },
  {
   "cell_type": "code",
   "execution_count": null,
   "id": "3f9afc73",
   "metadata": {},
   "outputs": [],
   "source": [
    "# pivot\n"
   ]
  },
  {
   "cell_type": "code",
   "execution_count": null,
   "id": "b28349d9",
   "metadata": {},
   "outputs": [],
   "source": [
    "# another way\n"
   ]
  },
  {
   "cell_type": "code",
   "execution_count": null,
   "id": "362f1371",
   "metadata": {},
   "outputs": [],
   "source": [
    "# df8\n"
   ]
  },
  {
   "cell_type": "code",
   "execution_count": null,
   "id": "1803f71e",
   "metadata": {},
   "outputs": [],
   "source": [
    "# pivot with two value columns\n"
   ]
  }
 ],
 "metadata": {
  "kernelspec": {
   "display_name": "Python 3 (ipykernel)",
   "language": "python",
   "name": "python3"
  },
  "language_info": {
   "codemirror_mode": {
    "name": "ipython",
    "version": 3
   },
   "file_extension": ".py",
   "mimetype": "text/x-python",
   "name": "python",
   "nbconvert_exporter": "python",
   "pygments_lexer": "ipython3",
   "version": "3.9.7"
  }
 },
 "nbformat": 4,
 "nbformat_minor": 5
}
