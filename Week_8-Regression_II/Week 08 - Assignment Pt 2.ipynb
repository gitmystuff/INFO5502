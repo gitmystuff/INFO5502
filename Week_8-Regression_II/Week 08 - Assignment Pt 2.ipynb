{
 "cells": [
  {
   "cell_type": "markdown",
   "id": "5cfa4ccd",
   "metadata": {},
   "source": [
    "# Week 08 - Assignment Part 2"
   ]
  },
  {
   "cell_type": "markdown",
   "id": "3063e49f",
   "metadata": {},
   "source": [
    "Enter your student id, in the next cell, when asked and then run the next two cells. The second cell will create the dataset you will be working on. If you run the second cell again, it will generate a new dataset so be aware.\n",
    "\n",
    "* The dependent variable is called 'target'\n",
    "* Comment out this line - df.to_csv('assignment_08.csv') once you run the second cell so that you don't overwrite your data file\n",
    "* Use my_seed for train test split random_state"
   ]
  },
  {
   "cell_type": "markdown",
   "id": "d4793462",
   "metadata": {},
   "source": [
    "### Generate Seed and Data"
   ]
  },
  {
   "cell_type": "code",
   "execution_count": null,
   "id": "0d58ad25",
   "metadata": {},
   "outputs": [],
   "source": [
    "# create seed\n",
    "import random\n",
    "\n",
    "# provide your student id as stud_id\n",
    "stud_id = ...\n",
    "my_seed = random.seed(stud_id)"
   ]
  },
  {
   "cell_type": "code",
   "execution_count": null,
   "id": "617bce76",
   "metadata": {},
   "outputs": [],
   "source": [
    "# \"https://svnweb.freebsd.org/csrg/share/dict/words?view=co&content-type=text/plain\"\n",
    "import pandas as pd\n",
    "import numpy as np\n",
    "import re\n",
    "import random\n",
    "from sklearn.datasets import make_regression\n",
    "\n",
    "def make_null(r, w):\n",
    "    rtn = random.choices([np.nan, r], weights=[w, 100-w])\n",
    "    return re.sub(r\"[\\[\\]]\",'', str(rtn))\n",
    "\n",
    "words = open('words.txt', 'r')\n",
    "data = words.read()\n",
    "words = data.strip().split('\\n')\n",
    "capitalized = [word for word in words if word[0].isupper()]\n",
    "proper_names  = [word for word in capitalized if not word.isupper()]\n",
    "\n",
    "variables = []\n",
    "for n in range(20):\n",
    "    variables.append(' '.join([proper_names[random.randint(0, len(proper_names))] for i in range(2)]))\n",
    "\n",
    "X, y = make_regression(n_samples=100, n_features=10, n_informative=6)\n",
    "cols = variables[:10]\n",
    "df = pd.DataFrame(data=X, columns=cols)\n",
    "df[cols[0]] = round(df[cols[0]], 4)\n",
    "df[variables[10]] = 0.03\n",
    "df[variables[11]] = 0.07\n",
    "df[variables[12]] = df[variables[0]]\n",
    "df[variables[13]] = df[cols[1]]\n",
    "df[variables[10]] = df[variables[10]].apply(make_null, args=(2,))\n",
    "df[variables[13]] = df[variables[13]].apply(make_null, args=(5,))\n",
    "df[variables[14]] = random.sample(range(100, 1000), k=100)\n",
    "df[variables[15]] = random.sample(range(1000, 10000), k=100)\n",
    "\n",
    "df[variables[7]] = df[variables[7]].apply(lambda r: abs(r) if (r < -0.02) else r)\n",
    "df[variables[8]] = df[variables[8]].apply(lambda r: abs(r)*-1 if (r > 0.01) else r)\n",
    "df[variables[9]] = df[variables[9]].apply(lambda r: abs(r) if (r < -0.01) else r)\n",
    "df[variables[7]] = df[variables[7]].apply(make_null, args=(7,))\n",
    "df[variables[8]] = df[variables[8]].apply(make_null, args=(8,))\n",
    "df[variables[9]] = df[variables[9]].apply(make_null, args=(9,))\n",
    "\n",
    "cats = [random.choice(['north', 'south']) for i in range(100)]\n",
    "df[variables[16]] = cats\n",
    "cats = [random.choice(['east', 'west']) for i in range(100)]\n",
    "df[variables[17]] = cats\n",
    "cats = [random.choice(['fast', 'medium', 'slow']) for i in range(100)]\n",
    "df[variables[18]] = cats\n",
    "cats = [random.choice(['disagree', 'kind of disagree', 'neutral', 'kind of agree', 'agree']) for i in range(100)]\n",
    "df[variables[19]] = cats\n",
    "\n",
    "df = df[np.random.default_rng(seed=my_seed).permutation(df.columns.values)]\n",
    "\n",
    "df['target'] = y\n",
    "\n",
    "dupes = df.loc[0:5]\n",
    "df = df.append(dupes, ignore_index = True)\n",
    "df = df.sample(frac=1).reset_index(drop=True)\n",
    "\n",
    "df.to_csv('assignment_08.csv')"
   ]
  },
  {
   "cell_type": "markdown",
   "id": "a290e0a9",
   "metadata": {},
   "source": [
    "### Data Prep"
   ]
  },
  {
   "cell_type": "code",
   "execution_count": null,
   "id": "806b9dca",
   "metadata": {},
   "outputs": [],
   "source": [
    "# create dataframe from assignment_08.csv\n"
   ]
  },
  {
   "cell_type": "code",
   "execution_count": null,
   "id": "e0f5c6be",
   "metadata": {},
   "outputs": [],
   "source": [
    "#df info\n"
   ]
  },
  {
   "cell_type": "code",
   "execution_count": null,
   "id": "5a8bdc28",
   "metadata": {},
   "outputs": [],
   "source": [
    "# identify constants\n"
   ]
  },
  {
   "cell_type": "code",
   "execution_count": null,
   "id": "c1f6efe4",
   "metadata": {},
   "outputs": [],
   "source": [
    "# identify quasi constant values (sometimes these may be boolean features)\n"
   ]
  },
  {
   "cell_type": "code",
   "execution_count": null,
   "id": "f65de913",
   "metadata": {},
   "outputs": [],
   "source": [
    "# identify duplicate rows\n"
   ]
  },
  {
   "cell_type": "code",
   "execution_count": null,
   "id": "6ac5c315",
   "metadata": {},
   "outputs": [],
   "source": [
    "# drop duplicate rows\n"
   ]
  },
  {
   "cell_type": "code",
   "execution_count": null,
   "id": "f0276f85",
   "metadata": {},
   "outputs": [],
   "source": [
    "# check of duplicate columns\n"
   ]
  },
  {
   "cell_type": "code",
   "execution_count": null,
   "id": "dd74513b",
   "metadata": {},
   "outputs": [],
   "source": [
    "# drop the variables that are duplicated or low in variance\n"
   ]
  },
  {
   "cell_type": "markdown",
   "id": "1c2b124f",
   "metadata": {},
   "source": [
    "### Imputation\n",
    "\n",
    "Use histograms to view the shape of your numerical features.\n",
    "* Use median to replace missing data for skewed features\n",
    "* Use interpolation to replace missing data for features that look normal"
   ]
  },
  {
   "cell_type": "code",
   "execution_count": null,
   "id": "ad3159bc",
   "metadata": {},
   "outputs": [],
   "source": [
    "# plot histograms\n",
    "# import matplotlib.pyplot as plt\n",
    "\n",
    "# df.hist()\n",
    "# plt.tight_layout();"
   ]
  },
  {
   "cell_type": "code",
   "execution_count": null,
   "id": "a5b1afe7",
   "metadata": {},
   "outputs": [],
   "source": [
    "# replace missing data with interpolation and confirm with isnull().sum()\n",
    "# https://pythonnumericalmethods.berkeley.edu/notebooks/chapter17.01-Interpolation-Problem-Statement.html\n",
    "# https://www.analyticsvidhya.com/blog/2021/06/power-of-interpolation-in-python-to-fill-missing-values/\n",
    "# df['C'].interpolate(method='linear', inplace=True)\n"
   ]
  },
  {
   "cell_type": "markdown",
   "id": "5ccc846c",
   "metadata": {},
   "source": [
    "### Exploratory Data Analysis"
   ]
  },
  {
   "cell_type": "code",
   "execution_count": null,
   "id": "b5fb324c",
   "metadata": {},
   "outputs": [],
   "source": [
    "# train test split\n"
   ]
  },
  {
   "cell_type": "code",
   "execution_count": null,
   "id": "c8d99e50",
   "metadata": {},
   "outputs": [],
   "source": [
    "# get X_train info\n"
   ]
  },
  {
   "cell_type": "code",
   "execution_count": null,
   "id": "2e7eb542",
   "metadata": {},
   "outputs": [],
   "source": [
    "# describe X_train\n"
   ]
  },
  {
   "cell_type": "markdown",
   "id": "c714a85a",
   "metadata": {},
   "source": [
    "Using X_train.describe(), identify the two features with max values greater than 100. These features have scales that are quite different than the other features and must be scaled so that they share the same scale as the other features. Standardize one feature and Normalize the other feature."
   ]
  },
  {
   "cell_type": "code",
   "execution_count": null,
   "id": "706b99d1",
   "metadata": {},
   "outputs": [],
   "source": [
    "# standardize feature (whatever you do for X_train, do for X_test)\n"
   ]
  },
  {
   "cell_type": "code",
   "execution_count": null,
   "id": "3174eccc",
   "metadata": {},
   "outputs": [],
   "source": [
    "# normalize feature (whatever you do for X_train, do for X_test)\n"
   ]
  },
  {
   "cell_type": "code",
   "execution_count": null,
   "id": "6e5e7709",
   "metadata": {},
   "outputs": [],
   "source": [
    "# describe data again to verify transformations\n"
   ]
  },
  {
   "cell_type": "code",
   "execution_count": null,
   "id": "2ff24208",
   "metadata": {},
   "outputs": [],
   "source": [
    "# X_train.info()\n"
   ]
  },
  {
   "cell_type": "code",
   "execution_count": null,
   "id": "06d25eb2",
   "metadata": {},
   "outputs": [],
   "source": [
    "# bi-label mapping\n"
   ]
  },
  {
   "cell_type": "code",
   "execution_count": null,
   "id": "be3b8920",
   "metadata": {},
   "outputs": [],
   "source": [
    "# use sklearn one hot encoder\n"
   ]
  },
  {
   "cell_type": "code",
   "execution_count": null,
   "id": "21c4564c",
   "metadata": {},
   "outputs": [],
   "source": [
    "# correlation heat map\n"
   ]
  },
  {
   "cell_type": "code",
   "execution_count": null,
   "id": "7f5e001b",
   "metadata": {},
   "outputs": [],
   "source": [
    "# vif test\n"
   ]
  },
  {
   "cell_type": "code",
   "execution_count": null,
   "id": "cee47114",
   "metadata": {},
   "outputs": [],
   "source": [
    "# delete one of the features out of the pair(s) that show multicollinearity (do for X_train, do for X_test)\n"
   ]
  },
  {
   "cell_type": "code",
   "execution_count": null,
   "id": "709a87a6",
   "metadata": {},
   "outputs": [],
   "source": [
    "# verify you no longer have multicollinearity\n"
   ]
  },
  {
   "cell_type": "code",
   "execution_count": null,
   "id": "ec3fd3a9",
   "metadata": {},
   "outputs": [],
   "source": [
    "# correlation with target\n",
    "# change rot=45 to rot=90 (text rotation)\n"
   ]
  },
  {
   "cell_type": "markdown",
   "id": "d4eac697",
   "metadata": {},
   "source": [
    "List four features that show the most correlation with the target.\n",
    "\n",
    "_Type your answer here_"
   ]
  }
 ],
 "metadata": {
  "kernelspec": {
   "display_name": "Python 3 (ipykernel)",
   "language": "python",
   "name": "python3"
  },
  "language_info": {
   "codemirror_mode": {
    "name": "ipython",
    "version": 3
   },
   "file_extension": ".py",
   "mimetype": "text/x-python",
   "name": "python",
   "nbconvert_exporter": "python",
   "pygments_lexer": "ipython3",
   "version": "3.9.7"
  }
 },
 "nbformat": 4,
 "nbformat_minor": 5
}
