{
 "cells": [
  {
   "cell_type": "markdown",
   "id": "906e87fb",
   "metadata": {},
   "source": [
    "# Week 08: Make Simple Linear Regression"
   ]
  },
  {
   "cell_type": "code",
   "execution_count": 1,
   "id": "fd1b7a09",
   "metadata": {},
   "outputs": [
    {
     "name": "stdout",
     "output_type": "stream",
     "text": [
      "MSE: 21.524117337869505\n",
      "R-Squared: 0.9958959561492845\n"
     ]
    }
   ],
   "source": [
    "# create and train the model\n",
    "import pandas as pd\n",
    "from sklearn.linear_model import LinearRegression\n",
    "from sklearn.metrics import mean_squared_error, r2_score\n",
    "from sklearn.datasets import make_regression\n",
    "from sklearn.model_selection import train_test_split\n",
    "\n",
    "X, y = make_regression(n_samples=100, n_features=1, noise=5)\n",
    "df = pd.DataFrame(data=X, columns=['x'])\n",
    "df['y'] = y\n",
    "\n",
    "X_train, X_test, y_train, y_test = train_test_split(df.drop(['y'], axis=1), df['y'], test_size=.2, random_state=42)\n",
    "\n",
    "model = LinearRegression()\n",
    "model.fit(X_train, y_train)\n",
    "\n",
    "# test set prediction results\n",
    "predictions = model.predict(X_test)\n",
    "print(f'MSE: {mean_squared_error(y_true=y_test, y_pred=predictions)}')\n",
    "print(f'R-Squared: {r2_score(y_test, predictions)}')"
   ]
  }
 ],
 "metadata": {
  "kernelspec": {
   "display_name": "Python 3 (ipykernel)",
   "language": "python",
   "name": "python3"
  },
  "language_info": {
   "codemirror_mode": {
    "name": "ipython",
    "version": 3
   },
   "file_extension": ".py",
   "mimetype": "text/x-python",
   "name": "python",
   "nbconvert_exporter": "python",
   "pygments_lexer": "ipython3",
   "version": "3.9.7"
  }
 },
 "nbformat": 4,
 "nbformat_minor": 5
}
