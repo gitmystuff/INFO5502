{
 "cells": [
  {
   "cell_type": "markdown",
   "metadata": {},
   "source": [
    "# Week 03 - Project"
   ]
  },
  {
   "cell_type": "markdown",
   "metadata": {},
   "source": [
    "## Guidelines and Docstrings\n",
    "\n",
    "* https://peps.python.org/pep-0008/\n",
    "* https://sphinxcontrib-napoleon.readthedocs.io/en/latest/example_google.html"
   ]
  },
  {
   "cell_type": "markdown",
   "metadata": {},
   "source": [
    "### Arguments vs Parameters\n",
    "\n",
    "Used interchangeably but technically\n",
    "\n",
    "<pre>\n",
    "def my_function(parameter):\n",
    "    return parameter\n",
    "    \n",
    "my_function(argument)\n",
    "</pre>"
   ]
  },
  {
   "cell_type": "code",
   "execution_count": null,
   "metadata": {},
   "outputs": [],
   "source": [
    "# google docstring https://www.programiz.com/python-programming/docstrings example 5\n",
    "def add_binary(a, b):\n",
    "    '''\n",
    "    Returns the sum of two decimal numbers in binary digits.\n",
    "\n",
    "            Parameters:\n",
    "                    a (int): A decimal integer\n",
    "                    b (int): Another decimal integer\n",
    "\n",
    "            Returns:\n",
    "                    binary_sum (str): Binary string of the sum of a and b\n",
    "    '''\n",
    "\n",
    "    binary_sum = bin(a+b)[2:]\n",
    "    return binary_sum\n",
    "\n",
    "print(add_binary.__doc__)"
   ]
  },
  {
   "cell_type": "code",
   "execution_count": null,
   "metadata": {},
   "outputs": [],
   "source": [
    "# click right after add_binary and then shift+tab (repeat tab key to open the full docstring)\n",
    "add_binary"
   ]
  },
  {
   "cell_type": "markdown",
   "metadata": {},
   "source": [
    "## Testing\n",
    "\n",
    "* Assert\n",
    "* Unittest\n",
    "* Pytest"
   ]
  },
  {
   "cell_type": "code",
   "execution_count": null,
   "metadata": {},
   "outputs": [],
   "source": [
    "# show add_binary, binary, and use assert to validate\n",
    "print(add_binary(3, 2))\n",
    "print(bin(5))\n",
    "assert add_binary(3, 2) == bin(5)[2:]"
   ]
  },
  {
   "cell_type": "code",
   "execution_count": null,
   "metadata": {},
   "outputs": [],
   "source": [
    "# sklearn dataset to dataframe to csv using pandas\n",
    "# import pandas as pd\n",
    "# from sklearn.datasets import load_iris\n",
    "\n",
    "# data = load_iris()\n",
    "# df = pd.DataFrame(data=data.data, columns=data.feature_names)\n",
    "# df.to_csv('iris.csv', index=False)"
   ]
  },
  {
   "cell_type": "code",
   "execution_count": null,
   "metadata": {},
   "outputs": [],
   "source": [
    "# pandas read_csv (more in Week 4)\n",
    "import pandas as pd\n",
    "\n",
    "df = pd.read_csv('iris.csv')\n",
    "df.head()"
   ]
  },
  {
   "cell_type": "code",
   "execution_count": null,
   "metadata": {},
   "outputs": [],
   "source": [
    "# just get the data from sklearn datasets\n",
    "import pandas as pd\n",
    "from sklearn.datasets import load_iris\n",
    "\n",
    "X, y = load_iris(return_X_y = True)\n",
    "X[0:5]"
   ]
  },
  {
   "cell_type": "code",
   "execution_count": null,
   "metadata": {},
   "outputs": [],
   "source": [
    "# create our own reader\n",
    "from csv import reader\n",
    "\n",
    "def read_csv(csv_file):\n",
    "    '''\n",
    "    Returns a list of values from a csv file.\n",
    "\n",
    "            Parameters:\n",
    "                    csv_file (file): A csv file\n",
    "\n",
    "            Returns:\n",
    "                    values from the csv file as type string\n",
    "    '''\n",
    "    \n",
    "    dataset = list()\n",
    "    with open(csv_file, 'r') as file:\n",
    "        csv_reader = reader(file)\n",
    "        next(csv_reader)\n",
    "        for row in csv_reader:\n",
    "            if not row:\n",
    "                continue\n",
    "            dataset.append(row)\n",
    "    return dataset\n",
    "\n",
    "csv_file = 'iris.csv'\n",
    "data = read_csv(csv_file)\n",
    "data[0:5]"
   ]
  },
  {
   "cell_type": "code",
   "execution_count": null,
   "metadata": {},
   "outputs": [],
   "source": [
    "def string_to_float(data):\n",
    "    '''\n",
    "    Returns float values from a list of string values.\n",
    "\n",
    "            Parameters:\n",
    "                    data list (str): A list of string values that look like floats \n",
    "\n",
    "            Returns:\n",
    "                    temp list (float): A list of floats\n",
    "    '''\n",
    "    temp = []\n",
    "    for line in data:\n",
    "        temp.append([float(el) for el in line])\n",
    "        \n",
    "    return temp\n",
    "\n",
    "csv_file = 'iris.csv'\n",
    "data = read_csv(csv_file)\n",
    "data = string_to_float(data)\n",
    "data[0:5]"
   ]
  },
  {
   "cell_type": "markdown",
   "metadata": {},
   "source": [
    "## Exponents"
   ]
  },
  {
   "cell_type": "markdown",
   "metadata": {},
   "source": [
    "($x^\\frac{1}{n} = \\sqrt[n]{x}$)\n",
    "\n",
    "$x^\\frac{1}{n}$"
   ]
  },
  {
   "cell_type": "code",
   "execution_count": null,
   "metadata": {},
   "outputs": [],
   "source": [
    "# write your function, include docstring\n",
    "..."
   ]
  },
  {
   "cell_type": "markdown",
   "metadata": {},
   "source": [
    "$\\sqrt[n]{x}$"
   ]
  },
  {
   "cell_type": "code",
   "execution_count": null,
   "metadata": {},
   "outputs": [],
   "source": [
    "# write your function, include docstring\n",
    "..."
   ]
  },
  {
   "cell_type": "markdown",
   "metadata": {},
   "source": [
    "## Measures of Center"
   ]
  },
  {
   "cell_type": "markdown",
   "metadata": {},
   "source": [
    "### Mean\n",
    "$\\frac{1}{N} \\sum_{i=1}^{N} x_i$"
   ]
  },
  {
   "cell_type": "code",
   "execution_count": null,
   "metadata": {},
   "outputs": [],
   "source": [
    "# write your function, include docstring\n",
    "..."
   ]
  },
  {
   "cell_type": "markdown",
   "metadata": {},
   "source": [
    "### Median\n",
    "\n",
    "$\n",
    "\\left\\{\n",
    "    \\begin{array}\\\\\n",
    "        x[\\frac{n+1}{2}] & \\mbox{if n is odd} \\\\\n",
    "        \\frac{x[\\frac{n}{2}] + x[\\frac{n}{2}+1]}{2} & \\mbox{if n is even} \n",
    "    \\end{array}\n",
    "\\right.\n",
    "$"
   ]
  },
  {
   "cell_type": "code",
   "execution_count": null,
   "metadata": {},
   "outputs": [],
   "source": [
    "# write your function, include docstring\n",
    "..."
   ]
  },
  {
   "cell_type": "markdown",
   "metadata": {},
   "source": [
    "### Mode\n",
    "\n",
    "https://www.mathsisfun.com/mode.html"
   ]
  },
  {
   "cell_type": "markdown",
   "metadata": {},
   "source": [
    "## Measures of Spread"
   ]
  },
  {
   "cell_type": "code",
   "execution_count": null,
   "metadata": {},
   "outputs": [],
   "source": [
    "# write your function, include docstring\n",
    "..."
   ]
  },
  {
   "cell_type": "markdown",
   "metadata": {},
   "source": [
    "### Variance\n",
    "\n",
    "if population: $\\sigma^2 = \\frac{1}{N}\\sum({x}-\\mu)^2$\n",
    "\n",
    "else if sample: $s^2 = \\frac{\\sum(x-\\bar{x})^2}{n-1}$\n",
    "\n",
    "else unknown\n",
    "\n",
    "parameters: list, df "
   ]
  },
  {
   "cell_type": "code",
   "execution_count": 1,
   "metadata": {},
   "outputs": [],
   "source": [
    "# write your function, include docstring\n",
    "..."
   ]
  },
  {
   "cell_type": "markdown",
   "metadata": {},
   "source": [
    "### Standard Deviation\n",
    "\n",
    "if population: $\\sigma = \\sqrt{\\frac{1}{N}\\sum(x-\\mu)^2}$\n",
    "\n",
    "else if sample: $s = \\sqrt{\\frac{\\sum(x-\\bar{x})^2}{n - 1}}$\n",
    "\n",
    "else unknown\n",
    "\n",
    "parameters: list, df"
   ]
  },
  {
   "cell_type": "code",
   "execution_count": null,
   "metadata": {},
   "outputs": [],
   "source": [
    "# write your function, include docstring\n",
    "..."
   ]
  },
  {
   "cell_type": "markdown",
   "metadata": {},
   "source": [
    "## Scaling"
   ]
  },
  {
   "cell_type": "markdown",
   "metadata": {},
   "source": [
    "### Standardization\n",
    "\n",
    "$\\large{\\frac{x - \\bar{x}}{\\sigma}}$\n",
    "\n",
    "parameter: list"
   ]
  },
  {
   "cell_type": "code",
   "execution_count": null,
   "metadata": {},
   "outputs": [],
   "source": [
    "# write your function, include docstring\n",
    "..."
   ]
  },
  {
   "cell_type": "markdown",
   "metadata": {},
   "source": [
    "### Normalization (Min Max Scaling)\n",
    "\n",
    "$\\large{\\frac{x - x_{min}}{x_{max} - x_{min}}}$\n",
    "\n",
    "parameter: list"
   ]
  },
  {
   "cell_type": "code",
   "execution_count": null,
   "metadata": {},
   "outputs": [],
   "source": [
    "# write your function, include docstring\n",
    "..."
   ]
  },
  {
   "cell_type": "markdown",
   "metadata": {},
   "source": [
    "## Linear Regression"
   ]
  },
  {
   "cell_type": "markdown",
   "metadata": {},
   "source": [
    "### Simple Linear Regression\n",
    "\n",
    "$y = \\beta_0 + \\beta_1 x_1$"
   ]
  },
  {
   "cell_type": "code",
   "execution_count": 1,
   "metadata": {},
   "outputs": [],
   "source": [
    "# write your function, include docstring\n",
    "..."
   ]
  },
  {
   "cell_type": "markdown",
   "metadata": {},
   "source": [
    "### Mean Squared Error\n",
    "\n",
    "$\\frac{1}{n}\\sum(y-\\hat{y})^2$"
   ]
  },
  {
   "cell_type": "code",
   "execution_count": null,
   "metadata": {},
   "outputs": [],
   "source": [
    "# write your function, include docstring\n",
    "..."
   ]
  },
  {
   "cell_type": "markdown",
   "metadata": {},
   "source": [
    "### Root Mean Squared Error\n",
    "\n",
    "$\\sqrt{\\frac{1}{n}\\sum(y-\\hat{y})^2}$"
   ]
  },
  {
   "cell_type": "code",
   "execution_count": null,
   "metadata": {},
   "outputs": [],
   "source": [
    "# write your function, include docstring\n",
    "..."
   ]
  },
  {
   "cell_type": "markdown",
   "metadata": {},
   "source": [
    "### R Squared\n",
    "\n",
    "* $SS_{res} = \\sum{(y - \\hat{y})^2}$\n",
    "* $SS_{tot} = \\sum{(y - \\bar{y})^2}$\n",
    "* $R^2 = 1 - \\frac{SS_{res}}{SS_{tot}}$"
   ]
  },
  {
   "cell_type": "code",
   "execution_count": null,
   "metadata": {},
   "outputs": [],
   "source": [
    "# write your function, include docstring\n",
    "..."
   ]
  }
 ],
 "metadata": {
  "kernelspec": {
   "display_name": "Python 3 (ipykernel)",
   "language": "python",
   "name": "python3"
  },
  "language_info": {
   "codemirror_mode": {
    "name": "ipython",
    "version": 3
   },
   "file_extension": ".py",
   "mimetype": "text/x-python",
   "name": "python",
   "nbconvert_exporter": "python",
   "pygments_lexer": "ipython3",
   "version": "3.9.7"
  }
 },
 "nbformat": 4,
 "nbformat_minor": 2
}
