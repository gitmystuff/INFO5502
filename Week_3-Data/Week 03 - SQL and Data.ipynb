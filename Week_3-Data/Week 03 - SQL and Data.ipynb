{
 "cells": [
  {
   "cell_type": "markdown",
   "id": "ca66507c",
   "metadata": {},
   "source": [
    "# Week 03 - SQL and Data \n"
   ]
  },
  {
   "cell_type": "markdown",
   "id": "4f76604e",
   "metadata": {},
   "source": [
    "## The Data Science Process\n",
    "\n",
    "<pre>\n",
    "Collecting | Cleaning | Exploratory Data Analysis (EDA) | Modelling | Deployment\n",
    "\n",
    "__ Data Engineering __ <br />\n",
    "             _____________ Data Analysist _____________ <br />\n",
    "                                                         Machine Learning Engineer <br />\n",
    "________________________________ Data Scientist ________________________________\n",
    "</pre>"
   ]
  },
  {
   "cell_type": "markdown",
   "id": "c880e7cc",
   "metadata": {},
   "source": [
    "## Importing Modules\n",
    "\n",
    "https://softwareengineering.stackexchange.com/questions/187403/import-module-vs-from-module-import-function"
   ]
  },
  {
   "cell_type": "markdown",
   "id": "d14f539e",
   "metadata": {},
   "source": [
    "## If Elif Else"
   ]
  },
  {
   "cell_type": "code",
   "execution_count": 1,
   "id": "ebdf68ce",
   "metadata": {},
   "outputs": [],
   "source": [
    "# if else\n",
    "my_kart = ['Baby Daisy', 'Baby Luigi', 'Baby Mario']\n"
   ]
  },
  {
   "cell_type": "code",
   "execution_count": 2,
   "id": "b2a8cd79",
   "metadata": {},
   "outputs": [],
   "source": [
    "# if elif else\n",
    "my_kart = ['Baby Daisy', 'Baby Luigi', 'Baby Mario']\n"
   ]
  },
  {
   "cell_type": "markdown",
   "id": "3fd86457",
   "metadata": {},
   "source": [
    "## Errors\n",
    "\n",
    "https://docs.python.org/3/library/exceptions.html"
   ]
  },
  {
   "cell_type": "code",
   "execution_count": 3,
   "id": "2d0e6a15",
   "metadata": {},
   "outputs": [],
   "source": [
    "# zero division error\n"
   ]
  },
  {
   "cell_type": "code",
   "execution_count": 4,
   "id": "669f74ad",
   "metadata": {},
   "outputs": [],
   "source": [
    "# type error\n"
   ]
  },
  {
   "cell_type": "markdown",
   "id": "cec620bf",
   "metadata": {},
   "source": [
    "## Try Except Break Continue"
   ]
  },
  {
   "cell_type": "code",
   "execution_count": 5,
   "id": "4525254e",
   "metadata": {},
   "outputs": [],
   "source": [
    "# zero divison exception\n"
   ]
  },
  {
   "cell_type": "code",
   "execution_count": 6,
   "id": "f466e1a5",
   "metadata": {},
   "outputs": [],
   "source": [
    "# type error and finally\n"
   ]
  },
  {
   "cell_type": "code",
   "execution_count": 7,
   "id": "97eeb56a",
   "metadata": {},
   "outputs": [],
   "source": [
    "# operators https://www.tutorialspoint.com/python/python_basic_operators.htm\n"
   ]
  },
  {
   "cell_type": "code",
   "execution_count": 8,
   "id": "70d6d9c4",
   "metadata": {},
   "outputs": [],
   "source": [
    "# break\n"
   ]
  },
  {
   "cell_type": "code",
   "execution_count": 9,
   "id": "91fda490",
   "metadata": {},
   "outputs": [],
   "source": [
    "# continue\n"
   ]
  },
  {
   "cell_type": "markdown",
   "id": "11227b8a",
   "metadata": {},
   "source": [
    "## Data\n",
    "\n",
    "### Characteristics of Data\n",
    "\n",
    "Scales of measurement or levels of measurement\n",
    "\n",
    "The characteristics of data: https://www.graphpad.com/support/faq/what-is-the-difference-between-ordinal-interval-and-ratio-variables-why-should-i-care/\n",
    "\n",
    "* Numerical: has measurement\n",
    "    * Discrete: can be counted (number of people in a class)\n",
    "    * Continuous: described as time or a measurement (height, weight, temps)\n",
    "* Categorical: some type of group or category. Categories can be represented by a number (female: 1, male: 2) but have no mathematical meaning\n",
    "* Nominal: named or labeled (31 flavors)\n",
    "* Ordinal: ordered or scaled (first, second, etc, very happy, happy, meh, sad, very sad)\n",
    "* Cardinal: the number of things, counted (1, 2, 3, 4, 6, etc)\n",
    "* Interval: ordered numbers with equal distances (50 degrees, 60 degrees, etc)\n",
    "* Ratio: has a true zero (can't have height of -2 inches, distance between 1 and 2 is the same as 3 and 4 and 4 is twice as much as 2)\n",
    "* Boolean: True or False\n",
    "* Object: Used in Python usually representing some aspect of categorical data"
   ]
  },
  {
   "cell_type": "code",
   "execution_count": 10,
   "id": "6cb84ff9",
   "metadata": {},
   "outputs": [],
   "source": [
    "# examples of type and casting https://www.w3schools.com/python/python_casting.asp\n"
   ]
  },
  {
   "cell_type": "markdown",
   "id": "37e642ed",
   "metadata": {},
   "source": [
    "## Data Collection"
   ]
  },
  {
   "cell_type": "markdown",
   "id": "19e4a8ac",
   "metadata": {},
   "source": [
    "### Sources of Data\n",
    "\n",
    "#### Primary Data Sources\n",
    "\n",
    "* First hand experience\n",
    "* Census data\n",
    "* Surveys\n",
    "* Questionnaires\n",
    "* Real time sentiment\n",
    "* Interviews\n",
    "* Observations\n",
    "* Experiments\n",
    "\n",
    "#### Secondary Data Sources\n",
    "\n",
    "* Books\n",
    "* Journals\n",
    "* Articles\n",
    "* Web pages\n",
    "* Blogs\n",
    "\n",
    "#### Databases\n",
    "\n",
    "* SQL\n",
    "* NoSQL\n",
    "\n",
    "#### APIs\n",
    "\n",
    "* Web services\n",
    "* Used to retrieve data\n",
    "\n",
    "#### Web Scraping\n",
    "\n",
    "* Programs you write to gather online data\n",
    "* Web harvesting\n",
    "* Online data extraction\n",
    "\n",
    "#### Data Streams\n",
    "\n",
    "* Internet of Things (sensors)\n",
    "* GPS\n",
    "* GIS (Geographic Information System) Mapping\n",
    "* Social media"
   ]
  },
  {
   "cell_type": "markdown",
   "id": "d713e0fa",
   "metadata": {},
   "source": [
    "### Sampling\n",
    "\n",
    "According to Wikipedia (2022):\n",
    "\n",
    ">  sampling is the selection of a subset (a statistical sample) of individuals from within a statistical population [similar elements] to estimate characteristics of the whole population (para 1).\n",
    "\n",
    "Sampling. (2022, January 24). In *Wikipedia*.https://en.wikipedia.org/wiki/Sampling_(statistics)\n",
    "\n",
    "Probabilistic Sampling\n",
    "* Simple random sampling: https://www.statisticshowto.com/probability-and-statistics/statistics-definitions/simple-random-sample/\n",
    "* Systematic sampling: https://www.open.edu/openlearncreate/mod/oucontent/view.php?id=233&section=1.5.2\n",
    "* Stratified sampling: https://www.geeksforgeeks.org/stratified-sampling-in-pandas/\n",
    "* Clustering: https://www.voxco.com/blog/stratified-sampling-vs-cluster-sampling/\n",
    "\n",
    "Non-Probabilistic Sampling Methods<br />\n",
    "https://www.analyticsvidhya.com/blog/2019/09/data-scientists-guide-8-types-of-sampling-techniques/\n",
    "* Convenience sampling: https://en.wikipedia.org/wiki/Convenience_sampling\n",
    "* Quota sampling: https://en.wikipedia.org/wiki/Quota_sampling\n",
    "* Snowball sampling: https://en.wikipedia.org/wiki/Snowball_sampling\n",
    "\n",
    "Probabilistic vs Non-Probabilistic (Quantitative vs Qualitative Research)\n",
    "\n",
    "* https://www.statisticssolutions.com/what-is-the-difference-between-probability-and-non-probability-sampling/\n"
   ]
  },
  {
   "cell_type": "markdown",
   "id": "bb7e442d",
   "metadata": {},
   "source": [
    "### Sampling Bias\n",
    "\n",
    "* https://towardsdatascience.com/five-cognitive-biases-in-data-science-and-how-to-avoid-them-2bf17459b041\n",
    "* https://towardsdatascience.com/bias-what-it-means-in-the-big-data-world-6e64893e92a1\n",
    "* https://en.wikipedia.org/wiki/Sampling_bias\n",
    "* https://www.masterclass.com/articles/sampling-bias#6-types-of-sampling-bias"
   ]
  },
  {
   "cell_type": "markdown",
   "id": "c7b058f2",
   "metadata": {},
   "source": [
    "### Bootstrap"
   ]
  },
  {
   "cell_type": "code",
   "execution_count": null,
   "id": "f097f9bd",
   "metadata": {},
   "outputs": [],
   "source": [
    "# Bootstrap: https://www.digitalocean.com/community/tutorials/bootstrap-sampling-in-python\n",
    "import numpy as np\n",
    "import random\n",
    "\n",
    "x = np.random.normal(loc= 300.0, size=1000)\n",
    "print(np.mean(x))\n",
    "\n",
    "sample_mean = []\n",
    "\n",
    "for i in range(50):\n",
    "    y = random.sample(x.tolist(), 4)\n",
    "    avg = np.mean(y)\n",
    "    sample_mean.append(avg)\n",
    "    \n",
    "print(np.mean(sample_mean))"
   ]
  },
  {
   "cell_type": "code",
   "execution_count": null,
   "id": "60ccd2d2",
   "metadata": {},
   "outputs": [],
   "source": [
    "# repeat to get an idea of the change in means\n",
    "sample_mean = []\n",
    "\n",
    "for i in range(50):\n",
    "    y = random.sample(x.tolist(), 4)\n",
    "    avg = np.mean(y)\n",
    "    sample_mean.append(avg)\n",
    "    \n",
    "print(np.mean(sample_mean))"
   ]
  },
  {
   "cell_type": "markdown",
   "id": "62804796",
   "metadata": {},
   "source": [
    "## Datasets"
   ]
  },
  {
   "cell_type": "code",
   "execution_count": 11,
   "id": "4b9b1400",
   "metadata": {},
   "outputs": [],
   "source": [
    "# sklearn datasets\n"
   ]
  },
  {
   "cell_type": "code",
   "execution_count": 12,
   "id": "17cbc627",
   "metadata": {},
   "outputs": [],
   "source": [
    "# scikit example\n"
   ]
  },
  {
   "cell_type": "code",
   "execution_count": 13,
   "id": "a88c3e2c",
   "metadata": {},
   "outputs": [],
   "source": [
    "# get keys\n"
   ]
  },
  {
   "cell_type": "code",
   "execution_count": 14,
   "id": "87de6742",
   "metadata": {},
   "outputs": [],
   "source": [
    "# get description\n"
   ]
  },
  {
   "cell_type": "code",
   "execution_count": 15,
   "id": "2ec38964",
   "metadata": {},
   "outputs": [],
   "source": [
    "# get feature names and target names\n"
   ]
  },
  {
   "cell_type": "code",
   "execution_count": 16,
   "id": "ff1053c9",
   "metadata": {},
   "outputs": [],
   "source": [
    "# create housing dataframe\n"
   ]
  },
  {
   "cell_type": "code",
   "execution_count": 17,
   "id": "466c8206",
   "metadata": {},
   "outputs": [],
   "source": [
    "# seaborn datasets\n"
   ]
  },
  {
   "cell_type": "code",
   "execution_count": 18,
   "id": "b86a4395",
   "metadata": {},
   "outputs": [],
   "source": [
    "# loading seaborn dataset\n"
   ]
  },
  {
   "cell_type": "markdown",
   "id": "c4610525",
   "metadata": {},
   "source": [
    "### Online Resources\n",
    "\n",
    "* https://www.statsmodels.org/devel/datasets/index.html \n",
    "* https://en.wikipedia.org/wiki/List_of_datasets_for_machine-learning_research\n",
    "* https://archive.ics.uci.edu/ml/datasets/Auto+MPG\n",
    "* http://lib.stat.cmu.edu/datasets/\n",
    "* https://www.kaggle.com/datasets\n",
    "* https://registry.opendata.aws/\n",
    "* https://dataportals.org/\n",
    "* https://opendatamonitor.eu/frontend/web/index.php?r=dashboard%2Findex\n",
    "* https://data.nasdaq.com/\n",
    "* http://radar.oreilly.com/2011/01/journalist-data-tools.html\n",
    "* https://www.reddit.com/r/datasets/\n",
    "* https://stat.ethz.ch/R-manual/R-devel/library/datasets/html/00Index.html\n",
    "* https://github.com/vincentarelbundock/Rdatasets \n",
    "* https://data.world/ "
   ]
  },
  {
   "cell_type": "code",
   "execution_count": 19,
   "id": "879c2f4f",
   "metadata": {},
   "outputs": [
    {
     "data": {
      "text/html": [
       "<div>\n",
       "<style scoped>\n",
       "    .dataframe tbody tr th:only-of-type {\n",
       "        vertical-align: middle;\n",
       "    }\n",
       "\n",
       "    .dataframe tbody tr th {\n",
       "        vertical-align: top;\n",
       "    }\n",
       "\n",
       "    .dataframe thead th {\n",
       "        text-align: right;\n",
       "    }\n",
       "</style>\n",
       "<table border=\"1\" class=\"dataframe\">\n",
       "  <thead>\n",
       "    <tr style=\"text-align: right;\">\n",
       "      <th></th>\n",
       "      <th>STATION</th>\n",
       "      <th>STATION_NAME</th>\n",
       "      <th>ELEVATION</th>\n",
       "      <th>LATITUDE</th>\n",
       "      <th>LONGITUDE</th>\n",
       "      <th>DATE</th>\n",
       "      <th>TPCP</th>\n",
       "      <th>EMXT</th>\n",
       "      <th>EMNT</th>\n",
       "    </tr>\n",
       "  </thead>\n",
       "  <tbody>\n",
       "    <tr>\n",
       "      <th>0</th>\n",
       "      <td>COOP:310301</td>\n",
       "      <td>ASHEVILLE NC US</td>\n",
       "      <td>682.1</td>\n",
       "      <td>35.5954</td>\n",
       "      <td>-82.5568</td>\n",
       "      <td>201001</td>\n",
       "      <td>413</td>\n",
       "      <td>59</td>\n",
       "      <td>10</td>\n",
       "    </tr>\n",
       "    <tr>\n",
       "      <th>1</th>\n",
       "      <td>COOP:310301</td>\n",
       "      <td>ASHEVILLE NC US</td>\n",
       "      <td>682.1</td>\n",
       "      <td>35.5954</td>\n",
       "      <td>-82.5568</td>\n",
       "      <td>201002</td>\n",
       "      <td>328</td>\n",
       "      <td>61</td>\n",
       "      <td>17</td>\n",
       "    </tr>\n",
       "    <tr>\n",
       "      <th>2</th>\n",
       "      <td>COOP:310301</td>\n",
       "      <td>ASHEVILLE NC US</td>\n",
       "      <td>682.1</td>\n",
       "      <td>35.5954</td>\n",
       "      <td>-82.5568</td>\n",
       "      <td>201003</td>\n",
       "      <td>286</td>\n",
       "      <td>73</td>\n",
       "      <td>25</td>\n",
       "    </tr>\n",
       "    <tr>\n",
       "      <th>3</th>\n",
       "      <td>COOP:310301</td>\n",
       "      <td>ASHEVILLE NC US</td>\n",
       "      <td>682.1</td>\n",
       "      <td>35.5954</td>\n",
       "      <td>-82.5568</td>\n",
       "      <td>201004</td>\n",
       "      <td>149</td>\n",
       "      <td>89</td>\n",
       "      <td>37</td>\n",
       "    </tr>\n",
       "    <tr>\n",
       "      <th>4</th>\n",
       "      <td>COOP:310301</td>\n",
       "      <td>ASHEVILLE NC US</td>\n",
       "      <td>682.1</td>\n",
       "      <td>35.5954</td>\n",
       "      <td>-82.5568</td>\n",
       "      <td>201005</td>\n",
       "      <td>265</td>\n",
       "      <td>85</td>\n",
       "      <td>40</td>\n",
       "    </tr>\n",
       "  </tbody>\n",
       "</table>\n",
       "</div>"
      ],
      "text/plain": [
       "       STATION     STATION_NAME  ELEVATION  LATITUDE  LONGITUDE    DATE  TPCP  \\\n",
       "0  COOP:310301  ASHEVILLE NC US      682.1   35.5954   -82.5568  201001   413   \n",
       "1  COOP:310301  ASHEVILLE NC US      682.1   35.5954   -82.5568  201002   328   \n",
       "2  COOP:310301  ASHEVILLE NC US      682.1   35.5954   -82.5568  201003   286   \n",
       "3  COOP:310301  ASHEVILLE NC US      682.1   35.5954   -82.5568  201004   149   \n",
       "4  COOP:310301  ASHEVILLE NC US      682.1   35.5954   -82.5568  201005   265   \n",
       "\n",
       "   EMXT  EMNT  \n",
       "0    59    10  \n",
       "1    61    17  \n",
       "2    73    25  \n",
       "3    89    37  \n",
       "4    85    40  "
      ]
     },
     "execution_count": 19,
     "metadata": {},
     "output_type": "execute_result"
    }
   ],
   "source": [
    "# lodaing data from url\n",
    "import pandas as pd\n",
    "\n",
    "weather = pd.read_csv('https://www1.ncdc.noaa.gov/pub/data/cdo/samples/ANNUAL_sample_csv.csv')\n",
    "weather.head()"
   ]
  },
  {
   "cell_type": "markdown",
   "id": "b331b7df",
   "metadata": {},
   "source": [
    "## SQL\n",
    "\n",
    "See Week 03 - SQL in class repository\n",
    "\n",
    "SQL, Structured Query Language, is a domain-specific language used in programming and designed for managing data held in a relational database management system (RDBMS), or for stream processing in a relational data stream management system (RDSMS). It is particularly useful in handling structured data, i.e. data incorporating relations among entities and variables.\n",
    "\n",
    "The SQL language is subdivided into several language elements, including:\n",
    "\n",
    "* Clauses, which are constituent components of statements and queries. (In some cases, these are optional.)[17]\n",
    "* Expressions, which can produce either scalar values, or tables consisting of columns and rows of data\n",
    "* Predicates, which specify conditions that can be evaluated to SQL three-valued logic (3VL) (true/false/unknown) or Boolean truth values and are used to limit the effects of statements and queries, or to change program flow.\n",
    "* Queries, which retrieve the data based on specific criteria. This is an important element of SQL.\n",
    "* Statements, which may have a persistent effect on schemata and data, or may control transactions, program flow, connections, sessions, or diagnostics.\n",
    "* SQL statements also include the semicolon (\";\") statement terminator. Though not required on every platform, it is defined as a standard part of the SQL grammar.\n",
    "* Insignificant whitespace is generally ignored in SQL statements and queries, making it easier to format SQL code for readability.\n",
    "\n",
    "<img src='https://wikimedia.org/api/rest_v1/media/math/render/svg/b83ad563285f7b0ebb325226d91f25ca0bffa7cd' alt='example of sql language elements'/>\n",
    "\n",
    "https://en.wikipedia.org/wiki/SQL\n",
    "\n",
    "A NoSQL (originally referring to \"non-SQL\" or \"non-relational\") database provides a mechanism for storage and retrieval of data that is modeled in means other than the tabular relations used in relational databases. Such databases have existed since the late 1960s, but the name \"NoSQL\" was only coined in the early 21st century, triggered by the needs of Web 2.0 companies. NoSQL databases are increasingly used in big data and real-time web applications. NoSQL systems are also sometimes called Not only SQL to emphasize that they may support SQL-like query languages or sit alongside SQL databases in polyglot-persistent architectures.\n",
    "\n",
    "Motivations for this approach include simplicity of design, simpler \"horizontal\" scaling to clusters of machines (which is a problem for relational databases), finer control over availability and limiting the object-relational impedance mismatch. The data structures used by NoSQL databases (e.g. key–value pair, wide column, graph, or document) are different from those used by default in relational databases, making some operations faster in NoSQL. The particular suitability of a given NoSQL database depends on the problem it must solve. Sometimes the data structures used by NoSQL databases are also viewed as \"more flexible\" than relational database tables.\n",
    "\n",
    "Many NoSQL stores compromise consistency (in the sense of the CAP theorem) in favor of availability, partition tolerance, and speed. Barriers to the greater adoption of NoSQL stores include the use of low-level query languages (instead of SQL, for instance), lack of ability to perform ad hoc joins across tables, lack of standardized interfaces, and huge previous investments in existing relational databases. Most NoSQL stores lack true ACID transactions, although a few databases have made them central to their designs.\n",
    "\n",
    "https://en.wikipedia.org/wiki/NoSQL\n",
    "\n",
    "Relational to NoSQL at Enterprise Scale: Lessons from Amazon: https://thenewstack.io/relational-to-nosql-at-enterprise-scale-lessons-from-amazon/"
   ]
  },
  {
   "cell_type": "markdown",
   "id": "131243b3",
   "metadata": {},
   "source": [
    "## Some Vocabulary\n",
    "\n",
    "* **Parameter vs Statistic**: https://www.statisticshowto.com/statistics-basics/how-to-tell-the-difference-between-a-statistic-and-a-parameter/ (parameter describes population, statistic describes sample)\n",
    "* **Statistical Inference**: According to Wikipedia: the process of using data analysis to infer properties of an underlying distribution of probability\n",
    "* **Variable**: Characteristic that describes a member of the sample\n",
    "\n",
    "### Features and Targets \n",
    "\n",
    "* Independent variables\n",
    "* Dependent variables\n",
    "\n",
    "### Rows and Columns\n",
    "* Rows = Observations\n",
    "* Columns = Features\n",
    "\n",
    "### Notebooks vs Production\n",
    "\n",
    "We are using Notebooks to teach and to keep notes, notebooks should not be used in production"
   ]
  },
  {
   "cell_type": "markdown",
   "id": "c1c6e5d8",
   "metadata": {},
   "source": [
    "## Descriptive Statistics"
   ]
  },
  {
   "cell_type": "markdown",
   "id": "af7405ea",
   "metadata": {},
   "source": [
    "## Measures of Center\n",
    "\n",
    "* Mean\n",
    "* Median\n",
    "* Mode"
   ]
  },
  {
   "cell_type": "markdown",
   "id": "f7ccd03a",
   "metadata": {},
   "source": [
    "### Examples"
   ]
  },
  {
   "cell_type": "code",
   "execution_count": 20,
   "id": "e4ef5c7b",
   "metadata": {},
   "outputs": [
    {
     "name": "stdout",
     "output_type": "stream",
     "text": [
      "Mean: 45.0\n",
      "Median: 45.0\n",
      "Mode: 45\n"
     ]
    },
    {
     "data": {
      "image/png": "[encoded data removed]",
      "text/plain": [
       "<Figure size 720x360 with 1 Axes>"
      ]
     },
     "metadata": {
      "needs_background": "light"
     },
     "output_type": "display_data"
    }
   ],
   "source": [
    "# integer data that are normally distributed\n",
    "import numpy as np\n",
    "import matplotlib.pyplot as plt\n",
    "import seaborn as sns\n",
    "from scipy import stats\n",
    "\n",
    "with open('normdist.txt') as f:\n",
    "    normdist = list(f)\n",
    "    \n",
    "normdist = [int(x.rstrip()) for x in normdist] # remove line breaks\n",
    "\n",
    "xmean = np.mean(normdist)\n",
    "xmedian = np.median(normdist)\n",
    "xmode = stats.mode(normdist)[0][0]\n",
    "\n",
    "print(f'Mean: {xmean}')\n",
    "print(f'Median: {xmedian}')\n",
    "print(f'Mode: {xmode}')\n",
    "\n",
    "fig = plt.figure(figsize=(10,5))\n",
    "sns.histplot(normdist, kde=True, color='grey')\n",
    "plt.axvline(x=xmean, color='red', linewidth=5, label='Mean')\n",
    "plt.axvline(x=xmedian, color='cyan', linewidth=3, label='Median')\n",
    "plt.axvline(x=xmode, color='black', linewidth=1, label='Mode')\n",
    "plt.legend()\n",
    "plt.show()"
   ]
  },
  {
   "cell_type": "code",
   "execution_count": 21,
   "id": "7e4c5e0b",
   "metadata": {},
   "outputs": [
    {
     "name": "stdout",
     "output_type": "stream",
     "text": [
      "Mean: 45.0\n",
      "[38 38 38 39 39 39 39 40 40 40 40 40 41 41 41 41 41 41 42 42 42 42 42 42\n",
      " 42 43 43 43 43 43 43 43 43 44 44 44 44 44 44 44 44 44 45 45 45 45 45 45\n",
      " 45 45 45 45 45 45 45 45 45 45 45 45 45 45 46 46 46 46 46 46 46 46 46 47\n",
      " 47 47 47 47 47 47 47 48 48 48 48 48 48 48 49 49 49 49 49 49 50 50 50 50\n",
      " 50 51 51 51 51 52 52 52]\n",
      "Median: 45\n",
      "Mode: Counter({45: 20, 44: 9, 46: 9, 43: 8, 47: 8, 42: 7, 48: 7, 41: 6, 49: 6, 40: 5, 50: 5, 39: 4, 51: 4, 38: 3, 52: 3})\n"
     ]
    }
   ],
   "source": [
    "# another perspective\n",
    "import numpy as np\n",
    "from collections import Counter\n",
    "\n",
    "normdist = np.sort(normdist)\n",
    "print(f'Mean: {normdist.sum()/len(normdist)}')\n",
    "print(normdist)\n",
    "print(f'Median: {normdist[int(len(normdist)/2)]}')\n",
    "print(f'Mode: {Counter(normdist)}')"
   ]
  },
  {
   "cell_type": "markdown",
   "id": "00837bb2",
   "metadata": {},
   "source": [
    "## Measures of Spread\n",
    "\n",
    "* Range\n",
    "* Quartiles\n",
    "* Interquartile Range\n",
    "* Variance\n",
    "* Standard Deviation"
   ]
  },
  {
   "cell_type": "code",
   "execution_count": 22,
   "id": "54c025d0",
   "metadata": {},
   "outputs": [
    {
     "name": "stdout",
     "output_type": "stream",
     "text": [
      "[38 38 38 39 39 39 39 40 40 40 40 40 41 41 41 41 41 41 42 42 42 42 42 42\n",
      " 42 43 43 43 43 43 43 43 43 44 44 44 44 44 44 44 44 44 45 45 45 45 45 45\n",
      " 45 45 45 45 45 45 45 45 45 45 45 45 45 45 46 46 46 46 46 46 46 46 46 47\n",
      " 47 47 47 47 47 47 47 48 48 48 48 48 48 48 49 49 49 49 49 49 50 50 50 50\n",
      " 50 51 51 51 51 52 52 52]\n",
      "43.0\n",
      "45.0\n",
      "47.0\n"
     ]
    }
   ],
   "source": [
    "# range and quartiles\n",
    "import numpy as np\n",
    "\n",
    "print(normdist)\n",
    "print(np.quantile(normdist, .25))\n",
    "print(np.quantile(normdist, .5))\n",
    "print(np.quantile(normdist, .75))"
   ]
  },
  {
   "cell_type": "markdown",
   "id": "ae06bce1",
   "metadata": {},
   "source": [
    "### Variance\n",
    "\n",
    "Variance is a measure of dispersion, meaning it is a measure of how far a set of numbers is spread out from their average value... There are two distinct concepts that are both called \"variance\". One is part of a theoretical probability distribution and is defined by an equation. The other variance is a characteristic of a set of observations. When variance is calculated from observations, those observations are typically measured from a real world system. If all possible observations of the system are present then the calculated variance is called the population variance. Normally, however, only a subset is available, and the variance calculated from this is called the sample variance. The variance calculated from a sample is considered an estimate of the full population variance. (paras. 1 & 3).\n",
    "\n",
    "https://en.wikipedia.org/wiki/Variance."
   ]
  },
  {
   "cell_type": "markdown",
   "id": "7a9f3665",
   "metadata": {},
   "source": [
    "### Formulas\n",
    "\n",
    "$\\mu = \\frac{1}{N} \\sum_{i=1}^{N} x_i$\n",
    "\n",
    "\n",
    "$\\sigma^2 = \\frac{1}{N}\\sum({x}-\\mu)^2$\n",
    "\n",
    "\n",
    "$s^2 = \\frac{\\sum(x-\\bar{x})^2}{n-1}$"
   ]
  },
  {
   "cell_type": "code",
   "execution_count": 23,
   "id": "4122c5c6",
   "metadata": {},
   "outputs": [
    {
     "name": "stdout",
     "output_type": "stream",
     "text": [
      "Variance: 0.9943503862416748\n",
      "Standard Deviation: 0.9971711920436104\n"
     ]
    },
    {
     "data": {
      "text/latex": [
       "$\\displaystyle {\\sigma^2 = \\frac{1}{N}\\sum({x}-\\mu)^2}$"
      ],
      "text/plain": [
       "<IPython.core.display.Math object>"
      ]
     },
     "metadata": {},
     "output_type": "display_data"
    },
    {
     "name": "stdout",
     "output_type": "stream",
     "text": [
      "Sum of Squared Deviations: 9943.503862416748\n",
      "N: 10000\n"
     ]
    }
   ],
   "source": [
    "# standard normal distribution with numpy\n",
    "# https://numpy.org/doc/stable/reference/random/generated/numpy.random.normal.html\n",
    "import numpy as np\n",
    "from IPython.display import display, Math, Latex\n",
    "\n",
    "mu = 0 # loc\n",
    "sigma = 1 # scale\n",
    "some_data = np.random.normal(mu, sigma, 10000) \n",
    "print(f'Variance: {np.var(some_data)}')\n",
    "print(f'Standard Deviation: {np.std(some_data)}')\n",
    "display(Math(r'{\\sigma^2 = \\frac{1}{N}\\sum({x}-\\mu)^2}'))\n",
    "print(f'Sum of Squared Deviations: {np.sum([(n - np.mean(some_data))**2 for n in some_data])}')\n",
    "print(f'N: {len(some_data)}')"
   ]
  },
  {
   "cell_type": "code",
   "execution_count": 24,
   "id": "ff0488a0",
   "metadata": {},
   "outputs": [
    {
     "data": {
      "image/png": "[encoded data removed]",
      "text/plain": [
       "<Figure size 432x288 with 1 Axes>"
      ]
     },
     "metadata": {
      "needs_background": "light"
     },
     "output_type": "display_data"
    }
   ],
   "source": [
    "# plot histplot\n",
    "import seaborn as sns\n",
    "import matplotlib.pyplot as plt\n",
    "\n",
    "sns.histplot(data=some_data, kde=True)\n",
    "plt.xlabel('Standard Deviations')\n",
    "plt.ylabel('Probabilities')\n",
    "plt.axvline(x=mu, color='red', label='Mean')\n",
    "plt.title('Normal Standard Distribution')\n",
    "plt.legend()\n",
    "plt.show();"
   ]
  },
  {
   "cell_type": "code",
   "execution_count": 25,
   "id": "6a1928bd",
   "metadata": {},
   "outputs": [
    {
     "name": "stdout",
     "output_type": "stream",
     "text": [
      "min: -3.8952174603089573\n",
      "q1: -0.6727384507113054\n",
      "q2 (median): -0.0001607448215099785\n",
      "q3: 0.657901242769814\n",
      "max: 4.6002964444366965\n",
      "\n",
      "Interquartile range:  Q3: 0.66 - Q1: -0.67 = 1.33\n",
      "inner fence distance = iqr * 1.5 = 2.00\n"
     ]
    }
   ],
   "source": [
    "# find interquartile range and inner outer boundaries\n",
    "q1 = np.quantile(some_data, 0.25)\n",
    "q3 = np.quantile(some_data, 0.75)\n",
    "iqr = q3 - q1\n",
    "\n",
    "lower_inner_fence = q1 - (1.5 * iqr)\n",
    "upper_inner_fence = q3 + (1.5 * iqr)\n",
    "lower_outer_fence = q1 - (3 * iqr)\n",
    "upper_outer_fence = q3 + (3 * iqr)\n",
    "fence_dist = iqr * 1.5\n",
    "\n",
    "print(f'min: {np.min(some_data)}')\n",
    "print(f'q1: {q1}')\n",
    "print(f'q2 (median): {np.quantile(some_data, .5)}')\n",
    "print(f'q3: {q3}')\n",
    "print(f'max: {np.max(some_data)}')\n",
    "print()\n",
    "print(f'Interquartile range:  Q3: {q3:.2f} - Q1: {q1:.2f} = {iqr:.2f}')\n",
    "print(f'inner fence distance = iqr * 1.5 = {fence_dist:.2f}')"
   ]
  },
  {
   "cell_type": "code",
   "execution_count": 26,
   "id": "f902ea86",
   "metadata": {},
   "outputs": [
    {
     "data": {
      "image/png": "[encoded data removed]",
      "text/plain": [
       "<Figure size 432x288 with 1 Axes>"
      ]
     },
     "metadata": {
      "needs_background": "light"
     },
     "output_type": "display_data"
    }
   ],
   "source": [
    "# normal data and the box plot\n",
    "sns.boxplot(x=some_data);"
   ]
  },
  {
   "cell_type": "code",
   "execution_count": 27,
   "id": "152261a1",
   "metadata": {},
   "outputs": [
    {
     "data": {
      "image/png": "[encoded data removed]",
      "text/plain": [
       "<Figure size 432x288 with 1 Axes>"
      ]
     },
     "metadata": {},
     "output_type": "display_data"
    }
   ],
   "source": [
    "# normal curve and the boxplot\n",
    "x = np.linspace(-3, 3, 1000)\n",
    "p = stats.norm.pdf(x, 0, 1)\n",
    "plt.plot(x, p, 'k', linewidth=2)\n",
    "plt.yticks(color='w')\n",
    "plt.boxplot(some_data, vert=False);"
   ]
  },
  {
   "cell_type": "code",
   "execution_count": 28,
   "id": "c2b6e6de",
   "metadata": {},
   "outputs": [
    {
     "data": {
      "image/png": "[encoded data removed]",
      "text/plain": [
       "<Figure size 432x288 with 1 Axes>"
      ]
     },
     "metadata": {
      "needs_background": "light"
     },
     "output_type": "display_data"
    }
   ],
   "source": [
    "# normal data and the violin plot\n",
    "sns.violinplot(x=some_data);"
   ]
  },
  {
   "cell_type": "markdown",
   "id": "9a597a56",
   "metadata": {},
   "source": [
    "## Measures of Center and Outliers\n",
    "\n",
    "Elon Musk and Tiny Houses Story\n",
    "\n",
    "* Outliers influence the mean: https://www.varsitytutors.com/hotmath/hotmath_help/topics/outliers\n",
    "* https://www.itl.nist.gov/div898/handbook/prc/section1/prc16.htm"
   ]
  },
  {
   "cell_type": "code",
   "execution_count": 29,
   "id": "78a07a4f",
   "metadata": {},
   "outputs": [
    {
     "name": "stdout",
     "output_type": "stream",
     "text": [
      "45.0\n",
      "952425.5238095238\n",
      "45.0\n",
      "45\n"
     ]
    }
   ],
   "source": [
    "import numpy as np\n",
    "from scipy import stats\n",
    "\n",
    "print(np.mean(normdist))\n",
    "nu_norm = np.append(normdist, 100000000)\n",
    "print(np.mean(nu_norm))\n",
    "print(np.median(nu_norm))\n",
    "print(stats.mode(nu_norm)[0][0])"
   ]
  },
  {
   "cell_type": "markdown",
   "id": "14facce3",
   "metadata": {},
   "source": [
    "## Measures of Shape\n",
    "\n",
    "https://www.analyticsvidhya.com/blog/2021/05/shape-of-data-skewness-and-kurtosis/\n",
    "\n",
    "Note: More on shapes in distributions lecture next week"
   ]
  },
  {
   "cell_type": "markdown",
   "id": "0ae4db68",
   "metadata": {},
   "source": [
    "### Skewness\n",
    "\n",
    "Skewness is a measure of the asymmetry of the probability distribution of a real-valued random variable about its mean. \n",
    "\n",
    "* https://en.wikipedia.org/wiki/Skewness\n",
    "* https://www.itl.nist.gov/div898/handbook/eda/section3/eda33e6.htm\n",
    "* https://www.investopedia.com/terms/s/skewness.asp\n",
    "\n",
    "**Right Skewed**\n",
    "* Tail is on the right side\n",
    "* Mode Median Mean\n",
    "* Positively Skewed Data Examples: https://www.statology.org/positively-skewed-distribution-examples/\n",
    "\n",
    "**Left Skewed**\n",
    "* Tail is on the left \n",
    "* Mean Median Mode\n",
    "* Negatively Skewed Data Examples: https://www.statology.org/negatively-skewed-distribution-examples/\n",
    "\n",
    "**Measuring Skewness**\n",
    "* https://medium.com/@atanudan/kurtosis-skew-function-in-pandas-aa63d72e20de"
   ]
  },
  {
   "cell_type": "code",
   "execution_count": 30,
   "id": "e14e8d51",
   "metadata": {},
   "outputs": [
    {
     "name": "stdout",
     "output_type": "stream",
     "text": [
      "Mean: 2970.424623115578\n",
      "Median: 2803.5\n",
      "Mode: 1985.0\n"
     ]
    },
    {
     "data": {
      "image/png": "[encoded data removed]",
      "text/plain": [
       "<Figure size 432x288 with 1 Axes>"
      ]
     },
     "metadata": {
      "needs_background": "light"
     },
     "output_type": "display_data"
    }
   ],
   "source": [
    "# show skewness and what it does to mean, median, and mode\n",
    "import pandas as pd\n",
    "import seaborn as sns\n",
    "\n",
    "cars = pd.read_csv('auto-mpg.data', sep = '\\s+', header = None)\n",
    "cars.columns=['mpg', 'cylinders', 'displacement', 'horsepower', 'weight', 'acceleration', 'model year', 'origin',  'car name']\n",
    "\n",
    "wt = cars['weight'].dropna()\n",
    "hp_mean = wt.mean()\n",
    "hp_median = wt.median()\n",
    "hp_mode = wt.mode()[0]\n",
    "\n",
    "print(f'Mean: {hp_mean}')\n",
    "print(f'Median: {hp_median}')\n",
    "print(f'Mode: {hp_mode}')\n",
    "\n",
    "# skewed data\n",
    "sns.histplot(wt, kde=True)\n",
    "plt.axvline(x=hp_mode, color='blue', label='Mode')\n",
    "plt.axvline(x=hp_median, color='green', label='Median')\n",
    "plt.axvline(x=hp_mean, color='red', label='Mean')\n",
    "plt.legend()\n",
    "plt.show()"
   ]
  },
  {
   "cell_type": "code",
   "execution_count": 31,
   "id": "4e79bf3a",
   "metadata": {},
   "outputs": [
    {
     "data": {
      "image/png": "[encoded data removed]",
      "text/plain": [
       "<Figure size 432x288 with 1 Axes>"
      ]
     },
     "metadata": {
      "needs_background": "light"
     },
     "output_type": "display_data"
    }
   ],
   "source": [
    "# skewed data and the boxplot\n",
    "sns.boxplot(x=wt);"
   ]
  },
  {
   "cell_type": "code",
   "execution_count": 32,
   "id": "ff5dbcef",
   "metadata": {},
   "outputs": [
    {
     "data": {
      "image/png": "[encoded data removed]",
      "text/plain": [
       "<Figure size 432x288 with 1 Axes>"
      ]
     },
     "metadata": {
      "needs_background": "light"
     },
     "output_type": "display_data"
    }
   ],
   "source": [
    "# skewed data and the violin plot\n",
    "sns.violinplot(x=wt);"
   ]
  },
  {
   "cell_type": "code",
   "execution_count": 33,
   "id": "60680570",
   "metadata": {},
   "outputs": [
    {
     "name": "stdout",
     "output_type": "stream",
     "text": [
      "right skew data mean: 7.92, median: 6.7\n",
      "left skew data mean: -7.81, median: -6.33\n"
     ]
    },
    {
     "data": {
      "image/png": "[encoded data removed]",
      "text/plain": [
       "<Figure size 1008x216 with 2 Axes>"
      ]
     },
     "metadata": {
      "needs_background": "light"
     },
     "output_type": "display_data"
    }
   ],
   "source": [
    "import numpy as np\n",
    "from scipy.stats import skewnorm\n",
    "from scipy import stats\n",
    "import matplotlib.pyplot as plt\n",
    "\n",
    "fig, ax = plt.subplots(1, 2, sharey=True, figsize=(14, 3))\n",
    "skew = 10\n",
    "\n",
    "r = skewnorm.rvs(skew, loc=0, scale=10, size=10000)\n",
    "ax[0].hist(r, density=True, alpha=0.4)\n",
    "ax[0].axvline(x=np.median(r), color='green', label='Median')\n",
    "ax[0].axvline(x=np.mean(r).round(2), color='red', label='Mean')\n",
    "ax[0].legend()\n",
    "print(f'right skew data mean: {np.mean(r).round(2)}, median: {np.median(r).round(2)}')\n",
    "\n",
    "l = skewnorm.rvs(-skew, loc=0, scale=10, size=1000)\n",
    "ax[1].hist(l, density=True, alpha=0.4);\n",
    "ax[1].axvline(x=np.mean(l).round(2), color='red', label='Mean')\n",
    "ax[1].axvline(x=np.median(l), color='green', label='Median')\n",
    "ax[1].legend()\n",
    "print(f'left skew data mean: {np.mean(l).round(2)}, median: {np.median(l).round(2)}')"
   ]
  },
  {
   "cell_type": "markdown",
   "id": "991c3c48",
   "metadata": {},
   "source": [
    "### Kurtosis\n",
    "\n",
    "https://www.investopedia.com/terms/p/platykurtic.asp\n",
    "\n",
    "Kurtosis is a measure of whether the data are heavy-tailed or light-tailed relative to a normal distribution.\n",
    "\n",
    "https://www.itl.nist.gov/div898/handbook/eda/section3/eda35b.htm\n",
    "\n",
    "* Mesokurtic: Extreme events are rare, resembles normal distribution\n",
    "* Platykurtic: Excess kurtosis is negative (< 3) and has thinner tails. Fewer extreme events. In finance, risk-averse investors might perfer platykurtic distributions\n",
    "* Leptokurtic: Excess kurtosis is greater than 3 and has fatter tails. Caused by extreme events or outliers.\n",
    "\n",
    "According to Investopedia (2022):\n",
    "\n",
    "> Risk-seeking investors can focus on investments whose returns follow a leptokurtic distribution, to maximize the chances of rare events—both positive and negative (para 3).\n",
    "\n",
    "Leptokurtic Definition. (2022, February 1). In *Investopedia*. https://www.investopedia.com/terms/l/leptokurtic.asp."
   ]
  },
  {
   "cell_type": "code",
   "execution_count": 34,
   "id": "1a7cb60b",
   "metadata": {},
   "outputs": [
    {
     "data": {
      "image/png": "[encoded data removed]",
      "text/plain": [
       "<Figure size 432x288 with 1 Axes>"
      ]
     },
     "metadata": {
      "needs_background": "light"
     },
     "output_type": "display_data"
    }
   ],
   "source": [
    "# https://docs.scipy.org/doc/scipy/reference/generated/scipy.stats.kurtosis.html\n",
    "import matplotlib.pyplot as plt\n",
    "import scipy.stats as stats\n",
    "from scipy.stats import kurtosis\n",
    "\n",
    "x = np.linspace(-5, 5, 100)\n",
    "ax = plt.subplot()\n",
    "distnames = ['laplace', 'norm', 'uniform']\n",
    "kurtnames = {'laplace': 'leptokurtic', 'norm': 'mesokurtic', 'uniform': 'platykurtic'}\n",
    "\n",
    "for distname in distnames:\n",
    "    if distname == 'uniform':\n",
    "        dist = getattr(stats, distname)(loc=-2, scale=4)\n",
    "    else:\n",
    "        dist = getattr(stats, distname)\n",
    "        \n",
    "    data = dist.rvs(size=1000)\n",
    "    kur = kurtosis(data, fisher=False)\n",
    "    y = dist.pdf(x)\n",
    "    ax.plot(x, y, label=f'{kurtnames[distname]}, {round(kur, 3)}')\n",
    "    ax.legend()"
   ]
  },
  {
   "cell_type": "markdown",
   "id": "439cb1ce",
   "metadata": {},
   "source": [
    "## Data Preparation"
   ]
  },
  {
   "cell_type": "markdown",
   "id": "01af88b6",
   "metadata": {},
   "source": [
    "### Cardinality\n",
    "\n",
    "* Uneven distribution of labels between train and test sets (some may appear in one set and not in other)\n",
    "* Variables with many labels dominate over those with fewer labels\n",
    "* Many labels introduces noise with little or no information\n",
    "* Reducing may help model performance\n",
    "* Removing variables with low cardinality may help model performance"
   ]
  },
  {
   "cell_type": "code",
   "execution_count": 35,
   "id": "2612dcac",
   "metadata": {},
   "outputs": [
    {
     "data": {
      "text/html": [
       "<div>\n",
       "<style scoped>\n",
       "    .dataframe tbody tr th:only-of-type {\n",
       "        vertical-align: middle;\n",
       "    }\n",
       "\n",
       "    .dataframe tbody tr th {\n",
       "        vertical-align: top;\n",
       "    }\n",
       "\n",
       "    .dataframe thead th {\n",
       "        text-align: right;\n",
       "    }\n",
       "</style>\n",
       "<table border=\"1\" class=\"dataframe\">\n",
       "  <thead>\n",
       "    <tr style=\"text-align: right;\">\n",
       "      <th></th>\n",
       "      <th>Prefix</th>\n",
       "      <th>Assignment1</th>\n",
       "      <th>Tutorial</th>\n",
       "      <th>Midterm</th>\n",
       "      <th>Quiz</th>\n",
       "      <th>Final</th>\n",
       "      <th>TakeHome</th>\n",
       "      <th>Student</th>\n",
       "      <th>Misc</th>\n",
       "      <th>Nothing</th>\n",
       "      <th>FinalGrade</th>\n",
       "      <th>work_status</th>\n",
       "      <th>scholarship</th>\n",
       "    </tr>\n",
       "  </thead>\n",
       "  <tbody>\n",
       "    <tr>\n",
       "      <th>0</th>\n",
       "      <td>5.0</td>\n",
       "      <td>57.14</td>\n",
       "      <td>34.09</td>\n",
       "      <td>72.0</td>\n",
       "      <td>72.0</td>\n",
       "      <td>52.50</td>\n",
       "      <td>F</td>\n",
       "      <td>1</td>\n",
       "      <td>0.0</td>\n",
       "      <td>NaN</td>\n",
       "      <td>54.0</td>\n",
       "      <td>half_time</td>\n",
       "      <td>no</td>\n",
       "    </tr>\n",
       "    <tr>\n",
       "      <th>1</th>\n",
       "      <td>8.0</td>\n",
       "      <td>95.05</td>\n",
       "      <td>105.49</td>\n",
       "      <td>84.0</td>\n",
       "      <td>84.0</td>\n",
       "      <td>68.33</td>\n",
       "      <td>A</td>\n",
       "      <td>1</td>\n",
       "      <td>NaN</td>\n",
       "      <td>NaN</td>\n",
       "      <td>81.0</td>\n",
       "      <td>half_time</td>\n",
       "      <td>yes</td>\n",
       "    </tr>\n",
       "    <tr>\n",
       "      <th>2</th>\n",
       "      <td>8.0</td>\n",
       "      <td>83.70</td>\n",
       "      <td>83.17</td>\n",
       "      <td>73.0</td>\n",
       "      <td>73.0</td>\n",
       "      <td>48.89</td>\n",
       "      <td>D</td>\n",
       "      <td>1</td>\n",
       "      <td>NaN</td>\n",
       "      <td>NaN</td>\n",
       "      <td>55.0</td>\n",
       "      <td>not_employed</td>\n",
       "      <td>no</td>\n",
       "    </tr>\n",
       "    <tr>\n",
       "      <th>3</th>\n",
       "      <td>7.0</td>\n",
       "      <td>81.22</td>\n",
       "      <td>96.06</td>\n",
       "      <td>81.0</td>\n",
       "      <td>81.0</td>\n",
       "      <td>80.56</td>\n",
       "      <td>A</td>\n",
       "      <td>1</td>\n",
       "      <td>NaN</td>\n",
       "      <td>NaN</td>\n",
       "      <td>71.0</td>\n",
       "      <td>half_time</td>\n",
       "      <td>no</td>\n",
       "    </tr>\n",
       "    <tr>\n",
       "      <th>4</th>\n",
       "      <td>8.0</td>\n",
       "      <td>91.32</td>\n",
       "      <td>NaN</td>\n",
       "      <td>70.0</td>\n",
       "      <td>70.0</td>\n",
       "      <td>73.89</td>\n",
       "      <td>A</td>\n",
       "      <td>1</td>\n",
       "      <td>NaN</td>\n",
       "      <td>NaN</td>\n",
       "      <td>89.0</td>\n",
       "      <td>NaN</td>\n",
       "      <td>yes</td>\n",
       "    </tr>\n",
       "  </tbody>\n",
       "</table>\n",
       "</div>"
      ],
      "text/plain": [
       "   Prefix  Assignment1  Tutorial  Midterm  Quiz  Final TakeHome  Student  \\\n",
       "0     5.0        57.14     34.09     72.0  72.0  52.50        F        1   \n",
       "1     8.0        95.05    105.49     84.0  84.0  68.33        A        1   \n",
       "2     8.0        83.70     83.17     73.0  73.0  48.89        D        1   \n",
       "3     7.0        81.22     96.06     81.0  81.0  80.56        A        1   \n",
       "4     8.0        91.32       NaN     70.0  70.0  73.89        A        1   \n",
       "\n",
       "   Misc  Nothing  FinalGrade   work_status scholarship  \n",
       "0   0.0      NaN        54.0     half_time          no  \n",
       "1   NaN      NaN        81.0     half_time         yes  \n",
       "2   NaN      NaN        55.0  not_employed          no  \n",
       "3   NaN      NaN        71.0     half_time          no  \n",
       "4   NaN      NaN        89.0           NaN         yes  "
      ]
     },
     "execution_count": 35,
     "metadata": {},
     "output_type": "execute_result"
    }
   ],
   "source": [
    "# get a dataset we can use for demonstration\n",
    "import pandas as pd\n",
    "\n",
    "grades = pd.read_csv('class-grades.csv', index_col=0)\n",
    "grades.head() # sample of what the dataset looks like"
   ]
  },
  {
   "cell_type": "code",
   "execution_count": 36,
   "id": "bd2cb509",
   "metadata": {},
   "outputs": [
    {
     "name": "stdout",
     "output_type": "stream",
     "text": [
      "<class 'pandas.core.frame.DataFrame'>\n",
      "Int64Index: 103 entries, 0 to 102\n",
      "Data columns (total 13 columns):\n",
      " #   Column       Non-Null Count  Dtype  \n",
      "---  ------       --------------  -----  \n",
      " 0   Prefix       97 non-null     float64\n",
      " 1   Assignment1  99 non-null     float64\n",
      " 2   Tutorial     91 non-null     float64\n",
      " 3   Midterm      96 non-null     float64\n",
      " 4   Quiz         96 non-null     float64\n",
      " 5   Final        100 non-null    float64\n",
      " 6   TakeHome     96 non-null     object \n",
      " 7   Student      103 non-null    int64  \n",
      " 8   Misc         1 non-null      float64\n",
      " 9   Nothing      0 non-null      float64\n",
      " 10  FinalGrade   100 non-null    float64\n",
      " 11  work_status  95 non-null     object \n",
      " 12  scholarship  103 non-null    object \n",
      "dtypes: float64(9), int64(1), object(3)\n",
      "memory usage: 11.3+ KB\n"
     ]
    }
   ],
   "source": [
    "grades.info() # check data types and non-null count"
   ]
  },
  {
   "cell_type": "code",
   "execution_count": 37,
   "id": "8e16d50c",
   "metadata": {},
   "outputs": [
    {
     "data": {
      "text/plain": [
       "['Student', 'Nothing']"
      ]
     },
     "execution_count": 37,
     "metadata": {},
     "output_type": "execute_result"
    }
   ],
   "source": [
    "# check for variables with only one value\n",
    "constant_values = [\n",
    "    val for val in grades.columns if len(grades[val].unique()) == 1\n",
    "]\n",
    "\n",
    "constant_values"
   ]
  },
  {
   "cell_type": "code",
   "execution_count": 38,
   "id": "dd2694e0",
   "metadata": {},
   "outputs": [
    {
     "data": {
      "text/plain": [
       "['Student', 'Misc', 'Nothing']"
      ]
     },
     "execution_count": 38,
     "metadata": {},
     "output_type": "execute_result"
    }
   ],
   "source": [
    "# replace missing values and then check how many unique values are in each variable\n",
    "few_values = [\n",
    "    val for val in grades.columns if len(grades[val].fillna(0).unique()) == 1\n",
    "]\n",
    "\n",
    "few_values"
   ]
  },
  {
   "cell_type": "code",
   "execution_count": 39,
   "id": "15cb8d44",
   "metadata": {},
   "outputs": [
    {
     "name": "stdout",
     "output_type": "stream",
     "text": [
      "0.0    1\n",
      "Name: Misc, dtype: int64\n",
      "Series([], Name: Nothing, dtype: int64)\n",
      "1    103\n",
      "Name: Student, dtype: int64\n",
      "yes    67\n",
      "no     36\n",
      "Name: scholarship, dtype: int64\n"
     ]
    }
   ],
   "source": [
    "# quasi constant values (sometimes these may be boolean features)\n",
    "for val in grades.columns.sort_values():\n",
    "    if (len(grades[val].unique()) < 3):\n",
    "        print(grades[val].value_counts())"
   ]
  },
  {
   "cell_type": "markdown",
   "id": "4f5a2ea2",
   "metadata": {},
   "source": [
    "### Duplicates"
   ]
  },
  {
   "cell_type": "markdown",
   "id": "be3a7cc5",
   "metadata": {},
   "source": [
    "### Duplicate Rows"
   ]
  },
  {
   "cell_type": "code",
   "execution_count": 40,
   "id": "ca5f5b4a",
   "metadata": {},
   "outputs": [
    {
     "data": {
      "text/html": [
       "<div>\n",
       "<style scoped>\n",
       "    .dataframe tbody tr th:only-of-type {\n",
       "        vertical-align: middle;\n",
       "    }\n",
       "\n",
       "    .dataframe tbody tr th {\n",
       "        vertical-align: top;\n",
       "    }\n",
       "\n",
       "    .dataframe thead th {\n",
       "        text-align: right;\n",
       "    }\n",
       "</style>\n",
       "<table border=\"1\" class=\"dataframe\">\n",
       "  <thead>\n",
       "    <tr style=\"text-align: right;\">\n",
       "      <th></th>\n",
       "      <th>Prefix</th>\n",
       "      <th>Assignment1</th>\n",
       "      <th>Tutorial</th>\n",
       "      <th>Midterm</th>\n",
       "      <th>Quiz</th>\n",
       "      <th>Final</th>\n",
       "      <th>TakeHome</th>\n",
       "      <th>Student</th>\n",
       "      <th>Misc</th>\n",
       "      <th>Nothing</th>\n",
       "      <th>FinalGrade</th>\n",
       "      <th>work_status</th>\n",
       "      <th>scholarship</th>\n",
       "    </tr>\n",
       "  </thead>\n",
       "  <tbody>\n",
       "    <tr>\n",
       "      <th>1</th>\n",
       "      <td>8.0</td>\n",
       "      <td>95.05</td>\n",
       "      <td>105.49</td>\n",
       "      <td>84.0</td>\n",
       "      <td>84.0</td>\n",
       "      <td>68.33</td>\n",
       "      <td>A</td>\n",
       "      <td>1</td>\n",
       "      <td>NaN</td>\n",
       "      <td>NaN</td>\n",
       "      <td>81.0</td>\n",
       "      <td>half_time</td>\n",
       "      <td>yes</td>\n",
       "    </tr>\n",
       "    <tr>\n",
       "      <th>2</th>\n",
       "      <td>8.0</td>\n",
       "      <td>83.70</td>\n",
       "      <td>83.17</td>\n",
       "      <td>73.0</td>\n",
       "      <td>73.0</td>\n",
       "      <td>48.89</td>\n",
       "      <td>D</td>\n",
       "      <td>1</td>\n",
       "      <td>NaN</td>\n",
       "      <td>NaN</td>\n",
       "      <td>55.0</td>\n",
       "      <td>not_employed</td>\n",
       "      <td>no</td>\n",
       "    </tr>\n",
       "    <tr>\n",
       "      <th>3</th>\n",
       "      <td>7.0</td>\n",
       "      <td>81.22</td>\n",
       "      <td>96.06</td>\n",
       "      <td>81.0</td>\n",
       "      <td>81.0</td>\n",
       "      <td>80.56</td>\n",
       "      <td>A</td>\n",
       "      <td>1</td>\n",
       "      <td>NaN</td>\n",
       "      <td>NaN</td>\n",
       "      <td>71.0</td>\n",
       "      <td>half_time</td>\n",
       "      <td>no</td>\n",
       "    </tr>\n",
       "    <tr>\n",
       "      <th>4</th>\n",
       "      <td>8.0</td>\n",
       "      <td>91.32</td>\n",
       "      <td>NaN</td>\n",
       "      <td>70.0</td>\n",
       "      <td>70.0</td>\n",
       "      <td>73.89</td>\n",
       "      <td>A</td>\n",
       "      <td>1</td>\n",
       "      <td>NaN</td>\n",
       "      <td>NaN</td>\n",
       "      <td>89.0</td>\n",
       "      <td>NaN</td>\n",
       "      <td>yes</td>\n",
       "    </tr>\n",
       "    <tr>\n",
       "      <th>99</th>\n",
       "      <td>8.0</td>\n",
       "      <td>95.05</td>\n",
       "      <td>105.49</td>\n",
       "      <td>84.0</td>\n",
       "      <td>84.0</td>\n",
       "      <td>68.33</td>\n",
       "      <td>A</td>\n",
       "      <td>1</td>\n",
       "      <td>NaN</td>\n",
       "      <td>NaN</td>\n",
       "      <td>81.0</td>\n",
       "      <td>half_time</td>\n",
       "      <td>yes</td>\n",
       "    </tr>\n",
       "    <tr>\n",
       "      <th>100</th>\n",
       "      <td>8.0</td>\n",
       "      <td>83.70</td>\n",
       "      <td>83.17</td>\n",
       "      <td>73.0</td>\n",
       "      <td>73.0</td>\n",
       "      <td>48.89</td>\n",
       "      <td>D</td>\n",
       "      <td>1</td>\n",
       "      <td>NaN</td>\n",
       "      <td>NaN</td>\n",
       "      <td>55.0</td>\n",
       "      <td>not_employed</td>\n",
       "      <td>no</td>\n",
       "    </tr>\n",
       "    <tr>\n",
       "      <th>101</th>\n",
       "      <td>7.0</td>\n",
       "      <td>81.22</td>\n",
       "      <td>96.06</td>\n",
       "      <td>81.0</td>\n",
       "      <td>81.0</td>\n",
       "      <td>80.56</td>\n",
       "      <td>A</td>\n",
       "      <td>1</td>\n",
       "      <td>NaN</td>\n",
       "      <td>NaN</td>\n",
       "      <td>71.0</td>\n",
       "      <td>half_time</td>\n",
       "      <td>no</td>\n",
       "    </tr>\n",
       "    <tr>\n",
       "      <th>102</th>\n",
       "      <td>8.0</td>\n",
       "      <td>91.32</td>\n",
       "      <td>NaN</td>\n",
       "      <td>70.0</td>\n",
       "      <td>70.0</td>\n",
       "      <td>73.89</td>\n",
       "      <td>A</td>\n",
       "      <td>1</td>\n",
       "      <td>NaN</td>\n",
       "      <td>NaN</td>\n",
       "      <td>89.0</td>\n",
       "      <td>NaN</td>\n",
       "      <td>yes</td>\n",
       "    </tr>\n",
       "  </tbody>\n",
       "</table>\n",
       "</div>"
      ],
      "text/plain": [
       "     Prefix  Assignment1  Tutorial  Midterm  Quiz  Final TakeHome  Student  \\\n",
       "1       8.0        95.05    105.49     84.0  84.0  68.33        A        1   \n",
       "2       8.0        83.70     83.17     73.0  73.0  48.89        D        1   \n",
       "3       7.0        81.22     96.06     81.0  81.0  80.56        A        1   \n",
       "4       8.0        91.32       NaN     70.0  70.0  73.89        A        1   \n",
       "99      8.0        95.05    105.49     84.0  84.0  68.33        A        1   \n",
       "100     8.0        83.70     83.17     73.0  73.0  48.89        D        1   \n",
       "101     7.0        81.22     96.06     81.0  81.0  80.56        A        1   \n",
       "102     8.0        91.32       NaN     70.0  70.0  73.89        A        1   \n",
       "\n",
       "     Misc  Nothing  FinalGrade   work_status scholarship  \n",
       "1     NaN      NaN        81.0     half_time         yes  \n",
       "2     NaN      NaN        55.0  not_employed          no  \n",
       "3     NaN      NaN        71.0     half_time          no  \n",
       "4     NaN      NaN        89.0           NaN         yes  \n",
       "99    NaN      NaN        81.0     half_time         yes  \n",
       "100   NaN      NaN        55.0  not_employed          no  \n",
       "101   NaN      NaN        71.0     half_time          no  \n",
       "102   NaN      NaN        89.0           NaN         yes  "
      ]
     },
     "execution_count": 40,
     "metadata": {},
     "output_type": "execute_result"
    }
   ],
   "source": [
    "grades[grades.duplicated(keep=False)]"
   ]
  },
  {
   "cell_type": "code",
   "execution_count": 41,
   "id": "760b94b2",
   "metadata": {},
   "outputs": [],
   "source": [
    "grades.drop_duplicates(inplace=True)"
   ]
  },
  {
   "cell_type": "code",
   "execution_count": 42,
   "id": "e3b7dd5b",
   "metadata": {},
   "outputs": [
    {
     "data": {
      "text/html": [
       "<div>\n",
       "<style scoped>\n",
       "    .dataframe tbody tr th:only-of-type {\n",
       "        vertical-align: middle;\n",
       "    }\n",
       "\n",
       "    .dataframe tbody tr th {\n",
       "        vertical-align: top;\n",
       "    }\n",
       "\n",
       "    .dataframe thead th {\n",
       "        text-align: right;\n",
       "    }\n",
       "</style>\n",
       "<table border=\"1\" class=\"dataframe\">\n",
       "  <thead>\n",
       "    <tr style=\"text-align: right;\">\n",
       "      <th></th>\n",
       "      <th>Prefix</th>\n",
       "      <th>Assignment1</th>\n",
       "      <th>Tutorial</th>\n",
       "      <th>Midterm</th>\n",
       "      <th>Quiz</th>\n",
       "      <th>Final</th>\n",
       "      <th>TakeHome</th>\n",
       "      <th>Student</th>\n",
       "      <th>Misc</th>\n",
       "      <th>Nothing</th>\n",
       "      <th>FinalGrade</th>\n",
       "      <th>work_status</th>\n",
       "      <th>scholarship</th>\n",
       "    </tr>\n",
       "  </thead>\n",
       "  <tbody>\n",
       "  </tbody>\n",
       "</table>\n",
       "</div>"
      ],
      "text/plain": [
       "Empty DataFrame\n",
       "Columns: [Prefix, Assignment1, Tutorial, Midterm, Quiz, Final, TakeHome, Student, Misc, Nothing, FinalGrade, work_status, scholarship]\n",
       "Index: []"
      ]
     },
     "execution_count": 42,
     "metadata": {},
     "output_type": "execute_result"
    }
   ],
   "source": [
    "grades[grades.duplicated(keep=False)]"
   ]
  },
  {
   "cell_type": "markdown",
   "id": "1a74ce8c",
   "metadata": {},
   "source": [
    "### Duplicate Columns"
   ]
  },
  {
   "cell_type": "code",
   "execution_count": 43,
   "id": "308d605b",
   "metadata": {},
   "outputs": [
    {
     "name": "stdout",
     "output_type": "stream",
     "text": [
      "Midterm looks the same as Quiz\n"
     ]
    },
    {
     "data": {
      "text/plain": [
       "['Quiz']"
      ]
     },
     "execution_count": 43,
     "metadata": {},
     "output_type": "execute_result"
    }
   ],
   "source": [
    "# check of duplicate columns\n",
    "duplicate_variables = []\n",
    "for i in range(0, len(grades.columns)):\n",
    "    orig = grades.columns[i]\n",
    "\n",
    "    for dupe in grades.columns[i + 1:]:\n",
    "        if grades[orig].equals(grades[dupe]):\n",
    "            duplicate_variables.append(dupe)\n",
    "            print(f'{orig} looks the same as {dupe}')\n",
    "            \n",
    "duplicate_variables"
   ]
  },
  {
   "cell_type": "code",
   "execution_count": 44,
   "id": "d952586f",
   "metadata": {},
   "outputs": [
    {
     "name": "stdout",
     "output_type": "stream",
     "text": [
      "<class 'pandas.core.frame.DataFrame'>\n",
      "Int64Index: 99 entries, 0 to 98\n",
      "Data columns (total 9 columns):\n",
      " #   Column       Non-Null Count  Dtype  \n",
      "---  ------       --------------  -----  \n",
      " 0   Prefix       93 non-null     float64\n",
      " 1   Assignment1  95 non-null     float64\n",
      " 2   Tutorial     88 non-null     float64\n",
      " 3   Midterm      92 non-null     float64\n",
      " 4   Final        96 non-null     float64\n",
      " 5   TakeHome     92 non-null     object \n",
      " 6   FinalGrade   96 non-null     float64\n",
      " 7   work_status  92 non-null     object \n",
      " 8   scholarship  99 non-null     object \n",
      "dtypes: float64(6), object(3)\n",
      "memory usage: 7.7+ KB\n"
     ]
    }
   ],
   "source": [
    "# drop the variables that are duplicated or low in variance\n",
    "grades.drop(['Quiz', 'Student', 'Misc', 'Nothing'], axis=1, inplace=True)\n",
    "grades.info()"
   ]
  },
  {
   "cell_type": "markdown",
   "id": "1b6c5665",
   "metadata": {},
   "source": [
    "### Imputation\n",
    "\n",
    "### Missingness\n",
    "\n",
    "* **Missing Completely at Random (MCAR)**: the probability of a missing value is the same for all missing values\n",
    "* **Missing at Random (MAR)**: the missing value seems to be the result of a grouping or situation (younger students not reporting their quiz scores)\n",
    "* **Missing not at Random (MNAR)**: the missing value is missing for a reason whether we know it or not (quiz scores being left out because they are low)\n",
    "\n",
    "Readings:\n",
    "* https://stefvanbuuren.name/fimd/sec-MCAR.html\n",
    "* https://www.ncbi.nlm.nih.gov/pmc/articles/PMC4121561/\n",
    "\n",
    "### Complete-Case Analysis (CCA)\n",
    "\n",
    "* Aka Listwise deletion\n",
    "* Reduces sample size\n",
    "* Can reduce the statistical efficiency of estimates\n",
    "* MCAR"
   ]
  },
  {
   "cell_type": "code",
   "execution_count": 45,
   "id": "69acecf6",
   "metadata": {},
   "outputs": [
    {
     "name": "stdout",
     "output_type": "stream",
     "text": [
      "(1460, 81)\n",
      "(0, 81)\n"
     ]
    }
   ],
   "source": [
    "# demo cca https://www.kaggle.com/c/house-prices-advanced-regression-techniques/data\n",
    "import pandas as pd\n",
    "\n",
    "houses = pd.read_csv('house-prices.csv', on_bad_lines='warn') # review correcting errors\n",
    "print(houses.shape)\n",
    "print(houses.dropna().shape)"
   ]
  },
  {
   "cell_type": "code",
   "execution_count": 46,
   "id": "ae818b9c",
   "metadata": {},
   "outputs": [
    {
     "data": {
      "text/html": [
       "<div>\n",
       "<style scoped>\n",
       "    .dataframe tbody tr th:only-of-type {\n",
       "        vertical-align: middle;\n",
       "    }\n",
       "\n",
       "    .dataframe tbody tr th {\n",
       "        vertical-align: top;\n",
       "    }\n",
       "\n",
       "    .dataframe thead th {\n",
       "        text-align: right;\n",
       "    }\n",
       "</style>\n",
       "<table border=\"1\" class=\"dataframe\">\n",
       "  <thead>\n",
       "    <tr style=\"text-align: right;\">\n",
       "      <th></th>\n",
       "      <th>feature</th>\n",
       "      <th>percentage</th>\n",
       "    </tr>\n",
       "  </thead>\n",
       "  <tbody>\n",
       "    <tr>\n",
       "      <th>16</th>\n",
       "      <td>PoolQC</td>\n",
       "      <td>0.995205</td>\n",
       "    </tr>\n",
       "    <tr>\n",
       "      <th>18</th>\n",
       "      <td>MiscFeature</td>\n",
       "      <td>0.963014</td>\n",
       "    </tr>\n",
       "    <tr>\n",
       "      <th>1</th>\n",
       "      <td>Alley</td>\n",
       "      <td>0.937671</td>\n",
       "    </tr>\n",
       "    <tr>\n",
       "      <th>17</th>\n",
       "      <td>Fence</td>\n",
       "      <td>0.807534</td>\n",
       "    </tr>\n",
       "    <tr>\n",
       "      <th>10</th>\n",
       "      <td>FireplaceQu</td>\n",
       "      <td>0.472603</td>\n",
       "    </tr>\n",
       "    <tr>\n",
       "      <th>0</th>\n",
       "      <td>LotFrontage</td>\n",
       "      <td>0.177397</td>\n",
       "    </tr>\n",
       "    <tr>\n",
       "      <th>11</th>\n",
       "      <td>GarageType</td>\n",
       "      <td>0.055479</td>\n",
       "    </tr>\n",
       "    <tr>\n",
       "      <th>12</th>\n",
       "      <td>GarageYrBlt</td>\n",
       "      <td>0.055479</td>\n",
       "    </tr>\n",
       "    <tr>\n",
       "      <th>13</th>\n",
       "      <td>GarageFinish</td>\n",
       "      <td>0.055479</td>\n",
       "    </tr>\n",
       "    <tr>\n",
       "      <th>14</th>\n",
       "      <td>GarageQual</td>\n",
       "      <td>0.055479</td>\n",
       "    </tr>\n",
       "    <tr>\n",
       "      <th>15</th>\n",
       "      <td>GarageCond</td>\n",
       "      <td>0.055479</td>\n",
       "    </tr>\n",
       "    <tr>\n",
       "      <th>6</th>\n",
       "      <td>BsmtExposure</td>\n",
       "      <td>0.026027</td>\n",
       "    </tr>\n",
       "    <tr>\n",
       "      <th>8</th>\n",
       "      <td>BsmtFinType2</td>\n",
       "      <td>0.026027</td>\n",
       "    </tr>\n",
       "    <tr>\n",
       "      <th>7</th>\n",
       "      <td>BsmtFinType1</td>\n",
       "      <td>0.025342</td>\n",
       "    </tr>\n",
       "    <tr>\n",
       "      <th>5</th>\n",
       "      <td>BsmtCond</td>\n",
       "      <td>0.025342</td>\n",
       "    </tr>\n",
       "    <tr>\n",
       "      <th>4</th>\n",
       "      <td>BsmtQual</td>\n",
       "      <td>0.025342</td>\n",
       "    </tr>\n",
       "    <tr>\n",
       "      <th>3</th>\n",
       "      <td>MasVnrArea</td>\n",
       "      <td>0.005479</td>\n",
       "    </tr>\n",
       "    <tr>\n",
       "      <th>2</th>\n",
       "      <td>MasVnrType</td>\n",
       "      <td>0.005479</td>\n",
       "    </tr>\n",
       "    <tr>\n",
       "      <th>9</th>\n",
       "      <td>Electrical</td>\n",
       "      <td>0.000685</td>\n",
       "    </tr>\n",
       "  </tbody>\n",
       "</table>\n",
       "</div>"
      ],
      "text/plain": [
       "         feature  percentage\n",
       "16        PoolQC    0.995205\n",
       "18   MiscFeature    0.963014\n",
       "1          Alley    0.937671\n",
       "17         Fence    0.807534\n",
       "10   FireplaceQu    0.472603\n",
       "0    LotFrontage    0.177397\n",
       "11    GarageType    0.055479\n",
       "12   GarageYrBlt    0.055479\n",
       "13  GarageFinish    0.055479\n",
       "14    GarageQual    0.055479\n",
       "15    GarageCond    0.055479\n",
       "6   BsmtExposure    0.026027\n",
       "8   BsmtFinType2    0.026027\n",
       "7   BsmtFinType1    0.025342\n",
       "5       BsmtCond    0.025342\n",
       "4       BsmtQual    0.025342\n",
       "3     MasVnrArea    0.005479\n",
       "2     MasVnrType    0.005479\n",
       "9     Electrical    0.000685"
      ]
     },
     "execution_count": 46,
     "metadata": {},
     "output_type": "execute_result"
    }
   ],
   "source": [
    "# get percentages of missing values\n",
    "import pandas as pd\n",
    "\n",
    "nulls = [feat for feat in houses.columns if houses[feat].isnull().any()]\n",
    "cca = houses[nulls].isnull().mean()\n",
    "houses_with_nulls = pd.DataFrame(cca.reset_index())\n",
    "houses_with_nulls.columns = ['feature', 'percentage']\n",
    "houses_with_nulls.sort_values(by='percentage', ascending=False, inplace=True)\n",
    "houses_with_nulls"
   ]
  },
  {
   "cell_type": "markdown",
   "id": "80322731",
   "metadata": {},
   "source": [
    "Notice the features near or over 50%. Avoid using CCA, for these, because of risk of removing too much data"
   ]
  },
  {
   "cell_type": "markdown",
   "id": "03623a64",
   "metadata": {},
   "source": [
    "### Mean, Median, Mode Imputation\n",
    "\n",
    "* Mean if normal\n",
    "* Median if skewed\n",
    "* Used for MNAR, MAR"
   ]
  },
  {
   "cell_type": "code",
   "execution_count": 47,
   "id": "9e182562",
   "metadata": {},
   "outputs": [
    {
     "data": {
      "text/plain": [
       "Prefix          6\n",
       "Assignment1     4\n",
       "Tutorial       11\n",
       "Midterm         7\n",
       "Final           3\n",
       "TakeHome        7\n",
       "FinalGrade      3\n",
       "work_status     7\n",
       "scholarship     0\n",
       "dtype: int64"
      ]
     },
     "execution_count": 47,
     "metadata": {},
     "output_type": "execute_result"
    }
   ],
   "source": [
    "# count nulls\n",
    "grades.isnull().sum()"
   ]
  },
  {
   "cell_type": "code",
   "execution_count": 48,
   "id": "4b782b37",
   "metadata": {},
   "outputs": [
    {
     "data": {
      "image/png": "[encoded data removed]",
      "text/plain": [
       "<Figure size 432x288 with 6 Axes>"
      ]
     },
     "metadata": {
      "needs_background": "light"
     },
     "output_type": "display_data"
    }
   ],
   "source": [
    "# look at the shape of variables that are numerical\n",
    "import matplotlib.pyplot as plt\n",
    "\n",
    "grades.hist()\n",
    "plt.tight_layout();"
   ]
  },
  {
   "cell_type": "markdown",
   "id": "50ab9b21",
   "metadata": {},
   "source": [
    "### Summary of Histograms\n",
    "\n",
    "* Prefix looks discrete, probably nominal numeric\n",
    "* Recall examples of skewness, specifically left skewed data\n",
    "* Scores on easy exams - https://www.statology.org/negatively-skewed-distribution-examples/\n",
    "* Assignment 1 and Tutorial kind of look left skewed (negatively skewed)\n",
    "* For this demonstration we will consider Midterm, Final, and Final Grade to be normal\n",
    "\n",
    "#### Mean Imputation\n",
    "\n",
    "* Midterm, Final, and FinalGrade\n",
    "\n",
    "#### Median Imputation\n",
    "\n",
    "* Assignment1, Tutorial"
   ]
  },
  {
   "cell_type": "code",
   "execution_count": 49,
   "id": "a9052397",
   "metadata": {},
   "outputs": [
    {
     "data": {
      "text/plain": [
       "Prefix         6\n",
       "Assignment1    0\n",
       "Tutorial       0\n",
       "Midterm        0\n",
       "Final          0\n",
       "TakeHome       7\n",
       "FinalGrade     0\n",
       "work_status    7\n",
       "scholarship    0\n",
       "dtype: int64"
      ]
     },
     "execution_count": 49,
     "metadata": {},
     "output_type": "execute_result"
    }
   ],
   "source": [
    "# impute missing values with mean and median\n",
    "grades['Midterm'].fillna(round(grades['Midterm'].mean(), 2), inplace=True)\n",
    "grades['Final'].fillna(round(grades['Final'].mean(), 2), inplace=True)\n",
    "grades['FinalGrade'].fillna(round(grades['FinalGrade'].mean(), 2), inplace=True)\n",
    "grades['Assignment1'].fillna(grades['Assignment1'].median(), inplace=True)\n",
    "grades['Tutorial'].fillna(grades['Tutorial'].median(), inplace=True)\n",
    "grades.isnull().sum()"
   ]
  },
  {
   "cell_type": "markdown",
   "id": "e9b521bd",
   "metadata": {},
   "source": [
    "### Mode\n",
    "\n",
    "Let's see what our value_counts show"
   ]
  },
  {
   "cell_type": "code",
   "execution_count": 50,
   "id": "2977ae0c",
   "metadata": {},
   "outputs": [
    {
     "name": "stdout",
     "output_type": "stream",
     "text": [
      "A      43\n",
      "B      18\n",
      "D      12\n",
      "C      10\n",
      "F       9\n",
      "NaN     7\n",
      "Name: TakeHome, dtype: int64\n",
      "not_employed    47\n",
      "half_time       35\n",
      "full_time       10\n",
      "NaN              7\n",
      "Name: work_status, dtype: int64\n"
     ]
    }
   ],
   "source": [
    "print(grades['TakeHome'].value_counts(dropna=False))\n",
    "print(grades['work_status'].value_counts(dropna=False))"
   ]
  },
  {
   "cell_type": "code",
   "execution_count": 51,
   "id": "e9d56970",
   "metadata": {},
   "outputs": [
    {
     "data": {
      "text/plain": [
       "Prefix         6\n",
       "Assignment1    0\n",
       "Tutorial       0\n",
       "Midterm        0\n",
       "Final          0\n",
       "TakeHome       7\n",
       "FinalGrade     0\n",
       "work_status    0\n",
       "scholarship    0\n",
       "dtype: int64"
      ]
     },
     "execution_count": 51,
     "metadata": {},
     "output_type": "execute_result"
    }
   ],
   "source": [
    "# replace work_status with mode (not employed)\n",
    "grades['work_status'].fillna(grades['work_status'].mode()[0], inplace=True)\n",
    "grades.isnull().sum()"
   ]
  },
  {
   "cell_type": "markdown",
   "id": "67e220d3",
   "metadata": {},
   "source": [
    "### Arbitrary Constants\n",
    "\n",
    "* Discovers if MNAR\n",
    "* Goal is to flag missing values\n",
    "* Use values not in distribution\n",
    "* Importance of missingness if present\n",
    "* Depends on the model (Linear models maybe not because more arbitrary values in distribution, Trees maybe)\n",
    "\n",
    "We don't want to impute mean, median, etc because it looks like the data. We want to emphasize the missing data because we believe it's missing not at random."
   ]
  },
  {
   "cell_type": "code",
   "execution_count": 52,
   "id": "bab7cc89",
   "metadata": {},
   "outputs": [
    {
     "data": {
      "text/plain": [
       "8.0        51\n",
       "7.0        32\n",
       "6.0         7\n",
       "Missing     6\n",
       "4.0         2\n",
       "5.0         1\n",
       "Name: Prefix, dtype: int64"
      ]
     },
     "execution_count": 52,
     "metadata": {},
     "output_type": "execute_result"
    }
   ],
   "source": [
    "# flag missing values\n",
    "grades['Prefix'].fillna('Missing', inplace=True)\n",
    "grades['Prefix'].value_counts()"
   ]
  },
  {
   "cell_type": "markdown",
   "id": "a7110952",
   "metadata": {},
   "source": [
    "### Random Sample"
   ]
  },
  {
   "cell_type": "markdown",
   "id": "c83efa17",
   "metadata": {},
   "source": [
    "### End of Distribution"
   ]
  },
  {
   "cell_type": "markdown",
   "id": "5b0e1af5",
   "metadata": {},
   "source": [
    "### Replace Missing Values Using a Function"
   ]
  },
  {
   "cell_type": "code",
   "execution_count": 53,
   "id": "041f7bea",
   "metadata": {},
   "outputs": [
    {
     "name": "stdout",
     "output_type": "stream",
     "text": [
      "A    43\n",
      "B    19\n",
      "D    14\n",
      "F    13\n",
      "C    10\n",
      "Name: TakeHome, dtype: int64\n",
      "Prefix         0\n",
      "Assignment1    0\n",
      "Tutorial       0\n",
      "Midterm        0\n",
      "Final          0\n",
      "TakeHome       0\n",
      "FinalGrade     0\n",
      "work_status    0\n",
      "scholarship    0\n",
      "dtype: int64\n"
     ]
    }
   ],
   "source": [
    "# replace TakeHome with function\n",
    "def convert_grade(row):\n",
    "    if len(str(row['TakeHome'])) > 1:\n",
    "        if row['Final'] >= 90:\n",
    "            return 'A'\n",
    "        if row['Final'] >= 80:\n",
    "            return 'B'\n",
    "        if row['Final'] >= 70:\n",
    "            return 'C'\n",
    "        if row['Final'] >= 60:\n",
    "            return 'D'\n",
    "        if row['Final'] < 60:\n",
    "            return 'F'\n",
    "    else:\n",
    "        return row['TakeHome']\n",
    "        \n",
    "grades['TakeHome'] = grades.apply(convert_grade, axis=1)\n",
    "grades['TakeHome'].fillna('Missing', inplace=True)\n",
    "print(grades['TakeHome'].value_counts())\n",
    "print(grades.isnull().sum())"
   ]
  },
  {
   "cell_type": "markdown",
   "id": "380f9320",
   "metadata": {},
   "source": [
    "## Train Test Split\n",
    "\n",
    "### Inferential Statistics\n",
    "\n",
    "According to Wikipedia (2022):\n",
    "\n",
    ">  Inferential statistics can be contrasted with descriptive statistics. Descriptive statistics is solely concerned with properties of the observed data, and it does not rest on the assumption that the data come from a larger population. In machine learning, the term inference is sometimes used instead to mean \"make a prediction, by evaluating an already trained model\" in this context inferring properties of the model is referred to as training or learning (rather than inference), and using a model for prediction is referred to as inference (instead of prediction); see also predictive inference (para 2).\n",
    "\n",
    "Statistical inference. (2022, May 19). In *Wikipedia*. https://en.wikipedia.org/wiki/Statistical_inference.\n",
    "\n",
    "The main indexes for inferential statistics articles are:\n",
    "\n",
    "* Binomial Theorem\n",
    "* Hypothesis Testing\n",
    "* Normal Distributions\n",
    "* T-Distributions\n",
    "* Central Limit Theorem\n",
    "* Confidence Intervals\n",
    "* Regression Analysis / Linear Regression\n",
    "* Comparison of Means\n",
    "\n",
    "Stephanie Glen. \"Inferential Statistics: Definition, Uses\" From StatisticsHowTo.com: Elementary Statistics for the rest of us! https://www.statisticshowto.com/probability-and-statistics/statistics-definitions/inferential-statistics/\n",
    "\n",
    "### Independent vs Dependent Variables\n",
    "<table align=\"left\">\n",
    "    <tr>\n",
    "        <th>Independent Variables (X)</th>\n",
    "        <th>Dependent Variable (y)</th>\n",
    "    <tr>\n",
    "    <tr>\n",
    "        <td>Features</td>\n",
    "        <td>Target</td>\n",
    "    </tr>\n",
    "    <tr>\n",
    "        <td>Regressors</td>\n",
    "        <td>Regressand</td>\n",
    "    </tr>\n",
    "    <tr>\n",
    "        <td>Predictors</td>\n",
    "        <td>Response</td>\n",
    "    </tr>\n",
    "    <tr>\n",
    "        <td>Observations</td>\n",
    "        <td>Outcomes</td>\n",
    "    </tr>\n",
    "    <tr>\n",
    "        <td>Explanatory</td>\n",
    "        <td>Labels</td>\n",
    "    </tr>\n",
    "    <tr>\n",
    "        <td>Input</td>\n",
    "        <td>Output</td>\n",
    "    </tr>\n",
    "    <tr>\n",
    "        <td>exog (exogenous)</td>\n",
    "        <td>endog (endogenous)</td>\n",
    "    </tr>\n",
    "</table>"
   ]
  },
  {
   "cell_type": "code",
   "execution_count": 54,
   "id": "e23e77a8",
   "metadata": {},
   "outputs": [
    {
     "name": "stdout",
     "output_type": "stream",
     "text": [
      "<class 'pandas.core.frame.DataFrame'>\n",
      "Int64Index: 79 entries, 49 to 51\n",
      "Data columns (total 8 columns):\n",
      " #   Column       Non-Null Count  Dtype  \n",
      "---  ------       --------------  -----  \n",
      " 0   Prefix       79 non-null     object \n",
      " 1   Assignment1  79 non-null     float64\n",
      " 2   Tutorial     79 non-null     float64\n",
      " 3   Midterm      79 non-null     float64\n",
      " 4   Final        79 non-null     float64\n",
      " 5   TakeHome     79 non-null     object \n",
      " 6   work_status  79 non-null     object \n",
      " 7   scholarship  79 non-null     object \n",
      "dtypes: float64(4), object(4)\n",
      "memory usage: 5.6+ KB\n"
     ]
    }
   ],
   "source": [
    "# train test split\n",
    "from sklearn.model_selection import train_test_split\n",
    "\n",
    "X_train, X_test, y_train, y_test = train_test_split(grades.drop('FinalGrade', axis=1), grades['FinalGrade'], test_size=.2, random_state=42)\n",
    "\n",
    "X_train.info()"
   ]
  },
  {
   "cell_type": "code",
   "execution_count": 55,
   "id": "a6e2bd07",
   "metadata": {},
   "outputs": [
    {
     "data": {
      "text/html": [
       "<div>\n",
       "<style scoped>\n",
       "    .dataframe tbody tr th:only-of-type {\n",
       "        vertical-align: middle;\n",
       "    }\n",
       "\n",
       "    .dataframe tbody tr th {\n",
       "        vertical-align: top;\n",
       "    }\n",
       "\n",
       "    .dataframe thead th {\n",
       "        text-align: right;\n",
       "    }\n",
       "</style>\n",
       "<table border=\"1\" class=\"dataframe\">\n",
       "  <thead>\n",
       "    <tr style=\"text-align: right;\">\n",
       "      <th></th>\n",
       "      <th>Assignment1</th>\n",
       "      <th>Tutorial</th>\n",
       "      <th>Midterm</th>\n",
       "      <th>Final</th>\n",
       "    </tr>\n",
       "  </thead>\n",
       "  <tbody>\n",
       "    <tr>\n",
       "      <th>count</th>\n",
       "      <td>79.000000</td>\n",
       "      <td>79.000000</td>\n",
       "      <td>79.000000</td>\n",
       "      <td>79.000000</td>\n",
       "    </tr>\n",
       "    <tr>\n",
       "      <th>mean</th>\n",
       "      <td>87.317595</td>\n",
       "      <td>91.790886</td>\n",
       "      <td>70.470380</td>\n",
       "      <td>69.317468</td>\n",
       "    </tr>\n",
       "    <tr>\n",
       "      <th>std</th>\n",
       "      <td>10.320503</td>\n",
       "      <td>11.763171</td>\n",
       "      <td>10.438232</td>\n",
       "      <td>18.828779</td>\n",
       "    </tr>\n",
       "    <tr>\n",
       "      <th>min</th>\n",
       "      <td>53.360000</td>\n",
       "      <td>57.320000</td>\n",
       "      <td>46.000000</td>\n",
       "      <td>28.060000</td>\n",
       "    </tr>\n",
       "    <tr>\n",
       "      <th>25%</th>\n",
       "      <td>83.980000</td>\n",
       "      <td>88.205000</td>\n",
       "      <td>65.500000</td>\n",
       "      <td>54.165000</td>\n",
       "    </tr>\n",
       "    <tr>\n",
       "      <th>50%</th>\n",
       "      <td>90.740000</td>\n",
       "      <td>92.930000</td>\n",
       "      <td>69.880000</td>\n",
       "      <td>66.670000</td>\n",
       "    </tr>\n",
       "    <tr>\n",
       "      <th>75%</th>\n",
       "      <td>95.025000</td>\n",
       "      <td>100.205000</td>\n",
       "      <td>78.000000</td>\n",
       "      <td>85.000000</td>\n",
       "    </tr>\n",
       "    <tr>\n",
       "      <th>max</th>\n",
       "      <td>100.830000</td>\n",
       "      <td>108.970000</td>\n",
       "      <td>94.000000</td>\n",
       "      <td>108.890000</td>\n",
       "    </tr>\n",
       "  </tbody>\n",
       "</table>\n",
       "</div>"
      ],
      "text/plain": [
       "       Assignment1    Tutorial    Midterm       Final\n",
       "count    79.000000   79.000000  79.000000   79.000000\n",
       "mean     87.317595   91.790886  70.470380   69.317468\n",
       "std      10.320503   11.763171  10.438232   18.828779\n",
       "min      53.360000   57.320000  46.000000   28.060000\n",
       "25%      83.980000   88.205000  65.500000   54.165000\n",
       "50%      90.740000   92.930000  69.880000   66.670000\n",
       "75%      95.025000  100.205000  78.000000   85.000000\n",
       "max     100.830000  108.970000  94.000000  108.890000"
      ]
     },
     "execution_count": 55,
     "metadata": {},
     "output_type": "execute_result"
    }
   ],
   "source": [
    "# descriptive statistics example\n",
    "X_train.describe()"
   ]
  }
 ],
 "metadata": {
  "kernelspec": {
   "display_name": "Python 3 (ipykernel)",
   "language": "python",
   "name": "python3"
  },
  "language_info": {
   "codemirror_mode": {
    "name": "ipython",
    "version": 3
   },
   "file_extension": ".py",
   "mimetype": "text/x-python",
   "name": "python",
   "nbconvert_exporter": "python",
   "pygments_lexer": "ipython3",
   "version": "3.9.7"
  }
 },
 "nbformat": 4,
 "nbformat_minor": 5
}
