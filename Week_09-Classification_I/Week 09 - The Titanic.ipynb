{
 "cells": [
  {
   "cell_type": "markdown",
   "id": "6503ba3b",
   "metadata": {},
   "source": [
    "# Week 09 - The Titanic\n",
    "\n",
    "* https://towardsdatascience.com/powerful-one-liners-in-pandas-every-data-scientist-should-know-737e721b81b6\n",
    "* https://www.quora.com/What-kind-of-statistics-should-be-learned-to-make-a-good-data-analyst\n",
    "* https://towardsdatascience.com/understanding-train-test-split-scikit-learn-python-ea676d5e3d1\n",
    "* https://towardsdatascience.com/8-seaborn-plots-for-univariate-exploratory-data-analysis-eda-in-python-9d280b6fe67f\n",
    "* https://www.encyclopedia-titanica.org/\n",
    "* https://www.encyclopedia-titanica.org/class-gender-titanic-disaster-1912~chapter-2~part-2.html\n",
    "* https://github.com/davidjamesknight/SQLite_databases_for_learning_data_science\n",
    "* the Titanic dataset is from https://data.world/datasets/titanic-dataset"
   ]
  },
  {
   "cell_type": "code",
   "execution_count": null,
   "id": "446ab4d3",
   "metadata": {},
   "outputs": [],
   "source": [
    "# create seed\n",
    "import random\n",
    "\n",
    "# provide your student id as stud_id\n",
    "stud_id = ...\n",
    "my_seed = random.seed(stud_id)"
   ]
  },
  {
   "cell_type": "code",
   "execution_count": null,
   "id": "5d587c22",
   "metadata": {},
   "outputs": [],
   "source": [
    "import sqlite3\n",
    "import pandas as pd\n",
    "\n",
    "db_connection = sqlite3.connect('titanic.db')\n",
    "\n",
    "titanic = pd.read_sql_query('SELECT * FROM titanic', db_connection)\n",
    "titanic = titanic.sample(frac=1, axis=1, random_state=my_seed).reset_index(drop=True)\n",
    "titanic.drop('id', axis=1, inplace=True)\n",
    "titanic.head()"
   ]
  },
  {
   "cell_type": "code",
   "execution_count": null,
   "id": "99ea7437",
   "metadata": {},
   "outputs": [],
   "source": [
    "# print shape and info\n"
   ]
  },
  {
   "cell_type": "code",
   "execution_count": null,
   "id": "9be7f64b",
   "metadata": {},
   "outputs": [],
   "source": [
    "# sample\n"
   ]
  },
  {
   "cell_type": "markdown",
   "id": "598b1cea",
   "metadata": {},
   "source": [
    "## Preprocessing"
   ]
  },
  {
   "cell_type": "code",
   "execution_count": null,
   "id": "a8d5847b",
   "metadata": {},
   "outputs": [],
   "source": [
    "# find nulls\n"
   ]
  },
  {
   "cell_type": "code",
   "execution_count": null,
   "id": "fbbdd6e2",
   "metadata": {},
   "outputs": [],
   "source": [
    "# find index of blank row\n"
   ]
  },
  {
   "cell_type": "code",
   "execution_count": null,
   "id": "0a7aa9d1",
   "metadata": {},
   "outputs": [],
   "source": []
  },
  {
   "cell_type": "code",
   "execution_count": null,
   "id": "d3e7b4e7",
   "metadata": {},
   "outputs": [],
   "source": [
    "# delete row by index\n"
   ]
  },
  {
   "cell_type": "code",
   "execution_count": null,
   "id": "1dd4cc43",
   "metadata": {},
   "outputs": [],
   "source": [
    "# find nulls\n"
   ]
  },
  {
   "cell_type": "code",
   "execution_count": null,
   "id": "d74f9f59",
   "metadata": {
    "scrolled": true
   },
   "outputs": [],
   "source": [
    "# observation for missing fare\n"
   ]
  },
  {
   "cell_type": "code",
   "execution_count": null,
   "id": "f27d04d4",
   "metadata": {},
   "outputs": [],
   "source": [
    "# average 3rd class fare\n"
   ]
  },
  {
   "cell_type": "code",
   "execution_count": null,
   "id": "254d38d7",
   "metadata": {},
   "outputs": [],
   "source": [
    "# impute missing fare\n"
   ]
  },
  {
   "cell_type": "code",
   "execution_count": null,
   "id": "08fbc974",
   "metadata": {},
   "outputs": [],
   "source": [
    "# observation for missing embarked\n"
   ]
  },
  {
   "cell_type": "code",
   "execution_count": null,
   "id": "53f7337d",
   "metadata": {},
   "outputs": [],
   "source": [
    "# find name contains Stone\n"
   ]
  },
  {
   "cell_type": "code",
   "execution_count": null,
   "id": "06b9235e",
   "metadata": {
    "scrolled": true
   },
   "outputs": [],
   "source": [
    "# find cabin B28\n"
   ]
  },
  {
   "cell_type": "code",
   "execution_count": null,
   "id": "a41dfec2",
   "metadata": {},
   "outputs": [],
   "source": [
    "# https://www.encyclopedia-titanica.org/titanic-survivor/martha-evelyn-stone.html\n",
    "# fillna embarked with S\n"
   ]
  },
  {
   "cell_type": "code",
   "execution_count": null,
   "id": "aa0dc916",
   "metadata": {},
   "outputs": [],
   "source": [
    "# recheck null count\n"
   ]
  },
  {
   "cell_type": "code",
   "execution_count": null,
   "id": "61f8531d",
   "metadata": {},
   "outputs": [],
   "source": [
    "# feature with only one value\n",
    "\n",
    "constant_features = [\n",
    "    feat for feat in titanic.columns if len(titanic[feat].unique()) == 1\n",
    "]\n",
    "\n",
    "constant_features"
   ]
  },
  {
   "cell_type": "code",
   "execution_count": null,
   "id": "c91689af",
   "metadata": {},
   "outputs": [],
   "source": [
    "# quasi constant values\n",
    "for feat in titanic.columns.sort_values():\n",
    "    if (len(titanic[feat].unique()) < 3):\n",
    "        print(titanic[feat].value_counts())"
   ]
  },
  {
   "cell_type": "code",
   "execution_count": null,
   "id": "c42a31fc",
   "metadata": {},
   "outputs": [],
   "source": [
    "# check of duplications\n",
    "duplicated_feat = []\n",
    "for i in range(0, len(titanic.columns)):\n",
    "    orig = titanic.columns[i]\n",
    "\n",
    "    for dupe in titanic.columns[i + 1:]:\n",
    "        if titanic[orig].equals(titanic[dupe]):\n",
    "            duplicated_feat.append(dupe)\n",
    "            \n",
    "duplicated_feat"
   ]
  },
  {
   "cell_type": "code",
   "execution_count": null,
   "id": "1fcab68a",
   "metadata": {},
   "outputs": [],
   "source": [
    "titanic.isnull().sum()"
   ]
  },
  {
   "cell_type": "code",
   "execution_count": null,
   "id": "0f443291",
   "metadata": {},
   "outputs": [],
   "source": [
    "# find missing age groups\n",
    "print(titanic[(pd.isna(titanic['age'])) & titanic['name'].str.contains('Mr\\.')].shape)\n",
    "print(titanic[(pd.isna(titanic['age'])) & titanic['name'].str.contains('Dr\\.')].shape)\n",
    "print(titanic[(pd.isna(titanic['age'])) & titanic['name'].str.contains('Ms\\.')].shape)\n",
    "print(titanic[(pd.isna(titanic['age'])) & titanic['name'].str.contains('Mrs\\.')].shape)\n",
    "print(titanic[(pd.isna(titanic['age'])) & titanic['name'].str.contains('Miss\\.')].shape)\n",
    "print(titanic[(pd.isna(titanic['age'])) & titanic['name'].str.contains('Master')].shape)"
   ]
  },
  {
   "cell_type": "code",
   "execution_count": null,
   "id": "96f827ed",
   "metadata": {},
   "outputs": [],
   "source": [
    "titanic[(pd.isna(titanic['age'])) & titanic['name'].str.contains('Dr\\.')] # 46"
   ]
  },
  {
   "cell_type": "code",
   "execution_count": null,
   "id": "d81adbc4",
   "metadata": {},
   "outputs": [],
   "source": [
    "titanic.at[40, 'age'] = 46"
   ]
  },
  {
   "cell_type": "code",
   "execution_count": null,
   "id": "94796f0f",
   "metadata": {},
   "outputs": [],
   "source": [
    "titanic[(pd.isna(titanic['age'])) & titanic['name'].str.contains('Ms\\.')] # 21"
   ]
  },
  {
   "cell_type": "code",
   "execution_count": null,
   "id": "bb663dc1",
   "metadata": {},
   "outputs": [],
   "source": [
    "titanic.at[1076, 'age'] = 21"
   ]
  },
  {
   "cell_type": "code",
   "execution_count": null,
   "id": "54c27dd0",
   "metadata": {},
   "outputs": [],
   "source": [
    "cond1 = titanic['name'].str.contains('Master')\n",
    "titanic.loc[cond1,'age'] = titanic.loc[cond1,'age'].fillna(titanic.loc[cond1,'age'].mean())\n",
    "\n",
    "cond2 = titanic['name'].str.contains('Miss\\.')\n",
    "titanic.loc[cond2,'age'] = titanic.loc[cond2,'age'].fillna(titanic.loc[cond2,'age'].mean())\n",
    "\n",
    "cond3 = titanic['name'].str.contains('Mrs\\.')\n",
    "titanic.loc[cond3,'age'] = titanic.loc[cond3,'age'].fillna(titanic.loc[cond3,'age'].mean())\n",
    "\n",
    "cond4 = titanic['name'].str.contains('Mr\\.')\n",
    "titanic.loc[cond4,'age'] = titanic.loc[cond4,'age'].fillna(titanic.loc[cond4,'age'].mean())"
   ]
  },
  {
   "cell_type": "code",
   "execution_count": null,
   "id": "f8517a13",
   "metadata": {},
   "outputs": [],
   "source": [
    "titanic.isnull().sum()"
   ]
  },
  {
   "cell_type": "code",
   "execution_count": null,
   "id": "a9d9add6",
   "metadata": {},
   "outputs": [],
   "source": [
    "# create adult male feature\n",
    "import pandas as pd\n",
    "\n",
    "def is_adult_male(row):\n",
    "    if pd.isna(row['age']):\n",
    "        return None\n",
    "    if row['age'] > 15 and row['age'] < 81 and row['sex'] == 'male':\n",
    "        return 1\n",
    "    else:\n",
    "        return 0\n",
    "    \n",
    "titanic['adult_male'] = titanic.apply(is_adult_male, axis=1)\n",
    "titanic['adult_male'].value_counts(dropna=False)"
   ]
  },
  {
   "cell_type": "markdown",
   "id": "3143968e",
   "metadata": {},
   "source": [
    "## Exploratory Data Analysis"
   ]
  },
  {
   "cell_type": "code",
   "execution_count": null,
   "id": "90d1f8ff",
   "metadata": {},
   "outputs": [],
   "source": [
    "# split the titanic data into train test\n",
    "from sklearn.model_selection import train_test_split\n",
    "\n",
    "X_train, X_test, y_train, y_test = train_test_split(\n",
    "                                titanic.drop(['survived'], axis=1), \n",
    "                                titanic['survived'], \n",
    "                                test_size=0.25, \n",
    "                                random_state=42)\n",
    "\n",
    "print(X_train.shape)\n",
    "print(X_test.shape)\n",
    "print(X_train.head())"
   ]
  },
  {
   "cell_type": "code",
   "execution_count": null,
   "id": "6cbb1be8",
   "metadata": {},
   "outputs": [],
   "source": [
    "# X_train describe\n",
    "X_train.describe()"
   ]
  },
  {
   "cell_type": "code",
   "execution_count": null,
   "id": "d1ff6647",
   "metadata": {},
   "outputs": [],
   "source": [
    "# plot histograms with tight layout\n",
    "import matplotlib.pyplot as plt\n"
   ]
  },
  {
   "cell_type": "code",
   "execution_count": null,
   "id": "51853d91",
   "metadata": {},
   "outputs": [],
   "source": [
    "# print boxplots with tight layout\n"
   ]
  },
  {
   "cell_type": "markdown",
   "id": "65d24fb1",
   "metadata": {},
   "source": [
    "### Outliers"
   ]
  },
  {
   "cell_type": "code",
   "execution_count": null,
   "id": "a90b2b4d",
   "metadata": {},
   "outputs": [],
   "source": [
    "for feat in X_train._get_numeric_data().columns:\n",
    "    q1 = X_train[feat].quantile(0.25)\n",
    "    q3 = X_train[feat].quantile(0.75)\n",
    "    iqr = q3 - q1\n",
    "    lower_fence = (q1 - 1.5 * iqr).round()\n",
    "    upper_fence = (q3 + 1.5 * iqr).round()\n",
    "    lower_count = X_train[feat][X_train[feat] < lower_fence].count()\n",
    "    upper_count = X_train[feat][X_train[feat] > upper_fence].count()\n",
    "    if lower_count > 0 or upper_count > 0:\n",
    "        print(f'{feat} outliers = {lower_count + upper_count}: lower_fence: {lower_fence}, upper_fence: {upper_fence}, lower_count: {lower_count}, upper_count: {upper_count}')"
   ]
  },
  {
   "cell_type": "markdown",
   "id": "325bbc05",
   "metadata": {},
   "source": [
    "### Handling Outliers\n",
    "\n",
    "https://www.projectpro.io/recipes/deal-with-outliers-in-python\n",
    "\n",
    "* Drop\n",
    "* Mark\n",
    "* Rescale"
   ]
  },
  {
   "cell_type": "code",
   "execution_count": null,
   "id": "dcb4dddc",
   "metadata": {},
   "outputs": [],
   "source": [
    "# code here"
   ]
  },
  {
   "cell_type": "markdown",
   "id": "281b671f",
   "metadata": {},
   "source": [
    "## Feature Engineering"
   ]
  },
  {
   "cell_type": "code",
   "execution_count": null,
   "id": "bebb142c",
   "metadata": {},
   "outputs": [],
   "source": [
    "# mapping female male\n",
    "X_train['sex'] = X_train['sex'].map({'female':0,'male':1})\n",
    "X_test['sex'] = X_test['sex'].map({'female':0,'male':1})\n",
    "X_train['sex'].value_counts()"
   ]
  },
  {
   "cell_type": "code",
   "execution_count": null,
   "id": "e3443c4b",
   "metadata": {},
   "outputs": [],
   "source": [
    "# reducing labels\n",
    "import re\n",
    "\n",
    "def cat_home(r):\n",
    "    text = str(r['home_dest']).strip()\n",
    "    if bool(re.search('[A-Z]{2}$', text[-2:])):\n",
    "        return 'North America'\n",
    "    elif text == 'nan':\n",
    "        return 'Missing'\n",
    "    else:\n",
    "        return 'Not North America'\n",
    "\n",
    "X_train['cat_home'] = X_train.apply(cat_home, axis=1)\n",
    "X_test['cat_home'] = X_test.apply(cat_home, axis=1)\n",
    "\n",
    "print(X_train['cat_home'].value_counts())\n",
    "print()\n",
    "print(X_test['cat_home'].value_counts())"
   ]
  },
  {
   "cell_type": "code",
   "execution_count": null,
   "id": "adbe4471",
   "metadata": {},
   "outputs": [],
   "source": [
    "# check info for categorical features\n",
    "X_train.info()"
   ]
  },
  {
   "cell_type": "code",
   "execution_count": null,
   "id": "bc5e2b04",
   "metadata": {},
   "outputs": [],
   "source": [
    "# start list of features we won't use for analysis\n",
    "features_to_drop = ['name', 'ticket', 'cabin', 'boat', 'body', 'home_dest']"
   ]
  },
  {
   "cell_type": "markdown",
   "id": "d35f5d7a",
   "metadata": {},
   "source": [
    "## More EDA"
   ]
  },
  {
   "cell_type": "markdown",
   "id": "635b956e",
   "metadata": {},
   "source": [
    "### nlargest\n",
    "\n",
    "* n = 6\n",
    "* data.nlargest(n, \"Employee Salary\", keep = \"all\")"
   ]
  },
  {
   "cell_type": "code",
   "execution_count": null,
   "id": "825773c3",
   "metadata": {},
   "outputs": [],
   "source": [
    "n = 6\n",
    "X_train.nlargest(n, 'fare', keep='all')"
   ]
  },
  {
   "cell_type": "markdown",
   "id": "c2772026",
   "metadata": {},
   "source": [
    "### nsmallest\n",
    "\n",
    "* n = 7\n",
    "* data.nsmallest(n, \"Employee Salary\", keep = \"all\")"
   ]
  },
  {
   "cell_type": "code",
   "execution_count": null,
   "id": "51a8c724",
   "metadata": {},
   "outputs": [],
   "source": [
    "n = 7\n",
    "X_train.nsmallest(n, 'fare', keep='all')"
   ]
  },
  {
   "cell_type": "markdown",
   "id": "94f64ad1",
   "metadata": {},
   "source": [
    "### Crosstab"
   ]
  },
  {
   "cell_type": "code",
   "execution_count": null,
   "id": "361710c4",
   "metadata": {},
   "outputs": [],
   "source": [
    "pd.crosstab(X_train['cat_home'], X_train['pclass'])"
   ]
  },
  {
   "cell_type": "code",
   "execution_count": null,
   "id": "99673635",
   "metadata": {},
   "outputs": [],
   "source": [
    "import numpy as np\n",
    "import seaborn as sns\n",
    "\n",
    "result_crosstab = pd.crosstab(index = X_train['cat_home'], \n",
    "                              columns=X_train['pclass'], \n",
    "                              values =X_train['fare'], \n",
    "                              aggfunc=np.mean)\n",
    "                              \n",
    "sns.heatmap(result_crosstab, annot = True, fmt = 'g')"
   ]
  },
  {
   "cell_type": "markdown",
   "id": "a1ae7942",
   "metadata": {},
   "source": [
    "### Pivot Table"
   ]
  },
  {
   "cell_type": "code",
   "execution_count": null,
   "id": "274ed5c4",
   "metadata": {},
   "outputs": [],
   "source": [
    "pd.pivot_table(X_train, \n",
    "               index=['cat_home'], \n",
    "               columns=['pclass'], \n",
    "               aggfunc='size', \n",
    "               fill_value=0)"
   ]
  },
  {
   "cell_type": "code",
   "execution_count": null,
   "id": "64ed9072",
   "metadata": {},
   "outputs": [],
   "source": [
    "result_pivot = pd.pivot_table(X_train, \n",
    "                              index=['cat_home'], \n",
    "                              columns=['pclass'], \n",
    "                              aggfunc='size', \n",
    "                              fill_value=0)\n",
    "               \n",
    "sns.heatmap(result_pivot, annot = True, fmt = 'g')"
   ]
  },
  {
   "cell_type": "markdown",
   "id": "4bab55c5",
   "metadata": {},
   "source": [
    "### Rug Plot"
   ]
  },
  {
   "cell_type": "code",
   "execution_count": null,
   "id": "b2ba59fe",
   "metadata": {},
   "outputs": [],
   "source": [
    "sns.rugplot(x='fare', data=X_train, height=.03, color='darkblue')\n",
    "sns.histplot(x='fare', data=X_train, kde=True);"
   ]
  },
  {
   "cell_type": "markdown",
   "id": "92d8a657",
   "metadata": {},
   "source": [
    "### Strip Plot"
   ]
  },
  {
   "cell_type": "code",
   "execution_count": null,
   "id": "f52a3fa0",
   "metadata": {},
   "outputs": [],
   "source": [
    "sns.stripplot(x=X_train['fare']);"
   ]
  },
  {
   "cell_type": "markdown",
   "id": "25bf312d",
   "metadata": {},
   "source": [
    "### Describe Include Object"
   ]
  },
  {
   "cell_type": "code",
   "execution_count": null,
   "id": "9421e107",
   "metadata": {},
   "outputs": [],
   "source": [
    "X_train.describe(include='object')"
   ]
  },
  {
   "cell_type": "markdown",
   "id": "f20de583",
   "metadata": {},
   "source": [
    "### Count Plot"
   ]
  },
  {
   "cell_type": "code",
   "execution_count": null,
   "id": "8ee086ae",
   "metadata": {},
   "outputs": [],
   "source": [
    "cols = 4\n",
    "rows = 1\n",
    "fig = plt.figure(figsize= (16,6))\n",
    "all_cats = X_train.select_dtypes(include='object')\n",
    "cat_cols = all_cats.columns[all_cats.nunique() < 10]\n",
    "for i, col in enumerate(cat_cols):    \n",
    "    ax=fig.add_subplot(rows, cols, i+1)    \n",
    "    sns.countplot(x=X_train[col], ax=ax)    \n",
    "    plt.xticks(rotation=90, ha='right')\n",
    "    \n",
    "fig.tight_layout()  \n",
    "plt.show()"
   ]
  },
  {
   "cell_type": "markdown",
   "id": "f0b0c7c3",
   "metadata": {},
   "source": [
    "### Group numeric features by each categorical feature\n",
    "\n",
    "https://towardsdatascience.com/11-simple-code-blocks-for-complete-exploratory-data-analysis-eda-67c2817f56cd"
   ]
  },
  {
   "cell_type": "code",
   "execution_count": null,
   "id": "2e052dad",
   "metadata": {},
   "outputs": [],
   "source": [
    "for column in X_train.select_dtypes(include='object'):\n",
    "    if X_train[column].nunique() < 10:\n",
    "        display(X_train.groupby(column).mean())"
   ]
  },
  {
   "cell_type": "markdown",
   "id": "7b0cfc5b",
   "metadata": {},
   "source": [
    "### Correlation"
   ]
  },
  {
   "cell_type": "code",
   "execution_count": null,
   "id": "912a9c38",
   "metadata": {
    "scrolled": false
   },
   "outputs": [],
   "source": [
    "# feature on feature\n",
    "import numpy as np\n",
    "import matplotlib.pyplot as plt\n",
    "import seaborn as sns\n",
    "\n",
    "sns.set(style='white')\n",
    "\n",
    "# compute the correlation matrix\n",
    "corr = X_train.drop(features_to_drop, axis=1).corr(method='pearson')\n",
    "\n",
    "# generate a mask for the upper triangle\n",
    "mask = np.zeros_like(corr, dtype=bool)\n",
    "mask[np.triu_indices_from(mask)] = True\n",
    "\n",
    "# set up the matplotlib figure\n",
    "f, ax = plt.subplots(figsize=(10,10))\n",
    "\n",
    "# generate a custom diverging colormap\n",
    "cmap = sns.diverging_palette(220, 10, as_cmap=True)\n",
    "\n",
    "# draw the heatmap with the mask and correct aspect ratio\n",
    "sns.heatmap(corr, mask=mask, cmap=cmap, vmax=.3, center=0,\n",
    "            square=True, linewidths=.5, cbar_kws={'shrink': .5}, annot=True);"
   ]
  },
  {
   "cell_type": "markdown",
   "id": "c3b33016",
   "metadata": {},
   "source": [
    "### Variance Inflation Factor\n",
    "\n",
    "* Measures how much one predictor is influenced, or inflated, by the presence, or correlation, of another predictor\n",
    "* Quick measure of the contribution of a predictor to the standard error, the standard deviation of a sample, in regression\n",
    "\n",
    "https://www.statisticshowto.com/variance-inflation-factor/"
   ]
  },
  {
   "cell_type": "code",
   "execution_count": null,
   "id": "d3ef225a",
   "metadata": {},
   "outputs": [],
   "source": [
    "# vif\n",
    "import pandas as pd\n",
    "import numpy as np\n",
    "from statsmodels.stats.outliers_influence import variance_inflation_factor\n",
    "\n",
    "vif_train = X_train.drop(features_to_drop, axis=1)._get_numeric_data()\n",
    "vif_data = [variance_inflation_factor(vif_train.values, i) for i in range(len(vif_train.columns))]\n",
    "\n",
    "d = {'feature': vif_train.columns.values, 'vif': vif_data}\n",
    "vif = pd.DataFrame(d)\n",
    "vif"
   ]
  },
  {
   "cell_type": "code",
   "execution_count": null,
   "id": "7677ba6f",
   "metadata": {},
   "outputs": [],
   "source": [
    "# add adult_male to features to drop and possibly fare\n",
    "# for a list, we use append to add one item and extend to add multiple items\n",
    "features_to_drop.extend(['adult_male', 'fare'])"
   ]
  },
  {
   "cell_type": "markdown",
   "id": "cc5e3043",
   "metadata": {},
   "source": [
    "### Mutual Information\n",
    "\n",
    "* Measures the mutual dependence on two variables\n",
    "* Persons r is linear where as MI measures non-linear relationships\n",
    "* How much information can be extracted from one variable by observing another variable"
   ]
  },
  {
   "cell_type": "code",
   "execution_count": null,
   "id": "5d99a8e3",
   "metadata": {},
   "outputs": [],
   "source": [
    "# obtain the mutual information values and select features\n",
    "from sklearn.feature_selection import mutual_info_regression\n",
    "from sklearn.feature_selection import SelectPercentile\n",
    "\n",
    "mi_train = X_train.drop(features_to_drop, axis=1)._get_numeric_data()\n",
    "\n",
    "mi = mutual_info_regression(mi_train, y_train)\n",
    "mi = pd.Series(mi)\n",
    "mi.index = mi_train.columns\n",
    "mi.sort_values(ascending=False).plot.bar()\n",
    "plt.ylabel('Mutual Information')"
   ]
  },
  {
   "cell_type": "code",
   "execution_count": null,
   "id": "cdf5537e",
   "metadata": {},
   "outputs": [],
   "source": [
    "# correlation anlaysis against our titanic target (survived)\n",
    "X_train.drop(features_to_drop, axis=1)._get_numeric_data().corrwith(y_train).plot.bar(\n",
    "        title = \"Correlation with Target\", fontsize = 15,\n",
    "        rot = 45, grid = True);"
   ]
  },
  {
   "cell_type": "code",
   "execution_count": null,
   "id": "27fa6a6d",
   "metadata": {},
   "outputs": [],
   "source": [
    "import matplotlib.pyplot as plt\n",
    "\n",
    "X_train.drop(features_to_drop, axis=1)._get_numeric_data().hist()\n",
    "plt.tight_layout();"
   ]
  },
  {
   "cell_type": "code",
   "execution_count": null,
   "id": "60bdb9e0",
   "metadata": {},
   "outputs": [],
   "source": [
    "# example of a histogram with kde\n",
    "import matplotlib.pyplot as plt\n",
    "import seaborn as sns\n",
    "\n",
    "sns.histplot(X_train['age'], alpha=0.3, kde=True, \n",
    "             bins=int(50), color = 'red',\n",
    "             line_kws={'linewidth': 4})\n",
    "\n",
    "plt.tight_layout()\n",
    "plt.show();"
   ]
  },
  {
   "cell_type": "code",
   "execution_count": null,
   "id": "2669af43",
   "metadata": {},
   "outputs": [],
   "source": [
    "# an interesting way to view sex and age .map({'female':1,'male':0})\n",
    "import seaborn as sns\n",
    "\n",
    "sns.swarmplot(x='sex', y='age', data=X_train.drop(features_to_drop, axis=1)._get_numeric_data(), size=1);"
   ]
  },
  {
   "cell_type": "code",
   "execution_count": null,
   "id": "6c954cf8",
   "metadata": {},
   "outputs": [],
   "source": [
    "# look at pclass counts\n",
    "fig, ax = plt.subplots(figsize=(8, 4))\n",
    "sns.countplot(x=X_train.pclass, order=X_train.pclass.value_counts().index);"
   ]
  },
  {
   "cell_type": "code",
   "execution_count": null,
   "id": "7e1065df",
   "metadata": {},
   "outputs": [],
   "source": [
    "# bar chart with 95% confidence intervals (error bars)\n",
    "sns.barplot(x='pclass', y=y_train, hue='sex', data=X_train);"
   ]
  },
  {
   "cell_type": "code",
   "execution_count": null,
   "id": "9cf35703",
   "metadata": {},
   "outputs": [],
   "source": [
    "# example of using groupby\n",
    "X_train.groupby('pclass')['sex'].value_counts().plot(kind='bar')"
   ]
  },
  {
   "cell_type": "code",
   "execution_count": null,
   "id": "8d67a6e2",
   "metadata": {},
   "outputs": [],
   "source": [
    "X_train.groupby('pclass')['sex'].value_counts().plot.barh()\n",
    "plt.xlabel('count')\n",
    "plt.ylabel('(pclass, sex)')\n",
    "plt.title('breakdown of pclass and sex')\n",
    "plt.show()"
   ]
  },
  {
   "cell_type": "code",
   "execution_count": null,
   "id": "9794e3d2",
   "metadata": {},
   "outputs": [],
   "source": [
    "# groupby data views\n",
    "titanic.groupby(['pclass', 'embarked']).size()"
   ]
  },
  {
   "cell_type": "code",
   "execution_count": null,
   "id": "0886f8c3",
   "metadata": {},
   "outputs": [],
   "source": [
    "# using aggregates\n",
    "titanic.groupby('sex')['fare'].agg(['min', 'max', 'mean', 'median'])"
   ]
  },
  {
   "cell_type": "markdown",
   "id": "7da4a6ce",
   "metadata": {},
   "source": [
    "## More Feature Engineering\n",
    "\n",
    "* sibsp Number of Siblings/Spouses Aboard\n",
    "* parch Number of Parents/Children Aboard"
   ]
  },
  {
   "cell_type": "markdown",
   "id": "0baad6d9",
   "metadata": {},
   "source": [
    "### One Hot Encoding"
   ]
  },
  {
   "cell_type": "code",
   "execution_count": null,
   "id": "c61c71f5",
   "metadata": {},
   "outputs": [],
   "source": [
    "X_train.drop(features_to_drop, axis=1).info()"
   ]
  },
  {
   "cell_type": "code",
   "execution_count": null,
   "id": "5cc59162",
   "metadata": {},
   "outputs": [],
   "source": [
    "# use sklearn one hot encoder\n",
    "from sklearn.preprocessing import OneHotEncoder\n",
    "\n",
    "ohe = OneHotEncoder(categories='auto', drop='first', sparse=False, handle_unknown='ignore')\n",
    "\n",
    "cat_features = ['embarked', 'cat_home']\n",
    "ohe_train = ohe.fit_transform(X_train[cat_features])\n",
    "ohe_train = pd.DataFrame(ohe_train, columns=ohe.get_feature_names_out(cat_features))\n",
    "ohe_train.index = X_train.index\n",
    "X_train = X_train.join(ohe_train)\n",
    "X_train.drop(cat_features, axis=1, inplace=True)\n",
    "\n",
    "ohe_test = ohe.transform(X_test[cat_features])\n",
    "ohe_test = pd.DataFrame(ohe_test, columns=ohe.get_feature_names_out(cat_features))\n",
    "ohe_test.index = X_test.index\n",
    "X_test = X_test.join(ohe_test)\n",
    "X_test.drop(cat_features, axis=1, inplace=True)\n",
    "\n",
    "print(X_train.drop(features_to_drop, axis=1).shape)\n",
    "print(X_test.drop(features_to_drop, axis=1).shape)\n",
    "print(X_train.drop(features_to_drop, axis=1).info())"
   ]
  },
  {
   "cell_type": "markdown",
   "id": "bb349b7c",
   "metadata": {},
   "source": [
    "## Feature Selection\n",
    "\n",
    "* https://towardsdatascience.com/the-power-of-ridge-regression-4281852a64d6"
   ]
  },
  {
   "cell_type": "code",
   "execution_count": null,
   "id": "2af6b57b",
   "metadata": {},
   "outputs": [],
   "source": [
    "# list features we targeted to drop\n",
    "features_to_drop"
   ]
  },
  {
   "cell_type": "code",
   "execution_count": null,
   "id": "cc321470",
   "metadata": {},
   "outputs": [],
   "source": [
    "# create new list that we can add and subtract from\n",
    "drop_features = ['name', 'ticket', 'cabin', 'boat', 'body', 'home_dest', 'adult_male', 'fare']"
   ]
  },
  {
   "cell_type": "markdown",
   "id": "480100db",
   "metadata": {},
   "source": [
    "### Variance Threshold\n",
    "\n",
    "* Feature selector that removes all low-variance features\n",
    "\n",
    "https://scikit-learn.org/stable/modules/generated/sklearn.feature_selection.VarianceThreshold.html"
   ]
  },
  {
   "cell_type": "code",
   "execution_count": null,
   "id": "d77df700",
   "metadata": {},
   "outputs": [],
   "source": [
    "from sklearn.feature_selection import VarianceThreshold\n",
    "\n",
    "selections = VarianceThreshold(threshold=0.2)\n",
    "selections.fit(X_train.drop(drop_features, axis=1))\n",
    "X_train.drop(drop_features, axis=1).columns.values[selections.get_support()]"
   ]
  },
  {
   "cell_type": "markdown",
   "id": "0d19f8ff",
   "metadata": {},
   "source": [
    "### Select K Best\n",
    "\n",
    "* Select features according to the k highest scores\n",
    "* Chi-squared stats of non-negative features for classification tasks\n",
    "\n",
    "https://scikit-learn.org/stable/modules/generated/sklearn.feature_selection.SelectKBest.html"
   ]
  },
  {
   "cell_type": "code",
   "execution_count": null,
   "id": "b97187cf",
   "metadata": {},
   "outputs": [],
   "source": [
    "from sklearn.feature_selection import SelectKBest\n",
    "from sklearn.feature_selection import chi2\n",
    "\n",
    "selections = SelectKBest(chi2, k=6) \n",
    "selections.fit(X_train.drop(drop_features, axis=1), y_train)\n",
    "X_train.drop(drop_features, axis=1).columns.values[selections.get_support()]"
   ]
  },
  {
   "cell_type": "markdown",
   "id": "4cde02b4",
   "metadata": {},
   "source": [
    "### Select Features Using Logistic Regression\n",
    "\n",
    "* Meta-transformer for selecting features based on importance weights\n",
    "\n",
    "https://scikit-learn.org/stable/modules/generated/sklearn.feature_selection.SelectFromModel.html"
   ]
  },
  {
   "cell_type": "code",
   "execution_count": null,
   "id": "e1b76449",
   "metadata": {},
   "outputs": [],
   "source": [
    "from sklearn.linear_model import LogisticRegression\n",
    "from sklearn.feature_selection import SelectFromModel\n",
    "\n",
    "selections = SelectFromModel(estimator=LogisticRegression(solver='liblinear')).fit(\n",
    "                    X_train.drop(drop_features, axis=1), y_train)\n",
    "X_train.drop(drop_features, axis=1).columns.values[selections.get_support()]"
   ]
  },
  {
   "cell_type": "markdown",
   "id": "90bf6ccb",
   "metadata": {},
   "source": [
    "### Recursive Feature Selection\n",
    "\n",
    "* Feature ranking with recursive feature elimination\n",
    "* Given an external estimator that assigns weights to features (e.g., the coefficients of a linear model), the goal of recursive feature elimination (RFE) is to select features by recursively considering smaller and smaller sets of features\n",
    "\n",
    "https://scikit-learn.org/stable/modules/generated/sklearn.feature_selection.RFE.html"
   ]
  },
  {
   "cell_type": "code",
   "execution_count": null,
   "id": "5fe7e857",
   "metadata": {},
   "outputs": [],
   "source": [
    "from sklearn.linear_model import LogisticRegression\n",
    "from sklearn.feature_selection import RFE\n",
    "\n",
    "selections = RFE(estimator=LogisticRegression(solver='liblinear'), n_features_to_select=5).fit(\n",
    "                    X_train.drop(drop_features, axis=1), y_train)\n",
    "X_train.drop(drop_features, axis=1).columns.values[selections.get_support()]"
   ]
  },
  {
   "cell_type": "markdown",
   "id": "7e425845",
   "metadata": {},
   "source": [
    "## The Model"
   ]
  },
  {
   "cell_type": "markdown",
   "id": "bd5f7d7e",
   "metadata": {},
   "source": [
    "### Check for Balanced Dataset"
   ]
  },
  {
   "cell_type": "code",
   "execution_count": null,
   "id": "e355982b",
   "metadata": {},
   "outputs": [],
   "source": [
    "# see if the titanic survived (target) is balanced\n",
    "print(y_train.value_counts())\n",
    "y_train.value_counts().plot.pie(labels=['0', '1']).legend();"
   ]
  },
  {
   "cell_type": "code",
   "execution_count": null,
   "id": "d654558d",
   "metadata": {},
   "outputs": [],
   "source": [
    "# we can now build our titanic regression model\n",
    "# is it balanced? no, use class_weight='balanced'\n",
    "# is it a small dataset? yes, use liblinear for solver\n",
    "from sklearn.linear_model import LogisticRegression\n",
    "from sklearn.metrics import roc_curve, confusion_matrix, roc_auc_score\n",
    "\n",
    "model = LogisticRegression(class_weight='balanced', solver='liblinear')\n",
    "model.fit(X_train.drop(drop_features, axis=1), y_train)\n",
    "predictions = model.predict(X_test.drop(drop_features, axis=1))\n",
    "tn, fp, fn, tp = confusion_matrix(y_test, predictions).ravel()\n",
    "\n",
    "rocauc_score = roc_auc_score(y_test, predictions)\n",
    "\n",
    "print(f'Training Score: {model.score(X_train.drop(drop_features, axis=1), y_train)}')\n",
    "print(f'Test Score: {model.score(X_test.drop(drop_features, axis=1), y_test)}')\n",
    "\n",
    "# what is our accuracy? (tn + tp / (total length of our data))\n",
    "print(f'Test Accuracy (tn + tp / (total length of our data)): {(tn + tp) / (tn + fp + fn + tp)}')\n",
    "print(f'Roc-Auc Score: {rocauc_score}')\n",
    "\n",
    "print()\n",
    "print(confusion_matrix(y_test, predictions))"
   ]
  }
 ],
 "metadata": {
  "kernelspec": {
   "display_name": "Python 3 (ipykernel)",
   "language": "python",
   "name": "python3"
  },
  "language_info": {
   "codemirror_mode": {
    "name": "ipython",
    "version": 3
   },
   "file_extension": ".py",
   "mimetype": "text/x-python",
   "name": "python",
   "nbconvert_exporter": "python",
   "pygments_lexer": "ipython3",
   "version": "3.9.7"
  }
 },
 "nbformat": 4,
 "nbformat_minor": 5
}
