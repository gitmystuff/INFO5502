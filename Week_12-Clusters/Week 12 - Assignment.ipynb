{
 "cells": [
  {
   "cell_type": "markdown",
   "id": "d1d27dbb",
   "metadata": {},
   "source": [
    "# Week 12: Assignment"
   ]
  },
  {
   "cell_type": "code",
   "execution_count": null,
   "id": "29e82ac7",
   "metadata": {},
   "outputs": [],
   "source": [
    "# fix KMeans is known to have a memory leak on Windows with MKL warning\n",
    "# just run this cell\n",
    "import os\n",
    "os.environ['OMP_NUM_THREADS'] = '1'"
   ]
  },
  {
   "cell_type": "code",
   "execution_count": null,
   "id": "b51c796f",
   "metadata": {},
   "outputs": [],
   "source": [
    "# create seed\n",
    "import random\n",
    "import string\n",
    "import random\n",
    "\n",
    "# provide your student id as stud_id\n",
    "stud_id = ...\n",
    "my_seed = random.seed(stud_id)\n",
    "\n",
    "# create columns for dataframe\n",
    "columns = [''.join(random.choices(string.ascii_lowercase, k=5)) for _ in range(18)]\n",
    "print(columns)"
   ]
  },
  {
   "cell_type": "code",
   "execution_count": null,
   "id": "8bc8bc91",
   "metadata": {},
   "outputs": [],
   "source": [
    "# connect to the database\n",
    "import numpy as np\n",
    "import pandas as pd\n",
    "import sqlite3\n",
    "\n",
    "conn = sqlite3.connect('week12.db')"
   ]
  },
  {
   "cell_type": "markdown",
   "id": "4e5a957f",
   "metadata": {},
   "source": [
    "## Selecting Features from Tables\n",
    "\n",
    "Select features from the appropriate tables using the following information:\n",
    "\n",
    "* Table1: Features 01 - 09 (everything from table1)\n",
    "* Table2: Features 11, 13, 15, 17, 19\n",
    "* Table3: Features 21, 23, 25, 27"
   ]
  },
  {
   "cell_type": "code",
   "execution_count": null,
   "id": "3c2c0a04",
   "metadata": {},
   "outputs": [],
   "source": [
    "# get the features per the instructions using appropriate SQL\n",
    "\n",
    "query = '''\n",
    "SELECT ...\n",
    "FROM table1\n",
    "JOIN table2 ...\n",
    "JOIN table3 ...\n",
    "'''\n",
    "\n",
    "df = pd.read_sql_query(query, conn)\n",
    "df.drop('id', axis=1, inplace=True)\n",
    "\n",
    "print(df.shape)\n",
    "print(df.head())"
   ]
  },
  {
   "cell_type": "code",
   "execution_count": null,
   "id": "98d49e44",
   "metadata": {},
   "outputs": [],
   "source": [
    "# rename columns and shuffle\n",
    "df.columns = columns\n",
    "df = df[np.random.default_rng(seed=my_seed).permutation(df.columns.values)]\n",
    "df.head()"
   ]
  },
  {
   "cell_type": "code",
   "execution_count": null,
   "id": "dd4bbd6d",
   "metadata": {},
   "outputs": [],
   "source": [
    "# clean and prepare data\n",
    "..."
   ]
  },
  {
   "cell_type": "code",
   "execution_count": null,
   "id": "3192ec88",
   "metadata": {},
   "outputs": [],
   "source": [
    "# write code that justifies the number of clusters you will use\n",
    "..."
   ]
  },
  {
   "cell_type": "code",
   "execution_count": null,
   "id": "aa9a3576",
   "metadata": {},
   "outputs": [],
   "source": [
    "# create a cluster model and plot the cluster\n",
    "..."
   ]
  },
  {
   "cell_type": "markdown",
   "id": "b65315f6",
   "metadata": {},
   "source": [
    "### My Analysis\n",
    "\n",
    "I decided to go with ... clusters and this is why ... (replace this line)"
   ]
  }
 ],
 "metadata": {
  "kernelspec": {
   "display_name": "Python 3 (ipykernel)",
   "language": "python",
   "name": "python3"
  },
  "language_info": {
   "codemirror_mode": {
    "name": "ipython",
    "version": 3
   },
   "file_extension": ".py",
   "mimetype": "text/x-python",
   "name": "python",
   "nbconvert_exporter": "python",
   "pygments_lexer": "ipython3",
   "version": "3.9.7"
  }
 },
 "nbformat": 4,
 "nbformat_minor": 5
}
